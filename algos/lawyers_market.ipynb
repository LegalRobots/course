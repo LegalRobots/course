{
 "cells": [
  {
   "cell_type": "code",
   "execution_count": 4,
   "metadata": {
    "collapsed": false
   },
   "outputs": [
    {
     "name": "stdout",
     "output_type": "stream",
     "text": [
      "Canaris\n"
     ]
    }
   ],
   "source": [
    "preferences = [\"Dr. Schlau\",\"Larenz\",\"Canaris\"]\n",
    "case = (\"Fischer\",\"Voßkuhle\")\n",
    "\n",
    "lawyers = {\"Dr. Schlau\",\"Larenz\",\"Canaris\",\"Savigny\"}\n",
    "clients_lawyers = {\"Fischer\" :  {\"Canaris\", \"Savigny\"},\n",
    "                   \"Voßkuhle\" : {\"Dr. Schlau\", \"Larenz\"}}\n",
    "\n",
    "# Erwartete Ausgabe: Zugeordnet wird Canaris\n",
    "\n",
    "assigned_lawyer = None\n",
    "is_assigned = False\n",
    "\n",
    "i = 0\n",
    "while is_assigned == False:\n",
    "    lawyer = preferences[i]\n",
    "    if lawyer in clients_lawyers[case[1]]: # Conflict of Interest\n",
    "        i += 1\n",
    "    else: # No conflict\n",
    "        assigned_lawyer = lawyer\n",
    "        is_assigned = True\n",
    "\n",
    "print(assigned_lawyer)"
   ]
  },
  {
   "cell_type": "code",
   "execution_count": 2,
   "metadata": {
    "collapsed": false
   },
   "outputs": [
    {
     "data": {
      "text/plain": [
       "False"
      ]
     },
     "execution_count": 2,
     "metadata": {},
     "output_type": "execute_result"
    }
   ],
   "source": [
    "menge = {1,2,3}\n",
    "4 in menge"
   ]
  }
 ],
 "metadata": {
  "kernelspec": {
   "display_name": "Python [default]",
   "language": "python",
   "name": "python3"
  },
  "language_info": {
   "codemirror_mode": {
    "name": "ipython",
    "version": 3
   },
   "file_extension": ".py",
   "mimetype": "text/x-python",
   "name": "python",
   "nbconvert_exporter": "python",
   "pygments_lexer": "ipython3",
   "version": "3.6.0"
  }
 },
 "nbformat": 4,
 "nbformat_minor": 2
}
