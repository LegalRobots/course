{
 "cells": [
  {
   "cell_type": "markdown",
   "metadata": {},
   "source": [
    "# Datenbanken"
   ]
  },
  {
   "cell_type": "markdown",
   "metadata": {},
   "source": [
    "Zur Verwaltung von Daten kann man neben einfachen *Dateisystemen* auch **Datenbanksysteme** (**DBS**) verwenden. \n",
    "Datenbanksysteme bestehen aus einem **Datenbankmanagementsystem** (**DBMS**) und einer **Datenbank** (**DB**) dahinter.\n",
    "Das DBMS ist ein Programm, das auf dem eigenen Computer oder einem Server läuft.\n",
    "Am weitesten verbreitet sind **relationale DBS**, bei denen die Daten in **Tabellenform** gespeichert werden.\n",
    "Bekannte Vertreter relationaler DBS sind etwa *Microsoft SQL Server* oder *MySQL*.\n",
    "\n",
    "Eine externe Anwendung kommuniziert mit dem DBMS, indem sie **Anfragen** (*queries*) an dieses übermittelt und ggf. **Ergebnismengen** (*result sets*) als Antwort bekommt.\n",
    "Die Anwendung kann die Datenbank selbst nicht sehen, der Zugriff erfolgt immer über das DBMS als Mittler (*Kapselung* [*Encapsulation*] bzw. *Information Hiding*).\n",
    "\n",
    "Bei relationalen DBS werden Anfragen in der **Structured Query Language** (kurz: **SQL**) formuliert und als String an das DBMS übertragen. \n",
    "Diese Sprache ist grundsätzlich unabhängig vom jeweiligen DBS, wenngleich die meisten DBS nur eine Auswahl aller möglichen SQL-Befehle unterstützen.\n",
    "Mit SQL lässt sich das **Schema** der Datenbank definieren, indem man Tabellen erstellt und die Namen und **Datentypen** der Spalten festlegt.\n",
    "Außerdem stellt SQL Befehle zur Verfügung, um Datensätze anzulegen (*Create*), strukturiert abzufragen (*Read*), zu verändern (*Update*) und zu löschen (*Delete*). \n",
    "Man spricht auch von **CRUD**-Befehlen. \n",
    "\n",
    "Wenn die Daten in verschiedenen Spalten einer Tabelle voneinander abhängen, kann es zu **Anomalien** beim Anlegen, Aktualisieren und Löschen von Datensätzen kommen (*Create-*, *Update-* und *Delete-Anomalien*).\n",
    "Um solche Anomalien in relationalen Datenbanken zu vermeiden, verteilt man die Daten bei der Modellierung auf unterschiedliche Tabellen, die miteinander verknüpft sind.\n",
    "Man spricht dabei auch von **Normalisierung** und unterschiedlichen **Normalformen**.\n",
    "Für die Verknüpfung der Tabellen benötigt man Felder (Attribute), die einen Datensatz eindeutig identifizieren. Diese Felder heißen **Schlüssel** bzw. **Schlüsselkandidaten**.\n",
    "In jeder Tabelle muss mindestens eine Spalte als **Primärschlüssel** (*Primary Key*) ausgezeichnet werden. \n",
    "Setzt sich ein Schlüssel aus mehreren Spalten einer Tabelle zusammen, so spricht man von einem *zusammengesetzten Schlüssel*. \n",
    "\n",
    "Die meisten DBS können mehrere Schritte zur Änderung von Daten in **Transaktionen** (*transactions*) zusammenfassen.\n",
    "Eine Transaktion kann entweder nur ganz oder gar nicht ausgeführt werden - bei abgebrochenen Transaktionen müssen bereits ausgeführte Schritte wieder rückgängig gemacht werden (*rollback*). \n",
    "Erst wenn alle Schritte erfolgreich ausgeführt wurden, werden alle vorgenommenen Änderungen dauerhaft gespeichert (*commit*).\n",
    "Ein Programm muss dem DBS mitteilen, welche Operationen eine Transaktion bilden (bei einer Banküberweisung wäre das z.B. die entsprechende Modifikation *beider* Bankkonten).\n",
    "\n",
    "**SQLite** ist eine Programmbibliothek, die ein vollwertiges DBMS in eigene Anwendungen integriert, ohne dass dafür zusätzliche Software installiert werden muss."
   ]
  },
  {
   "cell_type": "markdown",
   "metadata": {},
   "source": [
    "## SQLite in Python\n",
    "Eine umfassende Erklärung mit zahlreichen Beispielen findet sich in der [Dokumentation](https://docs.python.org/3.6/library/sqlite3.html) des Python-Moduls. \n",
    "Die offizielle [SQLite Dokumentation](https://www.sqlite.org/docs.html) ist demgegenüber relativ unübersichtlich."
   ]
  },
  {
   "cell_type": "markdown",
   "metadata": {},
   "source": [
    "### Normale Verwendung"
   ]
  },
  {
   "cell_type": "code",
   "execution_count": null,
   "metadata": {
    "collapsed": true
   },
   "outputs": [],
   "source": [
    "# Einfacher Workflow\n",
    "\n",
    "import sqlite3\n",
    "# Einbinden der Bibliothek\n",
    "\n",
    "conn = sqlite3.connect('database.db')\n",
    "# Verbindung zu einer Datenbankdatei herstellen\n",
    "# Datei wird neu angelegt, wenn sie noch nicht existiert\n",
    "# Befehl liefert ein Connection-Objekt zurück\n",
    "\n",
    "c = conn.cursor()   \n",
    "# Liefert ein Cursor-Objekt zurück, das auf eine Ergebnismenge zeigt\n",
    "# Auf dem Cursor-Objekt lassen sich SQL-Befehle ausführen\n",
    "\n",
    "c.execute('''\n",
    "    CREATE TABLE IF NOT EXISTS tabelle ( \n",
    "        spalte1 TEXT PRIMARY KEY,\n",
    "        spalte2 TEXT);''')\n",
    "# Führt einen SQL-Befehl aus, der als String angegeben wird\n",
    "\n",
    "conn.commit()\n",
    "# Macht Schreibvorgänge dauerhaft - erst danach stehen sie \n",
    "# anderen Verbindungen zu dieser Datenbank zur Verfügung\n",
    "\n",
    "# Zurücksetzen per conn.rollback()\n",
    "\n",
    "conn.close()\n",
    "# Beendet die Verbindung"
   ]
  },
  {
   "cell_type": "code",
   "execution_count": null,
   "metadata": {},
   "outputs": [],
   "source": [
    "# Vorzugswürdige Syntax fuer den Umgang mit Transaktionen\n",
    "# - das kennen wir bereits von der Arbeit mit Dateien:\n",
    "conn = sqlite3.connect('database.db') \n",
    "\n",
    "with conn:\n",
    "    c = conn.cursor()\n",
    "    # ...\n",
    "# Der with-Block definiert eine Transaktion, wobei automatisch ein\n",
    "# commit oder rollback erfolgt."
   ]
  },
  {
   "cell_type": "code",
   "execution_count": null,
   "metadata": {
    "collapsed": true
   },
   "outputs": [],
   "source": [
    "# Sauberes Escaping (verhindert SQL-Injection)\n",
    "\n",
    "mydict = {\"eins\" : \"wert1\", \"zwei\" : \"wert2\"}\n",
    "c.execute(\"INSERT INTO tabelle VALUES (:eins, :zwei)\", mydict)\n",
    "\n",
    "mytuple = (\"wert1\", \"wert2\")\n",
    "c.execute(\"INSERT INTO tabelle VALUES (?, ?)\", mytuple)"
   ]
  },
  {
   "cell_type": "markdown",
   "metadata": {},
   "source": [
    "### Cell- und Line-Magic"
   ]
  },
  {
   "cell_type": "markdown",
   "metadata": {},
   "source": [
    "Erweiterung laden und Verbindung zur Datenbank herstellen:"
   ]
  },
  {
   "cell_type": "code",
   "execution_count": null,
   "metadata": {
    "collapsed": true
   },
   "outputs": [],
   "source": [
    "%load_ext sql\n",
    "%sql sqlite:///database.db"
   ]
  },
  {
   "cell_type": "markdown",
   "metadata": {},
   "source": [
    "#### Befehl als Cell Magic (mehrzeilige Anfragen möglich):"
   ]
  },
  {
   "cell_type": "code",
   "execution_count": null,
   "metadata": {
    "collapsed": true
   },
   "outputs": [],
   "source": [
    "%%sql\n",
    "SELECT spalte1, spalte2 FROM tabelle"
   ]
  },
  {
   "cell_type": "markdown",
   "metadata": {},
   "source": [
    "#### Befehl als Line Magic \n",
    "\n",
    "(kann als rechte Seite einer Zuweisung geschrieben werden, sodass man das Ergebnis einer Variablen zuordnen kann)"
   ]
  },
  {
   "cell_type": "code",
   "execution_count": null,
   "metadata": {
    "collapsed": true
   },
   "outputs": [],
   "source": [
    "var = %sql SELECT spalte1, spalte2 FROM tabelle\n",
    "print(var)"
   ]
  },
  {
   "cell_type": "markdown",
   "metadata": {},
   "source": [
    "## SQL"
   ]
  },
  {
   "cell_type": "markdown",
   "metadata": {},
   "source": [
    "#### Tabellen erstellen (`CREATE`) und ändern (`ALTER`):"
   ]
  },
  {
   "cell_type": "code",
   "execution_count": null,
   "metadata": {
    "collapsed": true
   },
   "outputs": [],
   "source": [
    "%%sql\n",
    "CREATE TABLE tabelle (\n",
    "    spalte1 TEXT,\n",
    "    spalte2 TEXT\n",
    ");\n",
    "ALTER TABLE tabelle ADD COLUMN spalte3 TEXT;"
   ]
  },
  {
   "cell_type": "markdown",
   "metadata": {},
   "source": [
    "#### Daten einfügen: `INSERT`"
   ]
  },
  {
   "cell_type": "code",
   "execution_count": null,
   "metadata": {
    "collapsed": true
   },
   "outputs": [],
   "source": [
    "%sql INSERT INTO tabelle (spalte1, spalte2) VALUES (\"wert1\", \"wert2\")\n",
    "%sql INSERT INTO tabelle (spalte2, spalte1) VALUES (\"wert2\", \"wert1\")\n",
    "%sql INSERT INTO tabelle (spalte1) VALUES (\"wert1\")\n",
    "%sql INSERT INTO tabelle VALUES (\"wert1\", \"wert2\")"
   ]
  },
  {
   "cell_type": "markdown",
   "metadata": {},
   "source": [
    "#### Daten bearbeiten: `UPDATE`"
   ]
  },
  {
   "cell_type": "code",
   "execution_count": null,
   "metadata": {
    "collapsed": true
   },
   "outputs": [],
   "source": [
    "%sql UPDATE tabelle SET spalte1 = \"test\"\n",
    "# Achtung: Ändert alle Datensätze!\n",
    "%sql UPDATE tabelle SET spalte1 = \"neuerwert1\" WHERE wert1 = \"wert1\"\n",
    "# Ändert alle Spalten in tabelle, auf die die WHERE-Bedingung zutrifft"
   ]
  },
  {
   "cell_type": "markdown",
   "metadata": {},
   "source": [
    "#### Daten löschen: `DELETE`"
   ]
  },
  {
   "cell_type": "code",
   "execution_count": null,
   "metadata": {
    "collapsed": true
   },
   "outputs": [],
   "source": [
    "%sql DELETE FROM tabelle\n",
    "# Achtung: Löscht alle Datensätze in der Tabelle!\n",
    "%sql DELETE FROM tabelle WHERE wert1 = \"neuerwert1\"\n",
    "# Löscht alle Datensätze aus tabelle, auf die die WHERE-Bedingung zutrifft"
   ]
  },
  {
   "cell_type": "markdown",
   "metadata": {},
   "source": [
    "#### Daten abfragen: `SELECT`"
   ]
  },
  {
   "cell_type": "code",
   "execution_count": null,
   "metadata": {
    "collapsed": true
   },
   "outputs": [],
   "source": [
    "# Abfragespalten, Bedingung, Sortierung\n",
    "# ----------------------------------------\n",
    "\n",
    "%sql SELECT * FROM tabelle\n",
    "%sql SELECT spalte1 FROM tabelle\n",
    "\n",
    "%sql SELECT spalte1, spalte2 FROM tabelle WHERE wert1 = \"neuerwert1\"\n",
    "# Mehrere Bedingungen können mit AND / OR kombiniert werden\n",
    "\n",
    "%sql SELECT * FROM tabelle ORDER BY spalte2 DESC\n",
    "%sql SELECT * FROM tabelle ORDER BY spalte1 ASC, spalte2 DESC\n",
    "# Sortierung kann mit ASC (ascending, aufsteigend) oder \n",
    "# DESC (descending, absteigend) festgelegt werden\n",
    "\n",
    "\n",
    "# Aggregatfunktionen\n",
    "# ----------------------------------------\n",
    "\n",
    "%sql SELECT COUNT(*) FROM tabelle\n",
    "%sql SELECT MAX(spalte2) FROM tabelle\n",
    "\n",
    "%sql SELECT spalte1, COUNT(*) FROM tabelle GROUP BY spalte1\n",
    "# Aggregatfunktion wird auf die gesamte Gruppe angewendet\n",
    "\n",
    "%sql SELECT spalte1, COUNT(*) AS zaehler FROM tabelle WHERE spalte1 = \"neuerwert1\" GROUP BY spalte1 HAVING zaehler > 5\n",
    "# AS weist dem Feld eine bestimmte Bezeichnung zu\n",
    "# WHERE wird vor der Gruppierung als Filter angewendet\n",
    "# HAVING bezieht sich auf das gruppierte Ergebnis\n",
    "\n",
    "\n",
    "# Verknüpfung von Tabellen\n",
    "# ----------------------------------------\n",
    "%sql SELECT buecher.titel, autoren.name FROM buecher LEFT JOIN autoren ON buecher.autorenID = autoren.autorenID\n",
    "# LEFT JOIN füllt die Spalte autoren.name mit NULL, falls kein Datensatz gefunden wird"
   ]
  },
  {
   "cell_type": "markdown",
   "metadata": {},
   "source": [
    "## Zugriff auf Ergebnisse in Python:"
   ]
  },
  {
   "cell_type": "code",
   "execution_count": null,
   "metadata": {
    "collapsed": true
   },
   "outputs": [],
   "source": [
    "c.execute(\"SELECT * FROM tabelle\")\n",
    "\n",
    "resultlist = c.fetchall()\n",
    "# gibt eine Liste mit allen Datensätzen als Tupel zurück"
   ]
  },
  {
   "cell_type": "code",
   "execution_count": null,
   "metadata": {
    "collapsed": true
   },
   "outputs": [],
   "source": [
    "c.execute(\"SELECT * FROM tabelle\")\n",
    "\n",
    "result = c.fetchone()\n",
    "# gibt den Datensatz zurück, auf den das Cursor-Objekt gerade zeigt\n",
    "# das Cursor-Objekt zeigt dann auf den nächsten Datensatz"
   ]
  },
  {
   "cell_type": "code",
   "execution_count": null,
   "metadata": {
    "collapsed": true
   },
   "outputs": [],
   "source": [
    "c.execute(\"SELECT * FROM tabelle\")\n",
    "for row in c:     # Der cursor ist iterable\n",
    "    # do something\n",
    "    print(row)"
   ]
  }
 ],
 "metadata": {
  "kernelspec": {
   "display_name": "Python 3",
   "language": "python",
   "name": "python3"
  },
  "language_info": {
   "codemirror_mode": {
    "name": "ipython",
    "version": 3
   },
   "file_extension": ".py",
   "mimetype": "text/x-python",
   "name": "python",
   "nbconvert_exporter": "python",
   "pygments_lexer": "ipython3",
   "version": "3.6.2"
  }
 },
 "nbformat": 4,
 "nbformat_minor": 2
}
