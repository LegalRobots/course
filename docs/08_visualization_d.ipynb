{
 "cells": [
  {
   "cell_type": "markdown",
   "metadata": {
    "deletable": true,
    "editable": true
   },
   "source": [
    "# Visualisierung"
   ]
  },
  {
   "cell_type": "markdown",
   "metadata": {
    "collapsed": true,
    "deletable": true,
    "editable": true
   },
   "source": [
    "**Visualisierung** bezeichnet im Allgemeinen den Prozess, durch den abstrakte Daten und Zusammenhänge graphisch sichtbar gemacht werden. \n",
    "\n",
    "Im Alltag benutzen wir zur Visualisierung oft standardisierte **Diagramme** (*charts*), die jeweils einige typische Merkmale aufweisen - man denke nur an Balken-, Kuchen- und Liniendiagramme. \n",
    "Diagramme sind allerdings nur konkrete Instanzen abstrakterer Objekte, die **Grafiken** (*graphics*) bzw. **Graphen** (*graphs*) genannt werden. \n",
    "Grafiken lassen sich nach bestimmten Regeln aus einer begrenzten Menge von Elementen zusammensetzen (lies dazu *Bertin*, Sémiologie graphique, oder aus jüngerer Zeit *Wilkinson*, The Grammar of Graphics).\n",
    "Im Programmierjargon nennt man Grafiken auch **Plots**; der Vorgang ihrer Erstellung wird als **Plotting** bezeichnet.\n",
    "\n",
    "Die Unterscheidung zwischen Diagrammen und Grafiken ist für uns unter anderem deshalb relevant, weil die Visualisierungsbibliotheken, die in den einzelnen Programmiersprachen zur Verfügung stehen, ganz andere APIs (*Application Programming Interfaces*) anbieten, je nachdem, ob sie sich eher als *Charting*-Bibliotheken oder als *Graphing*-Bibliotheken verstehen. "
   ]
  },
  {
   "cell_type": "markdown",
   "metadata": {
    "deletable": true,
    "editable": true
   },
   "source": [
    "## Visualisierung in Python\n",
    "\n",
    "Für Python gibt es eine Vielzahl von Bibliotheken zur Visualisierung von Daten, die alle ihre Stärken und Schwächen haben. \n",
    "Mit welcher Bibliothek man arbeiten sollte, hängt von den Anforderungen des jeweiligen Projekts ebenso ab wie von persönlichen Präferenzen.\n",
    "Als potentiell interessante Bibliotheken seien genannt (in alphabetischer Reihenfolge und bewusst ohne nähere Erläuterungen):\n",
    "\n",
    "* [`bokeh`](http://bokeh.pydata.org/en/latest/)\n",
    "* [`holoviews`](http://holoviews.org/)\n",
    "* [`matplotlib`](http://matplotlib.org/)\n",
    "* [`plotly`](https://plot.ly/python/)\n",
    "* [`seaborn`](https://seaborn.pydata.org/)\n",
    "\n",
    "Einige Fragen, die man sich bei der Auswahl der Bibliothek stellen kann, sind:\n",
    "* Stellen die Datenstrukturen, in denen ich meine Daten halte, den Zugang zu einer bestimmten Bibliothek bereits zur Verfügung?\n",
    "* Sollen die Grafiken 2D oder 3D sein? Interaktiv oder statisch? Welche Arten von Grafiken werde ich voraussichtlich benötigen?\n",
    "* Wie viel möchte ich selbst anpassen können bzw. müssen? Auf welchem Abstraktionsniveau möchte ich Anpassungen vornehmen?\n",
    "* Wie gut ist die Bibliothek dokumentiert? Welche Lern- und Support-Ressourcen gibt es? \n",
    "* Wie sieht die API aus? Liegt mir die Syntax?"
   ]
  },
  {
   "cell_type": "markdown",
   "metadata": {
    "deletable": true,
    "editable": true
   },
   "source": [
    "### Speziell: matplotlib\n",
    "\n",
    "`matplotlib` ist eine der ältesten und am weitesten verbreiteten Plotting-Bibliotheken für `python`. \n",
    "Sie wurde der unter Naturwissenschaftlern verbreiteten (kommerziellen) MATLAB-Software nachempfunden, was die Syntax ein wenig *gewöhnungsbedürftig* macht. \n",
    "Wenn man die Grundprinzipien allerdings einmal verinnerlicht hat, lassen sich mit `matplotlib` schnell ansehnliche Grafiken erstellen. \n",
    "\n",
    "Die Bibliothek ist grundsätzlich auf 2D-Plotting ohne Interaktionen ausgelegt, hat aber auch eine 3D-Erweiterung;\n",
    "nutzt man `matplotlib` in Jupyter Notebook, so kann man mit Widgets einzelne Interaktionen ermöglichen. \n",
    "\n",
    "Wenn wir die Grafiken im Notebook sehen wollen, können wir einen von zwei Modi nutzen:\n",
    "* `%matplotlib inline`: statisches Inline-Plotting\n",
    "* `%matplotlib notebook`: Inline-Plotting mit Interaktionsmöglichkeiten\n",
    "\n",
    "Wir verwenden `%matplotlib notebook` und müssen dabei beachten, dass stets in die zuletzt geöffnete Grafik gezeichnet wird, solange wir diese nicht schließen oder nochmals `%matplotlib notebook` aufrufen.\n",
    "\n",
    "Nachfolgend werden einige wichtige Syntaxelemente für den Umgang mit `matplotlib` in Jupyter Notebook demonstriert. \n",
    "Für einen Großteil der gezeigten Anpassungen gibt es in `matplotlib` verschiedene Wege, um ans Ziel zu kommen. \n",
    "Die meisten Funktionen haben viele Parameter, von denen ein Großteil optional ist. \n",
    "Insgesamt ist der Stil von `matplotlib` nicht sehr *pythonic*, was dazu führt, dass man auch als 'erfahrener' User im Regelbetrieb immer einiges nachschlagen muss. \n",
    "Die meisten Fragen haben sich andere aber bereits gestellt, sodass man mit den klassischen Methoden (Dokumentation, Google, Stackoverflow) relativ weit kommt."
   ]
  },
  {
   "cell_type": "code",
   "execution_count": null,
   "metadata": {
    "collapsed": false,
    "deletable": true,
    "editable": true
   },
   "outputs": [],
   "source": [
    "# Import und Notebook-Modus\n",
    "import matplotlib.pyplot as plt\n",
    "%matplotlib notebook\n",
    "\n",
    "# Fuer Zufallszahlen\n",
    "import numpy as np\n",
    "\n",
    "# Allgemeine Anzeigeoptionen - plt.rcParams.keys() zum Nachschlagen global setzbarer Parameter\n",
    "plt.rcParams['figure.figsize'] = (8,12)           # Standard-Groesse der Grafik\n",
    "plt.rcParams['font.size'] = 8                     # Standard-Schriftgroesse\n",
    "plt.rcParams['font.family'] = 'Times New Roman'   # Standard-Schriftfamilie\n",
    "\n",
    "# Figure Object und Axes\n",
    "fig, (ax1, ax2, ax3) = plt.subplots(3, sharex=True, sharey=True)     # Grafik und Subplots erstellen\n",
    "\n",
    "# Mock Data\n",
    "xs1, ys1 = np.random.randint(1,200,10), np.random.randint(1,100,10)\n",
    "xs2, ys2 = np.random.randint(1,200,10), np.random.randint(1,100,10)\n",
    "\n",
    "# Scatter Chart im ersten Subplot\n",
    "ax1.scatter(xs1, ys1, color='k', marker='d')      # x- und y-Koordinaten werden \n",
    "                                                  # separat mitgegeben\n",
    "ax1.scatter(xs2, ys2, color='r', marker='*')      # color und marker sind optionale,\n",
    "                                                  # namentlich bezeichnete Argumente\n",
    "ax1.set_title('Scatter Chart', fontsize=12)       # Titel des Subplots setzen und \n",
    "                                                  # Groesse anpassen\n",
    "\n",
    "# Line Chart im zweiten Subplot\n",
    "ax2.plot(xs1, ys1, color='k')\n",
    "ax2.plot(xs2, ys2, color='r')\n",
    "ax2.set_title('Line Chart')\n",
    "\n",
    "# Bar Chart im dritten Subplot\n",
    "ax3.bar(xs1, ys1, color='k', alpha=0.5, label='Datensatz 1') # alpha bestimmt die Transparenz\n",
    "ax3.bar(xs2, ys2, color='r', alpha=0.5, label='Datensatz 2') # label wird fuer Legende benoetigt\n",
    "ax3.set_title('Bar Chart')\n",
    "\n",
    "# Anpassungen an den Achsen\n",
    "plt.xticks(range(0,201,10))                        # Markierungen auf der x-Achse\n",
    "plt.yticks(range(0,101,10))                        # Markierungen auf der y-Achse\n",
    "for ax in (ax1, ax2, ax3):                         # Iteration ueber alle Subplots\n",
    "    ax.xaxis.set_ticks_position('both')            # x-Ticks an beiden Seiten\n",
    "    ax.yaxis.set_ticks_position('both')            # y-Ticks an beiden Seiten\n",
    "    ax.set_xlim(0,200)                             # x-Min und x-Max anpassen\n",
    "    ax.set_ylim(0,100)                             # y-Min und y-Max anpassen\n",
    "\n",
    "# Legende in Subplot 3    \n",
    "ax3.legend(loc=2)                                  # Legende anpassen\n",
    "\n",
    "# Globaler Titel\n",
    "plt.suptitle(\"Klassische Charts\", fontsize=14)     # Gesamt-Ueberschrift\n",
    "\n",
    "# Layout-Anpassungen\n",
    "plt.tight_layout()                                 # Anpassung des Layouts (besonders bei \n",
    "                                                   # Subplots wichtig)\n",
    "plt.subplots_adjust(top=0.925, hspace=0.2)         # Weitere Anpassung fuer bessere \n",
    "                                                   # Ueberschriftenpositionierung\n",
    "\n",
    "plt.show()                                         # Anzeige der Grafik (im Inline-Modus \n",
    "                                                   # eigentlich ueberfluessig)"
   ]
  }
 ],
 "metadata": {
  "kernelspec": {
   "display_name": "Python [default]",
   "language": "python",
   "name": "python3"
  },
  "language_info": {
   "codemirror_mode": {
    "name": "ipython",
    "version": 3
   },
   "file_extension": ".py",
   "mimetype": "text/x-python",
   "name": "python",
   "nbconvert_exporter": "python",
   "pygments_lexer": "ipython3",
   "version": "3.6.0"
  }
 },
 "nbformat": 4,
 "nbformat_minor": 2
}
