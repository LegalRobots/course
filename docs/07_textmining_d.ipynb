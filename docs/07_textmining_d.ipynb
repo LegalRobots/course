{
 "cells": [
  {
   "cell_type": "markdown",
   "metadata": {
    "deletable": true,
    "editable": true
   },
   "source": [
    "# Text Mining"
   ]
  },
  {
   "cell_type": "markdown",
   "metadata": {
    "deletable": true,
    "editable": true
   },
   "source": [
    "**Natural Language Processing**, kurz **NLP**, ist ein Forschungsfeld an der Schnittstelle zwischen Informatik (*Computer Science*), Linguistik (*Linguistics*) und Künstlicher Intelligenz (*Artificial Intelligence*, *AI*). NLP zielt darauf ab, Computern das 'Verständnis' von natürlicher Sprache zur Erledigung nützlicher Aufgaben zu ermöglichen. \n",
    "Die Methoden, die dabei zum Einsatz kommen, werden ebenfalls unter dem Oberbegriff NLP zusammengefasst. \n",
    "**Text Mining** betrifft die *Extraktion von Informationen aus Texten* und lässt sich als Teilmenge von NLP begreifen.\n",
    "\n",
    "Eine Sammlung von Dokumenten, die dazu bestimmt ist, mit Werkzeugen der Sprachanalyse untersucht zu werden, nennt man einen **Korpus**.\n",
    "Eine Sequenz von NLP-Schritten bezeichnet man auch als **NLP Pipeline**.\n",
    "Ihre Hauptelemente sind die **morphologische Analyse**, die **syntaktische Analyse** und die **semantische Interpretation** natürlicher Sprache.\n",
    "Je nachdem, ob die natürliche Sprache (*language*) in Form von Gesprochenem (*speech*) oder in Form von Geschriebenem vorliegt, sind am Beginn der NLP Pipeline unterschiedliche Vorbereitungsschritte erforderlich.\n",
    "Das ist bei Gesprochenem in der Regel die **phonologische Analyse** (*phonological analysis*); bei Geschriebenem können es **Texterkennung** (kurz: **OCR**, von *optical character recognition*), **Tokenisierung** (*tokenization*), d.h. die Aufspaltung des Texts in Elemente auf Wortebene, und **Sentence Splitting** sein.\n",
    "\n",
    "Nach ihrer Strategie zur Lösung von Aufgaben unterscheidet man (nicht nur im Bereich NLP) **regelbasierte Verfahren** und **statististische Verfahren**, \n",
    "wobei sich die Forschung (nicht nur im Bereich NLP) auf letztere konzentriert, seit die statistische Auswertung großer Datenmengen technisch möglich ist."
   ]
  },
  {
   "cell_type": "markdown",
   "metadata": {
    "deletable": true,
    "editable": true
   },
   "source": [
    "## Speziell: Reguläre Ausdrücke (Regex)\n",
    "\n",
    "**Reguläre Ausdrücke**, kurz **Regex** (von *Regular Expressions*), sind eines der ältesten und zugleich leistungsfähigsten Werkzeuge des regelbasierten Text Mining. \n",
    "Mit ihrer Hilfe können wir Texte nach Mustern durchsuchen, die wir vorher spezifiziert haben. \n",
    "Jedes Regex-Setup hat daher mindestens drei Komponenten:\n",
    "* einen **Text**, der durchsucht wird;\n",
    "* ein **Muster**, nach dem der Text durchsucht wird; und \n",
    "* eine **Funktion**, welche die eigentliche Suche vornimmt, dazu Text und Muster als Argumente erhält (oder als Methode auf Text oder Muster aufgerufen wird) und ggf. ihre Resultate zurückgibt.\n",
    "\n",
    "Da nur Muster gefunden werden, die den ausformulierten Regeln unserer Spezifikation entsprechen, sind Regex vor allem für Texte aus Domänen geeignet, die eine sehr regelhafte und in ihrer Regelhaftigkeit gut verstandene Sprache verwenden - beispielsweise das Recht in seiner Ausprägung als Gerichtsentscheidungen.\n",
    "\n",
    "In den meisten höheren Programmiersprachen gibt es einige Regex-basierte Methoden zur Textmanipulation, die man unmittelbar auf String-Objekten aufrufen kann. \n",
    "Darüber hinaus existieren in der Regel spezielle Regex-Module.\n",
    "Diese orientieren sich an allgemeinen Regex-Prinzipien und stellen klassische Regex-Funktionalitäten in programmiersprachenspezifischer Syntax zur Verfügung.\n",
    "\n",
    "Pythons Regex-Modul heißt `re` und kann unter diesem Namen importiert werden. \n",
    "Die vollständige Dokumentation findet sich [hier](https://docs.python.org/3/library/re.html); \n",
    "nachfolgend sind lediglich einige zentrale Syntaxelemente zusammengestellt."
   ]
  },
  {
   "cell_type": "code",
   "execution_count": null,
   "metadata": {
    "collapsed": true,
    "deletable": true,
    "editable": true
   },
   "outputs": [],
   "source": [
    "# Pythons Regex-Modul importieren\n",
    "import re"
   ]
  },
  {
   "cell_type": "code",
   "execution_count": null,
   "metadata": {
    "collapsed": false,
    "deletable": true,
    "editable": true
   },
   "outputs": [],
   "source": [
    "# Grundlegende Funktionsweise\n",
    "# ---------------------------\n",
    "\n",
    "# Muster spezifizieren, Sonderzeichen ggf. escapen\n",
    "pattern = \"Art\\. \\d+\"               # \\d (digit) steht für eine Ziffer\n",
    "\n",
    "# Zu durchsuchenden String angeben (i.d.R. Text aus Datei einlesen)\n",
    "string = \"Das allgemeine Persönlichkeitsrecht (Art. 2 Abs. 1 i.V.m. Art. 1 Abs. 1 GG)...\"\n",
    "\n",
    "# Suche nur nach erstem Treffer\n",
    "re.search(pattern, string)          # gibt Match Object zurueck, falls Match, sonst None\n",
    "re.search(pattern, string).group(0) # 'Art. 2' - gibt ersten Treffer als String zurueck\n",
    "\n",
    "# Suche nach allen Treffern\n",
    "re.findall(pattern, string)         # ['Art. 2', 'Art. 1'] - gibt Liste der Treffer zurueck\n",
    "\n",
    "# Mit Flags die Art und Weise der Suche veraendern (mehrere Flags mit | trennen)\n",
    "re.search(pattern, string, re.DOTALL | re.IGNORECASE) \n",
    "\n",
    "\n",
    "# Alternative Suchmoeglichkeit: Regex-Objekte (performanter, wenn Regex haeufiger benutzt wird)\n",
    "prog = re.compile(pattern)          # Regex kompilieren...\n",
    "result = prog.findall(string)       # ...und dann Methoden auf Objekt aufrufen"
   ]
  },
  {
   "cell_type": "code",
   "execution_count": null,
   "metadata": {
    "collapsed": false,
    "deletable": true,
    "editable": true
   },
   "outputs": [],
   "source": [
    "# Pattern Construction\n",
    "# ---------------------------\n",
    "\n",
    "# Special Characters: . ^ $ * + ? { } [ ] \\ | ( ) \\A \\b \\B \\d \\D \\s \\S \\w \\W \\Z\n",
    "\n",
    "# Strukturierung des Ausdrucks\n",
    "# ---------------------------\n",
    "# .             - ein beliebiges Zeichen\n",
    "# \\.            - ein Punkt (Sonderzeichen muessen escaped werden)\n",
    "# [...]         - Menge (set) von Zeichen, die gematcht werden koennen\n",
    "# [^...]        - Menge (set) von Zeichen, die nicht gematcht werden duerfen\n",
    "# [a-z]         - Abkuerzung fuer haeufige Zeichenmengen (hier: Kleinbuchstaben)\n",
    "# \\W            - Abkuerzung fuer [^a-zA-Z0-9_], aehnlich die anderen Buchstaben-Sonderzeichen\n",
    "# (...)         - Gruppe, auf die mit .group(1) etc. zugegriffen werden kann\n",
    "# (?:...)       - Gruppe ohne spaetere Zugriffsmoeglichkeit (non-capturing group)\n",
    "# (...|...)     - Alternativen bzw. Varianten innerhalb einer Gruppe\n",
    "\n",
    "# Anzahlbezeichnungen hinter den Zeichen oder Gruppierungen\n",
    "# ---------------------------\n",
    "# *             - 0 oder mehr\n",
    "# +             - 1 oder mehr\n",
    "# ?             - 0 oder 1, hinter anderen Ausdruecken (zB *, +, {min,max}) idR 'so wenige wie moeglich' (non-greedy)\n",
    "# (kein Zusatz) - genau 1\n",
    "# {n}           - genau n\n",
    "# {min,max}     - zwischen (inklusiv) min und max (falls eine Grenze fehlt, ist das Intervall halboffen)\n",
    "\n",
    "# Kontextabhaengiges Matching\n",
    "# ---------------------------\n",
    "# (?=...)       - Positive Lookahead Assertion (matche nur, wenn danach...)\n",
    "# (?!...)       - Negative Lookahead Assertion (matche nicht, wenn danach...)\n",
    "# (?<=...)      - Positive Lookbehind Assertion (matche nur, wenn davor...)\n",
    "# (?<!...)      - Negative Lookbehind Assertion (matche nur, wenn danach...)\n",
    "\n",
    "testpattern = \"[^\\W]+?[Rr]echt.*?(?=\\s)\"   # Verstaendnistest\n",
    "re.findall(testpattern, string);           # ['Persönlichkeitsrecht']"
   ]
  },
  {
   "cell_type": "code",
   "execution_count": null,
   "metadata": {
    "collapsed": false,
    "deletable": true,
    "editable": true
   },
   "outputs": [],
   "source": [
    "# Backslash Problematik\n",
    "# ---------------------------\n",
    "\n",
    "challenge = \"\\section{Title}\"\n",
    "re.search('\\section', challenge)     # Kein Match, da \\s von re als Special Character behandelt\n",
    "re.search('\\\\section', challenge)    # Kein Match, da Backslash in Python Special Character\n",
    "re.search('\\\\\\\\section', challenge)  # Match in normaler Notation\n",
    "re.search(r'\\\\section', challenge);  # Raw String Notation (keine Sonderbehandlung von Backslashes in Python)"
   ]
  },
  {
   "cell_type": "code",
   "execution_count": null,
   "metadata": {
    "collapsed": false,
    "deletable": true,
    "editable": true
   },
   "outputs": [],
   "source": [
    "# Sonstiges Text Munging\n",
    "# ---------------------------\n",
    "\n",
    "msg = \"Hello, World!\"\n",
    "\n",
    "# Text an Treffern splitten\n",
    "sep = \"\\s\"\n",
    "re.split(sep, msg)                           # Gibt Liste mit den Textteilen zurueck\n",
    "\n",
    "# Treffer ersetzen\n",
    "pat = \"Hello\"\n",
    "repl = \"Bonjour\"\n",
    "re.sub(pat, repl, msg)                       # Gibt neuen String mit Ersetzungen zurueck\n",
    "\n",
    "# Ganz ohne Regex \n",
    "# (weitere Funktionen: s. Tab-Taste, wenn Cursor auf String-Variable zeigt)\n",
    "# ---------------------------\n",
    "\n",
    "# Anfaenge und Enden auf Matches testen\n",
    "msg.endswith('!')                            # True\n",
    "msg.startswith('Ola')                        # False\n",
    "\n",
    "# Ersetzungen vornehmen\n",
    "msg.replace('Hello', 'Bonjour')              # aequivalent zu re.sub(pat, repl, msg)\n",
    "\n",
    "# Zeichen zaehlen\n",
    "msg.count('l')                               # 3\n",
    "{char:msg.count(char) for char in set(msg)}; # Dict mit Zeichen und Haeufigkeit"
   ]
  }
 ],
 "metadata": {
  "kernelspec": {
   "display_name": "Python 3",
   "language": "python",
   "name": "python3"
  },
  "language_info": {
   "codemirror_mode": {
    "name": "ipython",
    "version": 3
   },
   "file_extension": ".py",
   "mimetype": "text/x-python",
   "name": "python",
   "nbconvert_exporter": "python",
   "pygments_lexer": "ipython3",
   "version": "3.6.0"
  }
 },
 "nbformat": 4,
 "nbformat_minor": 2
}
