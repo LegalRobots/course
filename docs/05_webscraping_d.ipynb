{
 "cells": [
  {
   "cell_type": "markdown",
   "metadata": {
    "deletable": true,
    "editable": true
   },
   "source": [
    "# Webscraping"
   ]
  },
  {
   "cell_type": "markdown",
   "metadata": {
    "deletable": true,
    "editable": true
   },
   "source": [
    "**Web Scraping** (von *to scrape* = *schürfen*) bezeichnet die Extraktion von Daten aus Websites.\n",
    "\n",
    "Websites werden in der **Hypertext Markup Language** (kurz: **HTML**) beschrieben und vom **Client** über das **Hypertext Transfer Protocol** (kurz: **HTTP**) angefragt. \n",
    "Der Client erhält von einem **Server** (von *to serve* = *servieren, bedienen*) via HTTP ein HTML-Dokument als Antwort. \n",
    "Jede Antwort beinhaltet auch einige Meta-Informationen, u.a. einen **HTTP Status Code**. \n",
    "Wenn der Server die angefragte Website liefern kann, lautet der HTTP Status Code **200 OK**; \n",
    "kann die Website nicht gefunden werden, lautet der Code **404 Not Found** (es gibt noch viele [weitere HTTP Status Codes](https://www.iana.org/assignments/http-status-codes/http-status-codes.xhtml)).\n",
    "Wenn wir im Web surfen, kümmert sich unser **Webbrowser** als Client im Hintergrund um den Datenaustausch mit den einzelnen Servern und führt dabei das HTTP aus.\n",
    "\n",
    "Die Sprache HTML basiert auf der **Standard Generalized Markup Language** (**SGML**), auf der auch die **Extensible Markup Language** (**XML**) aufbaut. \n",
    "Beide Sprachen bestehen aus **Elementen** (auch: **Tags**), die wieder andere Elemente enthalten können. \n",
    "Es gibt in der Regel ein **Wurzelelement** (*root*), sodass ein **Baum** (*tree*) aus Elementen entsteht.\n",
    "Dokumente, welche die allgemeinen Strukturvorgaben einhalten, heißen **wohlgeformt** (**well-formed**)."
   ]
  },
  {
   "cell_type": "markdown",
   "metadata": {
    "deletable": true,
    "editable": true
   },
   "source": [
    "### Beispiel für HTML\n",
    "Eine Einführung in die Sprache findet sich [hier](https://www.w3schools.com/html/default.asp). \n",
    "Die verfügbaren Elemente sind fest vorgegeben:"
   ]
  },
  {
   "cell_type": "code",
   "execution_count": null,
   "metadata": {
    "collapsed": false,
    "deletable": true,
    "editable": true
   },
   "outputs": [],
   "source": [
    "<html>\n",
    "<body>\n",
    "    <h1>I am displayed as a Heading</h1>\n",
    "    <p>I am a paragraph.</p>\n",
    "</body>\n",
    "</html>"
   ]
  },
  {
   "cell_type": "markdown",
   "metadata": {
    "deletable": true,
    "editable": true
   },
   "source": [
    "In Jupyter können wir uns den zu erwarteten Output von HTML-Code über ein Cell Magic anzeigen lassen:"
   ]
  },
  {
   "cell_type": "code",
   "execution_count": null,
   "metadata": {
    "collapsed": false,
    "deletable": true,
    "editable": true
   },
   "outputs": [],
   "source": [
    "%%html\n",
    "<html>\n",
    "<body>\n",
    "    <h1>I am displayed as a Heading</h1>\n",
    "    <p>I am a paragraph.</p>\n",
    "</body>\n",
    "</html>"
   ]
  },
  {
   "cell_type": "markdown",
   "metadata": {
    "deletable": true,
    "editable": true
   },
   "source": [
    "### Beispiel für XML\n",
    "Eine Einführung in die Sprache findet sich [hier](https://www.w3schools.com/xml/default.asp).\n",
    "Es können beliebige Elemente verwendet werden. \n",
    "Die Struktur wird in einer **Document Type Definition** (kurz: **DTD**, Einführung [hier](https://www.w3schools.com/xml/xml_dtd_intro.asp)) oder mittels **XML-Schema** (Einführung [hier](https://www.w3schools.com/xml/schema_intro.asp)) festgelegt.\n",
    "Auf diese Weise lassen sich eigene Sprachen für die Struktur von Daten erzeugen.\n",
    "Dokumente, die diese festgelegte Struktur verletzen, heißen **nicht valide** (**not valid**)."
   ]
  },
  {
   "cell_type": "code",
   "execution_count": null,
   "metadata": {
    "collapsed": true,
    "deletable": true,
    "editable": true
   },
   "outputs": [],
   "source": [
    "<email>\n",
    "    <to>A nice person</to>\n",
    "    <from>Anonymous</from>\n",
    "    <subject>Foo</heading>\n",
    "    <content>Bar</body>\n",
    "</email>"
   ]
  },
  {
   "cell_type": "markdown",
   "metadata": {
    "deletable": true,
    "editable": true
   },
   "source": [
    "## Beautiful Soup"
   ]
  },
  {
   "cell_type": "markdown",
   "metadata": {
    "deletable": true,
    "editable": true
   },
   "source": [
    "Eine bekannte Python-Bibliothek für Scraping ist **Beautiful Soup**.\n",
    "Sie enthält u.a. **Parser** für XML- und HTML-Dokumente.\n",
    "Parser sind Programmteile, die aus einem einfachen Text eine bestimmte *Struktur* ermitteln.\n",
    "Bei der Einarbeitung hilft die umfangreiche [Dokumentation](https://www.crummy.com/software/BeautifulSoup/bs4/doc/) mit vielen Beispielen.\n",
    "\n",
    "> **Technischer Hinweis:** \n",
    ">\n",
    "> Falls du das Untenstehende in einer virtuellen Umgebung ausführst und dabei eine Fehlermeldung bekommst, die darauf hindeutet, dass der XML-Parser nicht gefunden werden kann, versuche es mit der Ausführung im *Root Environment*."
   ]
  },
  {
   "cell_type": "code",
   "execution_count": null,
   "metadata": {
    "collapsed": false,
    "deletable": true,
    "editable": true
   },
   "outputs": [],
   "source": [
    "from bs4 import BeautifulSoup\n",
    "\n",
    "dokument = \"\"\"\n",
    "<buecher>\n",
    "    <buch>\n",
    "        <autor>Georg Jellinek</autor>\n",
    "        <titel>System der subjektiven öffentlichen Rechte</titel>\n",
    "    </buch>\n",
    "    <buch>\n",
    "        <autor>Karl Larenz</autor>\n",
    "        <titel>Methodenlehre der Rechtswissenschaft</titel>\n",
    "    </buch>\n",
    "</buecher>\n",
    "\"\"\"\n",
    "\n",
    "soup = BeautifulSoup(dokument, 'xml') \n",
    "# dokument kann ein string oder ein filehandle sein\n",
    "# der zweite Parameter gibt den Parser an: Gängig sind 'xml' und 'html'\n",
    "\n",
    "books = soup.find_all('buch')\n",
    "# gibt eine Liste mit allen 'buch'-Elementen zurück\n",
    "\n",
    "print(books[0].titel)\n",
    "print(books[0].find('titel'))\n",
    "# mehrere Möglichkeiten, auf die Kindelemente zuzugreifen\n",
    "# es wird dabei das vollständige Element ausgegeben\n",
    "\n",
    "print(books[0].titel.get_text())\n",
    "# Methode .get_text() liefert nur den Text des Elements"
   ]
  }
 ],
 "metadata": {
  "kernelspec": {
   "display_name": "Python [default]",
   "language": "python",
   "name": "python3"
  },
  "language_info": {
   "codemirror_mode": {
    "name": "ipython",
    "version": 3
   },
   "file_extension": ".py",
   "mimetype": "text/x-python",
   "name": "python",
   "nbconvert_exporter": "python",
   "pygments_lexer": "ipython3",
   "version": "3.6.0"
  }
 },
 "nbformat": 4,
 "nbformat_minor": 2
}
