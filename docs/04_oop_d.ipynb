{
 "cells": [
  {
   "cell_type": "markdown",
   "metadata": {
    "deletable": true,
    "editable": true
   },
   "source": [
    "# Objektorientierte Programmierung (OOP)"
   ]
  },
  {
   "cell_type": "markdown",
   "metadata": {
    "deletable": true,
    "editable": true
   },
   "source": [
    "Zur Klassifizierung von Programmiersprachen unterscheidet verschiedene Programmierparadigmen (s. Basics), die bestimmen, welchem gedanklichen Konzept der Programmcode in der Regel folgt. \n",
    "Viele Programmiersprachen sind auf ein bestimmtes Programmierparadigma ausgerichtet, lassen aber auch Elemente im Stil anderer Programmierparadigmen zu.\n",
    "In Python lässt sich nach vielen verschiedenen Paradigmen programmieren (*multi-paradigm language*), unter anderem nach dem **objektorientierten Programmierparadigma**. \n",
    "Hier sind Programme nicht einfach Folgen von Anweisungen, sondern sie beschreiben, wie **Objekte** miteinander interagieren. \n",
    "Jedes Objekt besitzt eine eindeutige Identität und kann bestimmte Eigenschaften (sog. **Atribute**) und Fähigkeiten (sog. **Methoden**) haben. \n",
    "\n",
    "> Konstellationen aus der realen Welt lassen sich damit mühelos in Einklang bringen: \n",
    "> Die Kaffeetasse vor uns auf dem Tisch können wir als Objekt betrachten; sie hat bestimmte Eigenschaften, z.B. eine Farbe, ein Gewicht, ein Alter, einen Füllstand etc. \n",
    "> Obwohl die Tasse unseres Bürokollegen möglicherweise vom selben Hersteller stammt und optisch nicht von unserer zu unterscheiden ist, handelt es sich doch um unterschiedliche Tassen - sie besitzen nicht die gleiche Identität.\n",
    "\n",
    "In Python ist jedes *etwas* ein Objekt, egal ob es sich um eine Zeichenkette, eine Zahl, eine Liste, eine Funktion, eine Klasse oder um ein ganzes Modul handelt.\n",
    "\n",
    "In Programmiersprachen, die dem objektorientierten Programmierparadigma folgen, besitzen Objekte (mindestens) einen **Typ** (*type*). \n",
    "Typen werden beschrieben, indem man eine **Klasse** (*class*) von Objekten definiert. Dabei legt man fest, welche Attribute (nicht unbedingt: welche Attributwerte) und Methoden alle Objekte dieser Klasse haben. \n",
    "Ein konkretes Objekt ist dann eine **Instanz** (*instance*) dieser Klasse. \n",
    "Erzeugt man ein neues Objekt, spricht man daher auch von **Instantiierung** der entsprechenden Typ-Klasse. \n",
    "Die Attribute jeder Instanz können unterschiedliche Werte haben (man spricht auch von **Instanzattributen**).\n",
    "Daneben kann es Attribute geben, die nicht zu einer bestimmten Instanz gehören und deren Wert über alle Instanzen der Klasse hinweg identisch ist (**Klassenattribute**).\n",
    "\n",
    "> Um auf unser vorheriges Beispiel zurückzukommen: Unsere konkrete Tasse ist eine Instanz der Klasse `Tasse`, wobei die Klasse `Tasse` die Attribute `Farbe`, `Gewicht`, `Alter` und `Füllstand` definiert. Bei unserer Tasse sind diese Werte `weiß`, `400g`, `2 Jahre` und `leer`. \n",
    "\n",
    "> Die Tasse unseres Büronachbarn hat die Attributwerte `weiß`, `400g`, `1.5 Jahre` und `halbvoll`.\n",
    "\n",
    "Häufig können wir die Kategorisierung von Objekten noch weiter verfeinern: \n",
    "Nehmen wir an, wir sammeln in einer juristischen Datenbank `Dokumente`. \n",
    "Diese haben sicherlich alle einen `Text` und lassen diesen `drucken()`. \n",
    "Nun gibt es etwa `Aufsätze` und `Gerichtsentscheidungen`. \n",
    "Alle Instanzen dieser beiden Typen haben auch einen Text, der sich drucken lässt - denn beides sind ja Dokumente. \n",
    "Allerdings besitzen Gerichtsentscheidungen z.B. das Attribut `Gericht`, Aufsätze z.B. das Attribut `Autor`. \n",
    "Damit besteht eine **Klassenhierarchie** - ein Aufsatz **ist ein** Dokument und **erbt** die Attribute und Methoden der Klasse `Dokument`.\n",
    "Allerdings enthält `Aufsatz` das zusätzliche Attribut `Autor`, so dass nicht jedes Dokument ein Aufsatz ist. \n",
    "Die Klasse `Aufsatz` wäre eine **Subklasse** der Klasse `Dokument`. \n",
    "Wenn an einer Stelle im Programm mit einem `Dokument` gearbeitet wird, kann auch ein `Aufsatz` übergeben werden. \n",
    "Umgekehrt ist `Dokument` eine **Superklasse** von `Aufsatz`. \n",
    "\n",
    "Die vorgenannten Begriffe werden in der Programmierung unter dem Stichwort **Vererbung** diskutiert.\n",
    "Je nach Programmiersprache kann eine Klasse *direkt* nur von *einer* anderen Klasse oder aber von *mehreren* anderen Klassen erben.\n",
    "Python gehört zu den Sprachen, die **Mehrfachvererbung** zulassen - in anderen Sprachen (beispielsweise Java) muss diese mit Hilfskonstruktionen (z.B. *Interfaces*) aufgelöst werden.\n",
    "Die oberste Klasse in der Klassenhierarchie von Python ist `object` - alle Klassen sind Subklassen von dieser.\n",
    "\n",
    "Objekte können **erzeugt** werden; dabei wird in vielen Programmiersprachen ein **Konstruktor** aufgerufen. \n",
    "Dessen Rolle übernimmt in Python eine spezielle Methode mit dem Namen `__init__`, deren Aufgabe die Initialisierung eines Objekts ist (der Begriff *Konstruktor* ist in Diskussionen zu anderen Programmiersprachen sehr populär, in der Python Community liest man ihn selten). \n",
    "Objekte, die nicht mehr erreichbar sind - also solche, auf die keine Variable mehr verweist - werden durch die sog. **Garbage Collection** zerstört, damit der durch sie belegte Speicherplatz anderweitig eingesetzt werden kann."
   ]
  },
  {
   "cell_type": "markdown",
   "metadata": {
    "deletable": true,
    "editable": true
   },
   "source": [
    "## Klassen in Python\n",
    "\n",
    "Bei der Instantiierung wird die Methode `__init__` aufgerufen. Dabei werden etwaig zu initialisierende Werte als Argumente übergeben. \n",
    "Alle Methoden einer Klasse bekommen beim Aufruf als erstes Argument automatisch die aktuelle Instanz oder im Falle von Klassenmethoden die Klasse selbst als Objekt übergeben. \n",
    "Daher wird bei Methodendefinition stets `self` bzw. `cls` (für Klassenmethoden) als erster Parameter angegeben (der Name könnte auch `mickeymouse` lauten, `self` und `cls` sind lediglich Konventionen, an die man sich allerdings halten sollte)."
   ]
  },
  {
   "cell_type": "code",
   "execution_count": null,
   "metadata": {
    "collapsed": false,
    "deletable": true,
    "editable": true
   },
   "outputs": [],
   "source": [
    "# Eine einfache Klasse\n",
    "# ---------------------\n",
    "\n",
    "class Dokument(object):         # Definiert die Klasse Dokument als Subklasse von object.\n",
    "                                # (object) kann auch weg gelassen werden.\n",
    "        \n",
    "    def __init__(self, text):   # Konstruktor mit einem Parameter.\n",
    "        self.text = text        # Weist dem Instanzattribut text den übergebenen Wert zu.\n",
    "    \n",
    "    def drucken(self):          # Definiert eine Instanzmethode.\n",
    "        print(self.text)        # Gibt den Inhalt der Instanzvariablen text aus.\n",
    "\n",
    "einDokument = Dokument(\"Ich bin ein Dokument.\") \n",
    "# Ruft den Konstruktor (__init__) mit dem Argument \"Ich bin ein Dokument.\" auf.\n",
    "# Es wird ein neues Objekt vom Typ Dokument erzeugt, \n",
    "# das der Variablen einDokument zugewiesen ist.\n",
    "\n",
    "einDokument.drucken()\n",
    "# Ruft die Methode drucken() auf dem Objekt auf, auf das die Variable einDokument zeigt."
   ]
  },
  {
   "cell_type": "code",
   "execution_count": null,
   "metadata": {
    "collapsed": false,
    "deletable": true,
    "editable": true
   },
   "outputs": [],
   "source": [
    "# Subklassen und Vererbung\n",
    "# ---------------------\n",
    "\n",
    "class Aufsatz(Dokument):\n",
    "    \n",
    "    def __init__(self, text, autor):\n",
    "        super().__init__(text)             # super() liefert die Superklasse zurück.\n",
    "        self.autor = autor                 # Belegt das zusätzliche Instanzattribut autor.\n",
    "\n",
    "einAufsatz = Aufsatz(\"Ich bin ein Aufsatz.\", \"Ein Autor\")\n",
    "einAufsatz.drucken()"
   ]
  },
  {
   "cell_type": "markdown",
   "metadata": {
    "deletable": true,
    "editable": true
   },
   "source": [
    "Bisher waren sämtliche Attributwerte einer bestimmten Instanz, also einem konkreten Objekt zugeordnet. Wollen wir z.B. die Zahl der bisher erzeugten Dokumente erfassen, so handelt es sich dabei um ein **statisches**, also von einer konkreten Instanz unabhängiges Attribut. Man spricht auch von **Klassenattributen**. Diese werden außerhalb des Konstruktors definiert, der Zugriff erfolgt über `Klassenname.Attributname`."
   ]
  },
  {
   "cell_type": "code",
   "execution_count": null,
   "metadata": {
    "collapsed": false,
    "deletable": true,
    "editable": true
   },
   "outputs": [],
   "source": [
    "# Statische Attribute\n",
    "# ---------------------\n",
    "\n",
    "class Dokument:\n",
    "    erzeugteDokumente = 0                       # Statisches Attribut / Klassenattribut\n",
    "    \n",
    "    def __init__(self, text):             \n",
    "        self.text = text\n",
    "        Dokument.erzeugteDokumente += 1         # Erhöht das Klassenattribut um 1 (Zugriff\n",
    "                                                # nicht über self, sondern Dokument)\n",
    "\n",
    "vorher = Dokument.erzeugteDokumente             # Wie viele Dokumente gab es am Anfang?\n",
    "\n",
    "einDokument = Dokument(\"Ein Text.\")             # Erzeugt ein Dokument.\n",
    "nochEinDokument = Dokument(\"Ein anderer Text.\") # Erzeugt noch ein Dokument.\n",
    "\n",
    "nachher = Dokument.erzeugteDokumente            # Wie viele Dokumente gibt es nun?\n",
    "\n",
    "print(\"Vorher: {} Dokumente, nachher: {} Dokumente.\".format(vorher, nachher))\n",
    "# Ausgabe: Vorher: 0 Dokumente, nachher: 2 Dokumente."
   ]
  },
  {
   "cell_type": "markdown",
   "metadata": {
    "deletable": true,
    "editable": true
   },
   "source": [
    "## Umgang mit Objekten"
   ]
  },
  {
   "cell_type": "code",
   "execution_count": null,
   "metadata": {
    "collapsed": false,
    "deletable": true,
    "editable": true
   },
   "outputs": [],
   "source": [
    "erstesDokument  = Dokument(\"INHALT\")   # Erzeugt ein Dokument mit dem Inhalt INHALT.\n",
    "zweitesDokument = Dokument(\"INHALT\")   # Erzeugt noch ein Dokument mit dem Inhalt INHALT.\n",
    "erstesDokument == zweitesDokument      # False, da beide Dokumente trotz des gleichen \n",
    "                                       # Inhalts eine andere Identität haben."
   ]
  },
  {
   "cell_type": "code",
   "execution_count": null,
   "metadata": {
    "collapsed": false,
    "deletable": true,
    "editable": true
   },
   "outputs": [],
   "source": [
    "id(erstesDokument)    # Gibt die ID des ersten Dokument-Objekts zurück."
   ]
  },
  {
   "cell_type": "code",
   "execution_count": null,
   "metadata": {
    "collapsed": false,
    "deletable": true,
    "editable": true
   },
   "outputs": [],
   "source": [
    "id(zweitesDokument)   # Gibt die ID des zweiten Dokument-Objekts zurück \n",
    "                      # - weicht von der des ersten Objekts ab."
   ]
  },
  {
   "cell_type": "code",
   "execution_count": null,
   "metadata": {
    "collapsed": false,
    "deletable": true,
    "editable": true
   },
   "outputs": [],
   "source": [
    "type(erstesDokument)  # Gibt den Typ des ersten Dokument-Objekts zurück \n",
    "                      # - dieser ist die Klasse Dokument."
   ]
  }
 ],
 "metadata": {
  "kernelspec": {
   "display_name": "Python [default]",
   "language": "python",
   "name": "python3"
  },
  "language_info": {
   "codemirror_mode": {
    "name": "ipython",
    "version": 3
   },
   "file_extension": ".py",
   "mimetype": "text/x-python",
   "name": "python",
   "nbconvert_exporter": "python",
   "pygments_lexer": "ipython3",
   "version": "3.6.0"
  }
 },
 "nbformat": 4,
 "nbformat_minor": 2
}
