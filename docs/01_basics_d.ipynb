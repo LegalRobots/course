{
 "cells": [
  {
   "cell_type": "markdown",
   "metadata": {
    "deletable": true,
    "editable": true
   },
   "source": [
    "# Basics"
   ]
  },
  {
   "cell_type": "markdown",
   "metadata": {
    "deletable": true,
    "editable": true
   },
   "source": [
    "Computerprogramme enthalten **Anweisungen** (*statements*), die dazu bestimmt sind, durch einen Computer *ausgeführt* zu werden (*to execute*). \n",
    "\n",
    "Eine Anweisung kann sich aus einem oder mehreren **Ausdrücken** (*expressions*) zusammensetzen. \n",
    "Ausdrücke werden durch den Computer *ausgewertet* (*to evaluate*) und können *einen Wert zurückgeben* (*to return a value*), der einen bestimmten **Datentyp** (*data type*) hat; \n",
    "sie setzen sich ihrerseits aus **Literalen** (*literals*), **Variablen** (*variables*) und **Funktionen** (*functions*) zusammen. \n",
    "\n",
    "Variablen werden *deklariert* (*to declare*) und man *weist* ihnen einen Wert *zu* (*to assign a value*). \n",
    "In Python deklariert man eine Variable, *indem* man ihr einen Wert zuweist (`variable = value`); in anderen Programmiersprachen kann der Deklarationszeitpunkt dem Zuweisungszeitpunkt auch vorausgehen. \n",
    "Nachdem man eine Variable deklariert hat, kann man über ihren Namen auf ihren aktuellen Wert zugreifen. \n",
    "Der Name der Variablen befindet sich dann im **Namensraum** (*namespace*) des jeweils ausgeführten Programms.\n",
    "\n",
    "Einige verbreitete Funktionen haben sowohl in der Mathematik als auch in vielen Programmiersprachen besondere Syntaxkonstrukte erhalten, die als **Operatoren** (*operators*) bezeichnet werden. \n",
    "Hierzu gehören die **arithmetischen Operatoren** (z.B. `+` für die Addition) und die **booleschen Operatoren** (s.u.). \n",
    "\n",
    "> **Hinweis:** Bei den Grundbegriffen der Programmierung sind deutschsprachige und englischsprachige Terminologie jeweils uneinheitlich; was im konkreten Fall bezeichnet wird, ergibt sich aber in der Regel aus dem Kontext. \n",
    "Die Begriffe eignen sich insbesondere zur Beschreibung von Programmen, die dem **Programmierparadigma** der **imperativen Programmierung** folgen. Ein Überblick über die gängigen Programmierparadigmen findet sich [hier](http://cs.lmu.edu/~ray/notes/paradigms/). "
   ]
  },
  {
   "cell_type": "markdown",
   "metadata": {
    "deletable": true,
    "editable": true
   },
   "source": [
    "## Datentypen\n",
    "Im Kontext von Programmiersprachen bezeichnet ein **Datentyp** (*data type*) die Zusammenfassung eines **Wertebereichs** (*domain*) und der darauf definierten **Operationen** (*operations*) zu einer Einheit. \n",
    "Man unterscheidet **elementare Datentypen** (*elementary types*), die *genau einen Wert* aus dem ihnen zugeordneten Wertebereich aufnehmen können, und **zusammengesetzte Datentypen** (Container-Typen, *container types*), die *mehrere Werte gleichzeitig* aus ihren Wertebereichen gleichzeitig aufnehmen können. \n",
    "Jede Programmiersprache hat eine gewisse Menge an **eingebauten Datentypen** (*built-in types*), die der Programmierer direkt nutzen oder zu **eigenen Datentypen** (*custom types*) zusammensetzen kann. \n",
    "Zu den eingebauten Datentypen in Python, die sich ähnlich in den meisten anderen höheren Programmiersprachen finden lassen, gehören:\n",
    "\n",
    "* **Elementare Datentypen:** Integer (`int`, ganze Zahl); Float (`float`, Gleitkommazahl); Boolean (`bool`, Wahrheitswert [`True`|`False`]);\n",
    "* **Zusammengesetzte Datentypen:** String (`str`, Zeichenkette); Tuple (`tuple`, Tupel); List (`list`, Liste); Set (`set`, Menge); Dictionary bzw. Dict (`dict`, Wörterbuch bzw. Abbildung).\n",
    "\n",
    "Einen Sonderfall bildet der eingebaute Datentyp **`None`**, der im Wesentlichen das **Nichtvorhandensein eines Werts** eines anderen Typs anzeigt.\n",
    "\n",
    "Konkreten Datentypen lassen sich abstrakte Eigenschaften zuschreiben, mit denen eine bestimmte Auswahl typischer Operationen einhergeht. \n",
    "Strings, Tupel und elementare Datentypen sind grundsätzlich **unveränderlich** (*immutable*) und auch **hashbar** (*hashable*, vgl. die Definition im [Python-Glossar](https://docs.python.org/3.6/glossary.html)). Listen, Mengen und Wörterbücher sind grundsätzlich **veränderlich** (*mutable*) und nicht hashbar; in Python können sie Werte mehrerer verschiedener Datentypen gleichzeitig aufnehmen. \n",
    "Alle zusammengesetzten Datentypen sind **iterierbar** (*iterable*, Substantiv: *iterable*), d.h. es gibt eine Möglichkeit, systematisch alle darin enthaltenen Werte abzufragen. \n",
    "Listen, Tupel und Strings sind zudem **sequenzierbar** (*sequencable*, Substantiv: *sequence*), d.h. ihre Werte lassen sich in eine lineare Ordnung bringen und in der resultierenden Reihenfolge abfragen. \n",
    "\n",
    "Jeder Datentyp hat mindestens einen **Konstruktor** (*constructor*), mit dessen Hilfe sich explizit Werte dieses Typs spezifizieren oder Werte eines anderen, aber kompatiblen Typs in den gewünschten Datentyp überführen lassen (sog. *type cast* bzw. *casting*). \n",
    "Konstruktoren spielen vor allem bei der Arbeit mit zusammengesetzten Datentypen eine Rolle (und haben dort typischerweise Abkürzungen, sog. *syntactic sugar*); bei der Arbeit mit einfachen Datentypen genügt es in der Regel, den benötigten Wert direkt anzugeben.\n",
    "\n",
    "Nachfolgend sind für die wichtigsten Datentypen in Python einige grundlegende Syntaxelemente und Operationen zusammengefasst."
   ]
  },
  {
   "cell_type": "markdown",
   "metadata": {},
   "source": [
    "#### Allgemeines"
   ]
  },
  {
   "cell_type": "code",
   "execution_count": null,
   "metadata": {
    "collapsed": true,
    "deletable": true,
    "editable": true
   },
   "outputs": [],
   "source": [
    "# Typ ermitteln\n",
    "# ---------------------\n",
    "type(\"Ein Text.\")   # <class 'str'> - String\n",
    "\n",
    "variable = 123\n",
    "type(variable)      # <class 'int'> - Integer"
   ]
  },
  {
   "cell_type": "markdown",
   "metadata": {
    "deletable": true,
    "editable": true
   },
   "source": [
    "#### Elementare Datentypen"
   ]
  },
  {
   "cell_type": "code",
   "execution_count": null,
   "metadata": {
    "collapsed": true,
    "deletable": true,
    "editable": true
   },
   "outputs": [],
   "source": [
    "# Integers (ganze Zahlen)\n",
    "# ---------------------\n",
    "\n",
    "# Konstruktor\n",
    "int()\n",
    "\n",
    "# Arithmetik\n",
    "7 + 3        # 10 (Addition)\n",
    "7 - 3        # 4 (Subtraktion)\n",
    "7 * 3        # 21 (Multiplikation)\n",
    "7 / 3        # 2.3333333333333335 (Division, Ergebnis ist Float)\n",
    "7 // 3       # 2 (ganzzahlige Division, Ergebnis ist Integer)\n",
    "7 % 3        # 1 (Modulo, d.h. Rest bei ganzzahliger Division)\n",
    "7 ** 3       # 343 (Potenzierung)"
   ]
  },
  {
   "cell_type": "code",
   "execution_count": null,
   "metadata": {
    "collapsed": true,
    "deletable": true,
    "editable": true
   },
   "outputs": [],
   "source": [
    "# Floats (Gleitkommazahlen)\n",
    "# ---------------------\n",
    "\n",
    "# Konstruktor\n",
    "float()\n",
    "\n",
    "# Arithmetik - grds. wie Integer, nur mit Float als Rueckgabewert\n",
    "7.0 + 3      # 10.0, Rueckgabewert einer Operation mit Float und Integer ist in der Regel Float"
   ]
  },
  {
   "cell_type": "code",
   "execution_count": null,
   "metadata": {
    "collapsed": true,
    "deletable": true,
    "editable": true
   },
   "outputs": [],
   "source": [
    "# Booleans (True|False)\n",
    "# ---------------------\n",
    "\n",
    "# Konstruktor\n",
    "bool()\n",
    "\n",
    "# Boolesche Operationen\n",
    "not True           # False (Negation)\n",
    "True and False     # False (Konjunktion)\n",
    "True or False      # False (Disjunktion)"
   ]
  },
  {
   "cell_type": "markdown",
   "metadata": {
    "deletable": true,
    "editable": true
   },
   "source": [
    "#### Zusammengesetzte Datentypen"
   ]
  },
  {
   "cell_type": "code",
   "execution_count": null,
   "metadata": {
    "collapsed": true,
    "deletable": true,
    "editable": true
   },
   "outputs": [],
   "source": [
    "# Strings (immutable, iterable, sequencable)\n",
    "# ---------------------\n",
    "\n",
    "# Konstruktoren\n",
    "str()                # Nutzung vor allem fuer Type Casts (z.B. von int)\n",
    "''                   # Single-Line String, Var. 1\n",
    "\"\"                   # Single-Line String, Var. 2\n",
    "'''...'''            # Multi-Line String, Var. 1\n",
    "\"\"\"...\"\"\"            # Multi-Line String, Var. 2 (Konvention fuer Docstrings: \n",
    "                     # https://www.python.org/dev/peps/pep-0257/)\n",
    "\n",
    "# Konkatenation\n",
    "'Hello, ' + 'World!' # 'Hello, World'\n",
    "\n",
    "# Indexierung (beginnend bei Null)\n",
    "'Hello'[-1]          # 'o', Besonderheit von Python: negative Indexierung moeglich\n",
    "'Hello'.index('l')   # 2 (Umkehrung der Indexierung: sucht ein Element und gibt \n",
    "                     # den Index des ersten Treffers zurueck)\n",
    "'Hello'[0:5:2]       # 'Hlo' (Slicing, Syntax: 'Text'[min:max:step], min ist inklusiv, \n",
    "                     # max ist exklusiv)\n",
    "'Hello'[:]           # 'Hello' (Slicing, bis auf '[]' und ':' sind alle Syntaxelemente optional)\n",
    "\n",
    "# Escaping - s. Text Mining\n",
    "r''                  # Raw String (Backslashes - sonst Signal fuer Escaping \n",
    "                     # - werden als Literale behandelt)\n",
    "\n",
    "# Formatierung (Syntax Highlighting in Jupyter mitunter problematisch)\n",
    "'Hello, %s'%'World'         # 'Hello, World' - Old School Style ('String Modulo',\n",
    "                            #  Sicherheitsprobleme bei User Input)\n",
    "'Hello, {}'.format('World') # 'Hello, World' - New Style\n",
    "f'Hello {str(\"World\")}'     # 'Hello, World' - Literal String Interpolation"
   ]
  },
  {
   "cell_type": "code",
   "execution_count": null,
   "metadata": {
    "collapsed": false,
    "deletable": true,
    "editable": true
   },
   "outputs": [],
   "source": [
    "# Tupel (immutable, iterable, sequencable)\n",
    "# ---------------------\n",
    "# Konkatenation, Indexierung und Slicing wie bei Strings\n",
    "\n",
    "# Konstruktoren\n",
    "tuple()                  # etwaiges Argument muss iterable sein\n",
    "('element',)             # Konstruktor fuer einelementiges Tupel\n",
    "('element1', 'element2') # Syntactic Sugar fuer tuple(), Var. 1\n",
    "'element1', 'element2'   # Syntactic Sugar fuer tuple(), Var. 2\n",
    "\n",
    "# Unpacking (mit Beispielfunktion 'print') - funktioniert auch bei Strings, \n",
    "# wird dort aber kaum benutzt\n",
    "print(*(1,2))            # 1 2 (ohne Stern: (1, 2))"
   ]
  },
  {
   "cell_type": "code",
   "execution_count": null,
   "metadata": {
    "collapsed": true,
    "deletable": true,
    "editable": true
   },
   "outputs": [],
   "source": [
    "# Listen (mutable, iterable, sequencable)\n",
    "# ---------------------\n",
    "# Konkatenation, Indexierung und Slicing wie bei Strings; Unpacking wie bei Tupeln\n",
    "\n",
    "# Konstruktoren\n",
    "list()                 # etwaiges Argument muss iterable sein\n",
    "[1,'a',True]           # Syntactic Sugar fuer list(), '[]' erzeugt leere Liste\n",
    "\n",
    "# Austausch von Werten\n",
    "[1,3,2][0] = True      # None, Liste nun [True, 3, 2]\n",
    "[1,3,2][1:2] = \"ba\"    # None, Liste nun [1, 'b', 'a'], \n",
    "                       # Datentyp rechts vom '=' muss iterierbar sein\n",
    "\n",
    "# Anhaengen von Werten\n",
    "[1,3,2].append(4)      # None, Liste nun [1, 3, 2, 4]\n",
    "[1,3,2].extend([4,5])  # None, Liste nun [1, 3, 2, 4, 5], \n",
    "                       # Argument von 'extend' muss iterierbar sein\n",
    "\n",
    "# Sortieren (nur, falls Werte untereinander vergleichbar sind; \n",
    "# Default-Sortierreihenfolge: aufsteigend)\n",
    "[1,3,2].sort()         # Sortiert die Liste, ohne die Liste zurueckzugeben\n",
    "sorted([1,3,2], reverse=True)  # [3, 2, 1], gibt eine neue, sortierte Fassung der Liste zurueck\n",
    "\n",
    "# Kopieren (\"Kniff\" erzeugt ein neues Listenobjekt mit den gleichen Werten)\n",
    "aList = [1,3,2]\n",
    "anotherListe = aList[:]"
   ]
  },
  {
   "cell_type": "code",
   "execution_count": null,
   "metadata": {
    "collapsed": true,
    "deletable": true,
    "editable": true
   },
   "outputs": [],
   "source": [
    "# Mengen (mutable, iterable)\n",
    "# ---------------------\n",
    "# Unpacking wie bei Tupeln\n",
    "# Werte muessen hashbar sein, z.B. keine Mengen als Elemente einer Menge \n",
    "# (anders in der Mathematik)\n",
    "# Werte in Mengen werden alphabetisch geordnet angezeigt, haben aber intern keine Reihenfolge\n",
    "\n",
    "# Konstruktoren\n",
    "set()                  # etwaiges Argument muss iterable sein\n",
    "{'elem1', 'elem2'}     # Syntactic Sugar fuer set() - Achtung: \n",
    "                       # nicht fuer leere Mengen ('{}' erzeugt leeres Dictionary)\n",
    "\n",
    "# Eindeutigkeit der Elemente\n",
    "{1,3,3}                # {1, 3}\n",
    "\n",
    "# Einfuegen und Entfernen von Elementen\n",
    "{1,3,2}.add(\"ba\")      # None, Menge nun {1, 2, 3, 'ba'}\n",
    "{1,3,2}.remove(3)      # None, Menge nun {1, 2}\n",
    "\n",
    "# Mengenoperationen (Ausschnitt)\n",
    "{1,3,2}.union({4,5,1})         # {1, 2, 3, 4, 5} (Vereinigung)\n",
    "{1,3,2}.intersection({4,5,1})  # {1} (Differenz)"
   ]
  },
  {
   "cell_type": "code",
   "execution_count": null,
   "metadata": {
    "collapsed": false,
    "deletable": true,
    "editable": true,
    "scrolled": true
   },
   "outputs": [],
   "source": [
    "# Woerterbuecher (mutable, iterable)\n",
    "# ---------------------\n",
    "# Schluessel muessen hashbar sein\n",
    "# Schluessel-Wert-Paare werden nach Schluesseln alphabetisch geordnet angezeigt,\n",
    "# haben aber intern keine Reihenfolge\n",
    "# Wert kann auch z.B. wieder ein Woerterbuch oder eine Liste sein\n",
    "\n",
    "# Konstruktoren\n",
    "dict()                                    # etwaiges Argument muss iterable sein\n",
    "{'key1': 'value1', 'key2': 'value2'}      # Syntactic Sugar fuer dict(), \n",
    "                                          # '{}' erzeugt leeres Woerterbuch\n",
    "\n",
    "# Eindeutigkeit der Schluessel\n",
    "{'key':'value', 'key':'value2'}  # {'key': 'value2'}\n",
    "\n",
    "# Einfuegen und Entfernen von Schluessel-Wert-Paaren sowie Aendern von Werten\n",
    "dict()['key'] = 'value'          # None, Dict nun {'key': 'value'}\n",
    "                                 # (fuer Einfuegungen und Aenderungen)\n",
    "del {'key':'value'}['key']       # None, Dict nun {} (Fehler, falls 'key' nicht \n",
    "                                 # als Schluessel im Dict)\n",
    "\n",
    "# Nachschlagen von Werten\n",
    "{'key1': 'value1', 'key2': 'value2'}['key1']                   # 'value1'\n",
    "{'key1': 'value1', 'key2': 'value2'}.get('key3','not found')   # liefert 'not found', wenn der \n",
    "                                                               # Schluessel nicht existiert\n",
    "\n",
    "# Iteration ueber Elemente - s. Control Flow\n",
    "{'key':'value'}.items()          # Zur Iteration ueber Schluessel-Wert-Paare\n",
    "{'key':'value'}.keys()           # Zur Iteration ueber Schluessel\n",
    "{'key':'value'}.values()         # Zur Iteration ueber Werte"
   ]
  },
  {
   "cell_type": "markdown",
   "metadata": {
    "deletable": true,
    "editable": true
   },
   "source": [
    "## Boolesche Ausdrücke und Boolesche Operatoren\n",
    "\n",
    "Boolesche Ausdrücke (*boolean expressions*) sind logische Ausdrücke, die entweder wahr (in Python: `True`) oder falsch (in Python: `False`) sind. \n",
    "Sie stellen eines der zentralen Elemente zur Steuerung des Kontrollflusses (s. *Control Flow*) in Programmen dar.\n",
    "\n",
    "Klassische Beispiele für boolesche Ausdrücke sind Ausdrücke mit den *mathematischen Vergleichsoperatoren*, etwa `a == b` (Test auf Gleichheit), `a != b` (Test auf Ungleichheit) und `a < b`. \n",
    "Die Python-Syntax entspricht hier (mit Ausnahme des Ungleichheitszeichens `!=`) der mathematischen Syntax; \n",
    "um unangenehme Überraschungen zu vermeiden, sollte man sich allerdings stets im Klaren darüber sein, was *genau* man gerade vergleicht und wie die mathematischen Vergleichsfunktionen für die Vergleichsobjekte implementiert sind (s.u.).\n",
    "\n",
    "In Python ist jedem Wert ein Wahrheitswert zugeordnet, auf den zugegriffen wird, wenn der Wert als Teil eines booleschen Ausdrucks auftritt. \n",
    "`False` sind dabei nur der boolesche Wert `False`, `None`, alle Varianten der Null (z.B. `0`, `0.0`) und alle leeren Container-Typen (z.B. `[]` und `{}`); alle anderen Werte sind `True`. \n",
    "Dadurch lässt sich in vielen Fällen sehr einfach überprüfen, ob eine Variablen nicht \"leeren\" Wert enthält (`if wert:`).\n",
    "Steht an der Stelle eines Werts in einem Booleschen Ausdruck ein Funktionsaufruf, so hängt der Wahrheitswert vom Rückgabewert der aufgerufenen Funktion ab.\n",
    "\n",
    "Mithilfe der booleschen Operatoren (*boolean operators*) `not`, `and` und `or` lassen sich zwei oder mehr Booleans zu komplexeren Ausdrücken verknüpfen (s.o.). \n",
    "Durch Einsatz runder Klammern kann die Auswertungsreihenfolge angepasst werden.\n",
    "Häufig trifft man in der Praxis auf den Mengenoperator `in`, mit dem man testen kann, ob ein bestimmter Wert in einem Container-Typ enthalten ist."
   ]
  },
  {
   "cell_type": "code",
   "execution_count": null,
   "metadata": {
    "collapsed": false,
    "deletable": true,
    "editable": true
   },
   "outputs": [],
   "source": [
    "# Vorsicht mit Vergleichserwartungen\n",
    "True == 1  and False == 0  # True\n",
    "[1,'a',3] < [1,'A',3]      # False\n",
    "\n",
    "# Zusammensetzung Boolescher Ausdruecke\n",
    "(0 in [1,2,3] or 3 in {4,3,1}) and 'Meyer' not in {'name': 'Meyer'}.values()  # False"
   ]
  }
 ],
 "metadata": {
  "kernelspec": {
   "display_name": "Python [default]",
   "language": "python",
   "name": "python3"
  },
  "language_info": {
   "codemirror_mode": {
    "name": "ipython",
    "version": 3
   },
   "file_extension": ".py",
   "mimetype": "text/x-python",
   "name": "python",
   "nbconvert_exporter": "python",
   "pygments_lexer": "ipython3",
   "version": "3.6.0"
  }
 },
 "nbformat": 4,
 "nbformat_minor": 2
}
