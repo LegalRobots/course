{
 "cells": [
  {
   "cell_type": "markdown",
   "metadata": {},
   "source": [
    "# I/O (Ein- und Ausgabe)\n",
    "\n",
    "## Zeichenkodierungen\n",
    "\n",
    "Der Inhalt einer Datei ist intern lediglich eine Folge aus Speicherzellen, also letztlich eine Kette aus Nullen und Einsen (sog. *Bits*).\n",
    "Eine **Zeichenkodierung** sorgt dafür, dass man stattdessen mit verständlichem Text arbeiten kann.\n",
    "Sie legt u.a. fest, welche Zeichen überhaupt zur Verfügung stehen (**Zeichensatz**), wie viele Bits im Speicher für ein Zeichen stehen sollen und wie eine Bitfolge auf ein bestimmtes Zeichen abgebildet wird.\n",
    "Die Umsetzung von Text in Bitfolgen nennt man **Kodierung** (*encoding*), die Umsetung von Bitfolgen in Text nennt man **Dekodierung** (*decoding*). \n",
    "Während man früher mit der 7-Bit-Zeichenkodierung **ASCII** (für *American Standard Code for Information Interchange*) und einem Zeichensatz aus 128 Zeichen auskam, werden heute meistens Kodierungen mit zahlreichen Sonderzeichen verwendet, die besser zur Internationalisierung geeignet sind (z.B. **ISO 8859-1** oder **UTF-8 zur Kodierung des Unicode-Zeichensatzes**).\n",
    "Die Zeichenkodierung ermöglicht es, mit für uns lesbaren Zeichen zu arbeiten, und bietet daher eine Abstraktion von der internen Datendarstellung des Computers. \n",
    "\n",
    "Ein Programm muss wissen, mit welcher Zeichenkodierung eine Datei erstellt wurde, um die Bitfolgen richtig interpretieren zu können.\n",
    "Beim Öffnen von Dateien (d.h. Bitfolgen) kann die Kodierung angegeben werden (`f = open(filename, encoding=\"utf-8\")`). \n",
    "Ohne eine entsprechende Angabe wird die (systemabhängige) Standardkodierung genutzt. \n",
    "Python 3 geht davon aus, dass der Quellcode in Python-Programmen mit UTF-8 kodiert wurde; ein Texteditor muss entsprechend konfiguriert werden.\n",
    "Die \"richtige\" Kodierung einer Datei zu ermitteln ist eine schwierige Aufgabe, denn der Computer kann nicht wissen, welcher dekodierte Inhalt sich in der Datei befinden soll.\n",
    "Daher sollte möglichst immer ausdrücklich mit einer einheitlichen Kodierung (am besten UTF-8) gearbeitet werden.\n",
    "\n",
    "In Python 3 sind Strings grundsätzlich Folgen von Unicode-Zeichen, sodass Sonderzeichen problemlos verwendet werden können (z.B. `wert = \"äöüÄÖÜßéèê\"`). \n",
    "Lediglich einzelne Zeichenkombinationen haben eine besondere Bedeutung, so z.B. `\\n` für einen Zeilenumbruch. \n",
    "Damit ein Backslash (`\\`) im String enthalten ist, muss er als `\\\\` angegeben werden. \n",
    "Möchte man dies vermeiden, kann durch vorangestelltes `r` ein *raw string* erzeugt werden, z.B. `r'C:\\Testverzeichnis\\n'`. Mit der Funktion `eval(\"Ein String\")` lassen sich Strings als Programmcode interpretieren. \n",
    "\n",
    "Anstelle von Strings kennt Python auch **Bytefolgen**, also Folgen von Zahlen zwischen 0 und 255 (8 Bit, also $2^8 = 256$ Werte). \n",
    "Diese definiert man wie Strings, nur dass den Anführungszeichen ein `b` vorangestellt wird, also `b'\\x00\\x00'`. Ebenso können Bytefolgen zu Strings dekodiert werden (`b'\\x00\\x00'.decode('utf-8')`)."
   ]
  },
  {
   "cell_type": "markdown",
   "metadata": {},
   "source": [
    "## Interaktion mit dem Benutzer\n",
    "\n",
    "Wird ein Programm ausgeführt, gibt es zu jedem Zeitpunkt eine **Standardeingabe**, eine **Standardausgabe** und eine **Standardfehlerausgabe**, die fortlaufend Daten zur Verarbeitung liefern und daher unter die **Datenströme** (*data streams*) gefasst werden.\n",
    "Führen wir das Programm in der Kommandozeile aus, sind sie normalerweise dem jeweiligen Kommandozeilenfenster zugeordnet.\n",
    "Ausgaben (`print(\"Eine Ausgabe\")`) werden dann in diesem Fenster angezeigt, erforderliche Eingaben über das Fenster erfasst.\n",
    "In Jupyter Notebooks sind die Standard-Datenströme mit der Zelle verbunden, in welcher der jeweilige Code ausgeführt wird.\n",
    "\n",
    "> **Vertiefungshinweis:**\n",
    "\n",
    "> Die Standard-Datenströme finden sich im Modul `sys` als `stdin`, `stdout` und `stderr`. \n",
    "Wird etwa `sys.stdout` ein anderes Stream-Objekt zugewiesen (z.B. eine geöffnete Datei), werden Ausgaben künftig in diese Datei geschrieben und nicht mehr direkt angezeigt."
   ]
  },
  {
   "cell_type": "code",
   "execution_count": null,
   "metadata": {
    "collapsed": true
   },
   "outputs": [],
   "source": [
    "# Benutzereigaben abfragen\n",
    "wert = input('Gib einen Wert ein: ')       # Wert wird als str behandelt\n",
    "wert = float(input('Gib eine Zahl ein: ')) # Wert wird in float umgewandelt\n",
    "\n",
    "# Auswertung einer Eingabe wie ['EinWert', 'NochEinWert']\n",
    "# ACHTUNG: Ermoeglicht auch die Eingabe von schaedlichen Befehlen!\n",
    "wert = eval(input('Gib eine Liste aus Werten ein: ')) # Bei Eingabe [1, 2] wird wert \n",
    "                                                      # die Liste [1, 2] zugewiesen"
   ]
  },
  {
   "cell_type": "code",
   "execution_count": null,
   "metadata": {
    "collapsed": true
   },
   "outputs": [],
   "source": [
    "# Ausgabe\n",
    "print(\"Ich bin eine Ausgabe.\")\n",
    "print(\"Eine Ausgabe\", \"Noch eine Ausgabe\")            # Eine Ausgabe Noch eine Ausgabe\n",
    "print(\"Eine Ausgabe\", \"Noch eine Ausgabe\", sep=' | ') # Eine Ausgabe | Noch eine Ausgabe\n",
    "\n",
    "print(\"Eine Ausgabe\", \"Noch eine Ausgabe\", sep=' | ', end=' ENDE \\n') \n",
    "# Eine Ausgabe | Noch eine Ausgabe ENDE"
   ]
  },
  {
   "cell_type": "markdown",
   "metadata": {},
   "source": [
    "## Dateien\n",
    "\n",
    "### Öffnen und Schließen"
   ]
  },
  {
   "cell_type": "code",
   "execution_count": null,
   "metadata": {
    "collapsed": true
   },
   "outputs": [],
   "source": [
    "f = open(\"datei.txt\", \"r\", encoding=\"utf-8\")\n",
    "# Oeffnet die Datei datei.txt, gibt ein Stream-Objekt zurueck.\n",
    "# Statt eines Dateinamens kann auch ein (absoluter oder relativer) \n",
    "# Pfad zu einer Datei verwendet werden,\n",
    "# z.B. ordner\\datei.txt oder C:/ordner/datei.txt .\n",
    "\n",
    "# Mit \"r\" als zweitem Parameter wird die Datei zum Lesen geoeffnet \n",
    "# (Parameter muss nicht angegeben werden, default: r).\n",
    "# Der encoding-Parameter gibt an, dass UTF-8 zur Dekodierung benutzt werden soll.\n",
    "\n",
    "f.close()  # Schließt die Datei (wichtig!).\n",
    "\n",
    "\n",
    "# Bessere Alternative zum manuellen Schließen:\n",
    "\n",
    "with open(\"datei.txt\", \"r\", encoding=\"utf-8\") as f:   \n",
    "    content = f.read()  # Speichert den Inhalt der Datei in content,\n",
    "                        # Datei wird am Ende des Blocks automatisch geschlossen."
   ]
  },
  {
   "cell_type": "markdown",
   "metadata": {},
   "source": [
    "> **Hinweise:**\n",
    "\n",
    "> Da Strings in Python aus Unicode-Zeichen bestehen, Dateien aber nur Bitfolgen sind, muss Python diese Bits in Zeichen umwandeln. Dazu sollte das korrekte Kodierungsformat angegeben werden. Python nimmt dann die Dekodierung vor.\n",
    "\n",
    "> Bei Dateien, die keinen Text enthalten (z.B. Bilder, Anwendungen), ist eine Dekodierung zu Unicode-Zweichen nicht möglich. Die Datei kann aber mit der Modusangabe `rb` für Lesen oder `wb` bzw. `ab` im Binärmodus geöffnet werden.\n",
    "\n",
    "> Die `with open`-Konstruktion sollte einem manuellen Schließen vorgezogen werden, da die Datei auch bei einem Abbruch des Programms geschlossen wird."
   ]
  },
  {
   "cell_type": "markdown",
   "metadata": {},
   "source": [
    "### Lesen"
   ]
  },
  {
   "cell_type": "code",
   "execution_count": null,
   "metadata": {
    "collapsed": true
   },
   "outputs": [],
   "source": [
    "try:\n",
    "    with open(\"datei.txt\", \"r\", encoding=\"latin-1\") as f:\n",
    "        textAsList = f.readlines()      # gibt eine Liste mit den Zeilen als Strings zurück\n",
    "        textAsString = f.read()         # gibt den Inhalt der gesamten Datei als String zurück\n",
    "        textAsString2 = f.read()        # gibt nun einen leeren String zurueck, \n",
    "                                        # da das Ende erreicht ist\n",
    "        f.seek(0)                       # geht zur Byteposition 0 (also an den Anfang)\n",
    "        f.read(10)                      # liest von dort und gibt die ersten 10 Zeichen zurück\n",
    "\n",
    "    with open(\"datei.txt\", \"r\", encoding=\"cp1252\") as f:\n",
    "        for line in f:                  # das Stream-Objekt ist ein Iterator ueber die Zeilen\n",
    "            print(line)\n",
    "    \n",
    "    with open(\"datei.txt\", \"r\") as f:\n",
    "        print(f.readline())             # gibt die erste Zeile zurück\n",
    "        print(f.readline())             # gibt die naechste Zeile zurück\n",
    "            \n",
    "except FileNotFoundError:\n",
    "    print(\"Datei nicht gefunden.\")"
   ]
  },
  {
   "cell_type": "markdown",
   "metadata": {},
   "source": [
    "### Schreiben"
   ]
  },
  {
   "cell_type": "code",
   "execution_count": null,
   "metadata": {
    "collapsed": true
   },
   "outputs": [],
   "source": [
    "with open(\"datei.txt\", \"w\", encoding=\"utf-8\") as f:    \n",
    "# Gibt ein Stream-Objekt zurueck. \n",
    "# Datei wird automatisch erstellt, wenn sie nicht existiert.\n",
    "# Modus \"w\" (write) oeffnet die Datei zum Schreiben und ueberschreibt den Inhalt.\n",
    "# Modus \"a\" (append) schreibt Daten an das Ende der Datei.\n",
    "   \n",
    "    f.write(\"Testtext\")              # Var. 1: Methode von f\n",
    "    \n",
    "    print(\"Testtext\", file=f)        # Var. 2: print-Funktion\n",
    "    \n",
    "    # Wird bei print() ein Stream-Objekt als file-Parameter uebergeben,\n",
    "    # erfolgt die Ausgabe in diese Datei."
   ]
  }
 ],
 "metadata": {
  "kernelspec": {
   "display_name": "Python [default]",
   "language": "python",
   "name": "python3"
  },
  "language_info": {
   "codemirror_mode": {
    "name": "ipython",
    "version": 3
   },
   "file_extension": ".py",
   "mimetype": "text/x-python",
   "name": "python",
   "nbconvert_exporter": "python",
   "pygments_lexer": "ipython3",
   "version": "3.6.0"
  }
 },
 "nbformat": 4,
 "nbformat_minor": 2
}
