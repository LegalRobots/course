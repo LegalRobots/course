{
 "cells": [
  {
   "cell_type": "markdown",
   "metadata": {
    "deletable": true,
    "editable": true
   },
   "source": [
    "# Kontrollfluss"
   ]
  },
  {
   "cell_type": "markdown",
   "metadata": {
    "deletable": true,
    "editable": true
   },
   "source": [
    "Als **Kontrollfluss** (*control flow*) bezeichnet man die Reihenfolge, in der die Anweisungen eines Computerprogramms bei dessen Ausführung abgearbeitet werden. \n",
    "**Kontrollstrukturen** ermöglichen uns, von der grundätzlich sequenziellen Abarbeitung der Befehle abzuweichen und das Programmverhalten von den Auswertungsergebnissen einzelner Ausdrücke abhängig zu machen. \n",
    "\n",
    "Python bietet drei Kontrollstrukturen an, die auch in den meisten anderen höheren Programmiersprachen vorhanden sind: \n",
    "* **Fallunterscheidungen** (*conditionals*) mit `if`, `elif` und `else` (einschließlich einer einzeiligen Formulierung für den **ternären Operator**, s.u.);\n",
    "* **sammlungskontrollierte Schleifen** mit `for` zur Iteration über Sammlungen von Werten (vgl. Container-Typen);\n",
    "* **bedingungskontrollierte Schleifen** mit `while` zur Ausführung eines Code-Blocks, solange eine Bedingung (nicht) zutrifft (mit optionalem `else`-Zweig und ebenfalls optionalen Schlüsselwörtern `break` und `continue` (s.u.).\n",
    "\n",
    ">**Vertiefungshinweis:** \n",
    "\n",
    ">Die `for`-Schleife ähnelt dem `for-each`-Konstrukt aus anderen Srpachen, z.B. Java.\n",
    "Zählerkontrollierte `for`-Schleifen, `do-while`-Schleifen oder `switch`-Statements gibt es in Python *nicht*; sie können aber mit den vorhandenen Sprachkonstrukten nachgebildet werden."
   ]
  },
  {
   "cell_type": "markdown",
   "metadata": {
    "deletable": true,
    "editable": true
   },
   "source": [
    "#### if-Statements"
   ]
  },
  {
   "cell_type": "code",
   "execution_count": null,
   "metadata": {
    "collapsed": false,
    "deletable": true,
    "editable": true
   },
   "outputs": [],
   "source": [
    "# if-Statements zur Klassifikation einer Zahl\n",
    "\n",
    "x = 0\n",
    "\n",
    "if x > 0:                                 # Wenn... (genau einmal, mit Bedingung)\n",
    "    print('Wert x ist größer als Null!')\n",
    "    \n",
    "elif x < 0:                               # Anderenfalls: Wenn... (beliebig oft, mit Bedingung)\n",
    "    print('Wert x ist kleiner als Null!')\n",
    "    \n",
    "else:                                     # In allen anderen Faellen: ... \n",
    "    print('Wert x ist gleich Null!')      # (maximal einmal, ohne Bedingung)\n",
    "    \n",
    "    \n",
    "x = 2 if 'some' == 'condition' else 10    # Pythons ternaerer Operator fuer \n",
    "                                          # kleine Verzweigungen\n",
    "\n",
    "print('Jetzt hat x den Wert {}!'.format(x))"
   ]
  },
  {
   "cell_type": "markdown",
   "metadata": {
    "deletable": true,
    "editable": true
   },
   "source": [
    "#### for-Schleifen"
   ]
  },
  {
   "cell_type": "code",
   "execution_count": null,
   "metadata": {
    "collapsed": false,
    "deletable": true,
    "editable": true
   },
   "outputs": [],
   "source": [
    "# for-Iteration ueber Container-Typen\n",
    "\n",
    "numbers = [4,5,1,8]\n",
    "\n",
    "for n in numbers:                     # Fuer jede Zahl in numbers:    \n",
    "    print(n if n % 2 == 0 else n+1)   # Falls die Zahl gerade ist, gib sie auf der Konsole aus,\n",
    "                                      # anderenfalls gib die naechstgroessere gerade Zahl aus\n",
    "    \n",
    "for idx, n in enumerate(numbers):     # Besonderheit zur Iteration ueber Listen \n",
    "                                      # mit Nachhalten des Index\n",
    "    print('Ursprüngliche Zahl', idx+1, ':', n)\n",
    "    \n",
    "for k,v in {2:0}.items():             # Syntax zur Iteration über Schlüssel-Wert-Paare\n",
    "    print('Schlüssel:', k, 'Wert:', v)"
   ]
  },
  {
   "cell_type": "markdown",
   "metadata": {
    "deletable": true,
    "editable": true
   },
   "source": [
    "#### while-Schleifen"
   ]
  },
  {
   "cell_type": "code",
   "execution_count": null,
   "metadata": {
    "collapsed": false,
    "deletable": true,
    "editable": true
   },
   "outputs": [],
   "source": [
    "# while-Schleife mit if-Statements zum Erraten einer Zahl\n",
    "\n",
    "number = 42                 # Gesuchte Zahl\n",
    "guessing = True             # Boolean fuer Steuerung der while-Schleife\n",
    "guesses = 5                 # Anzahl der Versuche fuer Ausbruch aus \n",
    "                            # der while-Schleife\n",
    "\n",
    "while guessing:\n",
    "    guess = int(input('Gib eine ganze Zahl ein: '))\n",
    "    guesses -= 1\n",
    "    \n",
    "    if guess == number:     # Richtig geraten\n",
    "        print('Herzlichen Glückwunsch, die Zahl ist {}!'.format(guess))\n",
    "        guessing = False    \n",
    "        # Aenderung des steuernden Boolean zum Austritt aus der Schleife\n",
    "        continue            # Verlaesst den aktuellen Schleifendurchgang regulaer (!)\n",
    "    \n",
    "    elif guesses <= 0:      # Versuche aufgebraucht\n",
    "        print('Schade, verloren! Irregulärer Austritt aus der Schleife.')\n",
    "        break               # Austritt aus der Schleife ohne Ausfuehrung des else-Zweigs\n",
    "    \n",
    "    elif guess < number:    # Zu klein getippt (kein Austritt aus der Schleife)\n",
    "        print('Die Zahl ist größer!')\n",
    "    \n",
    "    else:                   # Zu gross getippt (kein Austritt aus der Schleife)\n",
    "        print('Die Zahl ist kleiner!')\n",
    "    \n",
    "    print('Neuer Versuch.')\n",
    "        \n",
    "else:                       # Wird ausgefuehrt, falls die Schleife \n",
    "                            # regulaer (!) verlassen wird\n",
    "    print('Regulärer Austritt aus der Schleife.')\n",
    "\n",
    "print('Hallo aus dem aufrufenden Programm!')     # Aufruf im Hauptprogramm"
   ]
  },
  {
   "cell_type": "markdown",
   "metadata": {
    "deletable": true,
    "editable": true
   },
   "source": [
    "## Funktionen \n",
    "\n",
    "Durch Funktionen können wir häufig verwendete Befehlsfolgen an einer zentralen Stelle zusammenfassen. \n",
    "Dadurch vermeiden wir Redundanz und tragen dem **DRY-Prinzip** (*Don't Repeat Yourself*) Rechnung. \n",
    "Außerdem abstrahieren Funktionen von bestimmten komplexeren Aufgaben, wodurch sich sowohl der Code als auch der Entwicklungsprozess besser organisieren lassen.\n",
    "Wir können also einen Teil unserer Anweisungen als Funktionen **definieren** (*to define*), die wir dann nach Bedarf **aufrufen** können (*to call*). \n",
    "Funktionen, die wir auf Objekten aufrufen (`object.some_function()` anstatt lediglich `some_function()`, vgl. OOP), werden auch **Methoden** genannt.\n",
    "\n",
    "Die Definition einer klassischen Funktion bzw. Methode hat einen **Kopf** (*head*) und einen **Rumpf** (*body*). \n",
    "Der Kopf besteht aus dem Namen der Funktion und den in runden Klammern angegebenen (abstrakten) **Parametern**, die mit einem gewünschten Typ annotiert und mit einem Default-Wert versehen werden können (`parameter:type=default`).\n",
    "In einem Funktionsaufruf müssen die Parameter grundsätzlich durch passende Werte ersetzt werden, welche als (konkrete) **Argumente** bezeichnet werden. \n",
    "Parameter, denen ein Default-Wert zugeordnet wurde, können auch weggelassen werden - dann wird mit dem Default-Wert gerechnet. \n",
    "Eine noch variablere Anzahl von Parametern erreicht man durch Nutzung von `*` und `**` in der Funktionsdefinition. \n",
    "Ein mit `*` annotierter Parameter erhält ein Tupel von Argumenten; \n",
    "ein Parameter, der mit `**` annotiert ist, erhält ein Dict; \n",
    "ein Parameter mit `*` muss immer vor einem Parameter mit `**` stehen. \n",
    "Mehr dazu [hier](https://docs.python.org/dev/tutorial/controlflow.html#more-on-defining-functions).\n",
    "\n",
    "Durch die **Übergabe** (*passing*, *to pass*) von Argumenten im Funktionsaufruf erhält die Funktion die wesentlichen (idealerweise: alle) benötigten Informationen, um die in ihrem Rumpf spezifizierten Berechnungen durchführen zu können.\n",
    "Nach den im Rumpf bezeichneten Variablen wird *von innen nach außen* gesucht, d.h. Variablen außerhalb einer Funktion werden von gleichnamigen Variablen innerhalb einer Funktion **überschattet** (*shadowed*). \n",
    "Grundsätzlich gilt: alles, was innerhalb einer Funktion passiert, bleibt in dieser Funktion. \n",
    "Einfluss auf ihre Umwelt nimmt die Funktion in der Regel ausschließlich über ihr **Rückgabestatement** (*return statement*), mit dem wir einen *oder mehrere* Werte aus der Funktion hinausreichen können (*Rückgabewerte*). \n",
    "Andere Einflüsse (sog. **Seiteneffekte**) sind meistens unerwünscht, da sich der Programmablauf dann schwerer nachvollziehen lässt und Fehler nicht so einfach gefunden werden können.\n",
    "Lassen wir das Rückgabestatement weg, so wird automatisch `None` zurückgegeben; \n",
    "mehrere Werte werden als Tupel zurückgegeben.\n",
    "\n",
    "> **Vertiefungshinweise:**\n",
    ">\n",
    "> Tupel als Rückgabewerte können wir mithilfe eines `*` in die einzelnen Werte *entpacken* (*to unpack*). \n",
    "> Entpacken kann man noch sehr viel mehr (und das nicht nur mit `*`, sondern auch mit `**`), dazu bei Interesse [hier](https://www.python.org/dev/peps/pep-0448/)).\n",
    ">\n",
    "> Falls wir *ausnahmsweise* (!!!) das Bedürfnis haben, direkt Werte außerhalb der Funktion zu verändern, so können wir dies mithilfe des Schlüsselworts `global` (bzw. bei geschachtelten Funktionen unter Umständen auch `nonlocal`) tun."
   ]
  },
  {
   "cell_type": "code",
   "execution_count": null,
   "metadata": {
    "collapsed": false,
    "deletable": true,
    "editable": true
   },
   "outputs": [],
   "source": [
    "# Klassische Funktionsdefinitionen und -aufrufe\n",
    "\n",
    "seven = 7                      # Variable seven im global scope\n",
    "\n",
    "# Funktionsdefinition (local)\n",
    "def sum_two(one:int, two=2):   # Kopf mit zwei Parametern, davon einer mit \n",
    "                               # Typ-Annotation und einer mit Default-Wert\n",
    "    seven = one + two\n",
    "    return seven, one, two     # Syntax fuer die Rueckgabe mehrerer Werte\n",
    "\n",
    "# Funktionsdefinition (global)\n",
    "def sum_two_g(one:int, two=2):\n",
    "    global seven               # direkter Zugriff auf seven aus dem global scope\n",
    "    seven = one + two\n",
    "\n",
    "# Funktionsaufrufe (innerhalb der print-Funktion)\n",
    "print(sum_two(1,2), seven)     # (3, 1, 2) 7\n",
    "print(sum_two_g(1,2))          # None\n",
    "print(seven)                   # 3, da die Variable seven aus dem global scope geaendert wurde"
   ]
  },
  {
   "cell_type": "markdown",
   "metadata": {
    "deletable": true,
    "editable": true
   },
   "source": [
    "## Comprehensions und Generators\n",
    "\n",
    "**Comprehensions** und **Generators** greifen auf die oben eingeführten Kontrollflussstrukturen und auf Ideen der *funktionalen Programmierung* zurück, um uns zu helfen, mit weniger Code mehr zu sagen. \n",
    "\n",
    "Das vielleicht bekannteste Konstrukt aus dieser Kategorie ist die **List Comprehension**, deren Notation der mathematischen *Set Builder Notation* ähnelt und die sich ohne Probleme auf Sets und Dicts übertragen lässt (**Set Comprehension** bzw. **Dict Comprehension**):"
   ]
  },
  {
   "cell_type": "code",
   "execution_count": null,
   "metadata": {
    "collapsed": false,
    "deletable": true,
    "editable": true
   },
   "outputs": [],
   "source": [
    "[x for x in 'abracadabra' if x not in 'aeiou']  # ['b', 'r', 'c', 'd', 'b', 'r']"
   ]
  },
  {
   "cell_type": "markdown",
   "metadata": {
    "deletable": true,
    "editable": true
   },
   "source": [
    "Wir begnügen uns an dieser Stelle mit dem Hinweis darauf, dass es diese Konstrukte gibt, dass man unter anderem [hier](https://www.python.org/dev/peps/pep-0202/) und [hier](https://www.python.org/dev/peps/pep-0289/) etwas über sie nachlesen kann, und dass man die Lösung des *kleinen Gauß* in einer Zeile speicherplatzschonend formulieren kann:"
   ]
  },
  {
   "cell_type": "code",
   "execution_count": null,
   "metadata": {
    "collapsed": false,
    "deletable": true,
    "editable": true
   },
   "outputs": [],
   "source": [
    "sum(x for x in range(101))    # 5050"
   ]
  }
 ],
 "metadata": {
  "kernelspec": {
   "display_name": "Python [default]",
   "language": "python",
   "name": "python3"
  },
  "language_info": {
   "codemirror_mode": {
    "name": "ipython",
    "version": 3
   },
   "file_extension": ".py",
   "mimetype": "text/x-python",
   "name": "python",
   "nbconvert_exporter": "python",
   "pygments_lexer": "ipython3",
   "version": "3.6.0"
  }
 },
 "nbformat": 4,
 "nbformat_minor": 2
}
