{
 "cells": [
  {
   "cell_type": "markdown",
   "metadata": {
    "deletable": true,
    "editable": true
   },
   "source": [
    "# Legal Robots: XML-Scraping\n",
    "\n",
    "Für die Aufgabe benötigt **A.A.** zunächst einmal Daten. \n",
    "Zwar finden sich in der Bibliothek Unmengen davon; \n",
    "er rechnet aber nicht damit, einen der seltenen Scanroboter dauerhaft für sein Projekt einspannen zu können. \n",
    "Außerdem sind die Informationen in Büchern ja ganz unterschiedlich strukturiert und daher schwer auszuwerten.\n",
    "\n",
    "Da erinnert sich **A.A.** an die Webseite [Rechtsprechung im Internet](https://www.rechtsprechung-im-internet.de), \n",
    "auf der sich zahlreiche Entscheidungen der obersten Gerichte abrufen lassen. \n",
    "Über den Menüpunkt *Hinweise* erhält er ein **aktuelles Inhaltsverzeichnis** der Entscheidungen im XML-Format, \n",
    "das er sich herunterlädt und ansieht."
   ]
  },
  {
   "cell_type": "code",
   "execution_count": null,
   "metadata": {
    "collapsed": false,
    "deletable": true,
    "editable": true
   },
   "outputs": [],
   "source": [
    "<?xml version='1.0' encoding='UTF-8'?>\n",
    "<!DOCTYPE items [\n",
    " <!ELEMENT items (item)*>\n",
    " <!ELEMENT item (gericht?,entsch-datum?,aktenzeichen?,link,modified)>\n",
    " <!ELEMENT gericht (#PCDATA)>\n",
    " <!ELEMENT entsch-datum (#PCDATA)>\n",
    " <!ELEMENT aktenzeichen (#PCDATA)>\n",
    " <!ELEMENT link (#PCDATA)>\n",
    " <!ELEMENT modified (#PCDATA)>\n",
    "]>\n",
    "<!-- generator:jps20-V30_02_00 20.02.2017 10:38, lastBuildDate:24.03.2017 23:47:24 -->\n",
    "<items>\n",
    "<item>\n",
    " <gericht>BGH 9. Zivilsenat</gericht>\n",
    " <entsch-datum>20100114</entsch-datum>\n",
    " <aktenzeichen>IX ZB 72/08</aktenzeichen>\n",
    " <link>http://www.rechtsprechung-im-internet.de/jportal/docs/bsjrs/JURE100055033.zip</link>\n",
    " <modified>2016-01-25T22:46:20Z</modified>\n",
    "</item>\n",
    "<item>\n",
    " <gericht>BGH 9. Zivilsenat</gericht>\n",
    " <entsch-datum>20100114</entsch-datum>\n",
    " <aktenzeichen>IX ZB 76/09</aktenzeichen>\n",
    " <link>http://www.rechtsprechung-im-internet.de/jportal/docs/bsjrs/JURE100055035.zip</link>\n",
    " <modified>2016-01-25T22:46:20Z</modified>\n",
    "</item>\n",
    "<item>\n",
    " <gericht>BGH 2. Strafsenat</gericht>\n",
    " <entsch-datum>20100113</entsch-datum>\n",
    " <aktenzeichen>2 ARs 569/09</aktenzeichen>\n",
    " <link>http://www.rechtsprechung-im-internet.de/jportal/docs/bsjrs/JURE100055051.zip</link>\n",
    " <modified>2016-01-25T22:46:20Z</modified>\n",
    "</item>\n",
    "<item>\n",
    " <gericht>BGH 2. Strafsenat</gericht>\n",
    " <entsch-datum>20100113</entsch-datum>\n",
    " <aktenzeichen>2 StR 428/09</aktenzeichen>\n",
    " <link>http://www.rechtsprechung-im-internet.de/jportal/docs/bsjrs/JURE100055072.zip</link>\n",
    " <modified>2016-01-25T22:46:20Z</modified>\n",
    "</item>\n",
    "<!-- ... -->\n",
    "</items>"
   ]
  },
  {
   "cell_type": "markdown",
   "metadata": {
    "deletable": true,
    "editable": true
   },
   "source": [
    "#### Aufgabe 1: Code verstehen\n",
    "\n",
    "a) Schau dir die abgebildeten 42 Zeilen der Datei https://www.rechtsprechung-im-internet.de/rii-toc.xml an. \n",
    "Welche Regelmäßigkeiten stellst du fest?\n",
    "    \n",
    "b) Was soll wohl der Teil, der mit `<!DOCTYPE` beginnt?\n",
    "\n",
    "c) Besuche einen der Links aus dem Inhaltsverzeichnis und sieh dir an, was du dort erhältst. \n",
    "Was müsste man tun, um diese Daten in auswertbarer Form für sich selbst dauerhaft zu speichern?\n",
    "________"
   ]
  },
  {
   "cell_type": "markdown",
   "metadata": {
    "deletable": true,
    "editable": true
   },
   "source": [
    "Mit der Hilfe eines `Scraping-Roboters` möchte **A.A.** auf der Grundlage dieser Entscheidungen eine eigene Datenbasis erstellen. Die folgende Klasse zeigt den Aufbau eines **RII-Scraping-Roboters**:"
   ]
  },
  {
   "cell_type": "code",
   "execution_count": null,
   "metadata": {
    "collapsed": false,
    "deletable": true,
    "editable": true
   },
   "outputs": [],
   "source": [
    "import urllib.request, zipfile, io, os\n",
    "from bs4 import BeautifulSoup\n",
    "\n",
    "\n",
    "class RIIScrapingRobot:\n",
    "    \n",
    "    def __init__(self, name: str):\n",
    "        self.name = name\n",
    "        self.skill = \"Download von RII-Entscheidungen\"\n",
    "        \n",
    "        tocfile = open(\"rii-toc.xml\",\"r\")\n",
    "        toc = BeautifulSoup(tocfile, 'xml')\n",
    "        self.decisions = toc.find_all('item')\n",
    "    \n",
    "    def show_decision_count(self):\n",
    "        # TODO: Implement (Aufgabe 2a)\n",
    "        pass\n",
    "    \n",
    "    def find_latest_decision(self):\n",
    "        latest = self.decisions[0]\n",
    "        for decision in self.decisions:\n",
    "            if decision.find('entsch-datum').get_text() > latest.find('entsch-datum').get_text():\n",
    "                latest = decision\n",
    "        \n",
    "        return latest\n",
    "        \n",
    "    def show_latest_decision(self):\n",
    "        latest = self.find_latest_decision()\n",
    "    \n",
    "        latest_gericht = latest.gericht.get_text()\n",
    "        latest_az = latest.aktenzeichen.get_text()\n",
    "        latest_datum = latest.find('entsch-datum').get_text()\n",
    "        \n",
    "        print(\"Die neueste Entscheidung vom {} kommt von {} und hat das Aktenzeichen {}.\".format(\n",
    "            latest_datum, latest_gericht, latest_az))\n",
    "           \n",
    "    def show_latest_text(self):\n",
    "        latest = self.find_latest_decision()\n",
    "        link = latest.link.get_text()\n",
    "        \n",
    "        response = urllib.request.urlopen(link)\n",
    "        \n",
    "        ziphandler = zipfile.ZipFile(io.BytesIO(response.read()))\n",
    "        filename = ziphandler.namelist()[0]\n",
    "        xmltext = ziphandler.read(filename)\n",
    "        \n",
    "        textsoup = BeautifulSoup(xmltext, \"xml\")\n",
    "        \n",
    "        print(textsoup.get_text())\n",
    "    \n",
    "    \n",
    "    def save_all_decisions(self):\n",
    "        # TODO: Implement (Aufgabe 2e)\n",
    "        pass"
   ]
  },
  {
   "cell_type": "code",
   "execution_count": null,
   "metadata": {
    "collapsed": false,
    "deletable": true,
    "editable": true
   },
   "outputs": [],
   "source": [
    "# TODO: Roboter \"Scraper\" erzeugen (Aufgabe 2b)"
   ]
  },
  {
   "cell_type": "markdown",
   "metadata": {
    "deletable": true,
    "editable": true
   },
   "source": [
    "#### Aufgabe 2: Code weiterentwickeln\n",
    "\n",
    "a) Der Roboter soll bei Aufruf der Methode `show_decision_count()` ausgeben, \n",
    "wie viele Entscheidungen im Inhaltsverzeichnis gefunden wurden. Implentiere diese Methode.\n",
    "\n",
    "b) Erstelle einen Scraping Roboter mit dem Namen `Scraper` und lasse dir von ihm die wichtigsten Informationen über die neueste Entscheidung aus dem Inhaltsverzeichnis ausgeben. \n",
    "Lässt sich wirklich eindeutig *eine* neueste Entscheidung ermitteln?\n",
    "Überlege dir eine bessere Lösung für dieses Problem und implementiere diese.\n",
    "\n",
    "c) Betrachte nochmal die Ausgabe von `Scraper` aus Teilaufgabe b). \n",
    "Was stört dich noch an dieser Ausgabe? \n",
    "Wie lässt sich das Problem beheben?\n",
    "\n",
    "d) Unser Roboter verwendet eine Inhaltsverzeichnisdatei, die sich auf der Festplatte befindet. \n",
    "Erweitere den Code so, dass immer auf die jeweils aktuelle Datei bei *Rechtsprechung im Internet* zugegriffen wird.\n",
    "> **Tipp:** Eine Inspiration sollte dir die Methode `show_latest_text()` bieten.\n",
    "\n",
    "e) Der RII-Scraping-Roboter soll bei Aufruf der Methode `save_all_decisions()` die XML-Dateien aller Entscheidungen abrufen und in einen Ordner `rii-files/` ablegen. \n",
    "Vervollständige diese Methode und lasse `Scraper` sämtliche Dateien abrufen.\n",
    "> **Tipp:** Während du den Code entwickelst und testest, \n",
    "kannst du mit `for element in liste[:5]` anstelle von `for element in liste` nur die ersten fünf Elemente einer Liste durchlaufen.\n",
    "Damit kannst du den Code mit einer kleinen Testmenge prüfen und erst den korrekten Code auf alle Elemente anwenden.\n",
    "\n",
    "> **Tipp:** Die Methode [`extractall(path)`](https://docs.python.org/2/library/zipfile.html) des zipfile-Objekts entpackt alle Dateien des Archivs in den als `path` übergebenen Ordner."
   ]
  }
 ],
 "metadata": {
  "kernelspec": {
   "display_name": "Python 3",
   "language": "python",
   "name": "python3"
  },
  "language_info": {
   "codemirror_mode": {
    "name": "ipython",
    "version": 3
   },
   "file_extension": ".py",
   "mimetype": "text/x-python",
   "name": "python",
   "nbconvert_exporter": "python",
   "pygments_lexer": "ipython3",
   "version": "3.6.0"
  }
 },
 "nbformat": 4,
 "nbformat_minor": 2
}
