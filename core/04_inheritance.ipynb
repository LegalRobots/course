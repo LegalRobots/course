{
 "cells": [
  {
   "cell_type": "markdown",
   "metadata": {
    "deletable": true,
    "editable": true
   },
   "source": [
    "# Legal Robots: Vererbung"
   ]
  },
  {
   "cell_type": "markdown",
   "metadata": {
    "deletable": true,
    "editable": true
   },
   "source": [
    "Hier sehen wir uns an, wie wir Spezialisierungsbeziehungen zwischen Klassen durch Vererbung abbilden können. \n",
    "Beginnen wir wieder mit der Definition unserer Klasse `LegalRobot`:"
   ]
  },
  {
   "cell_type": "code",
   "execution_count": 1,
   "metadata": {
    "collapsed": false,
    "deletable": true,
    "editable": true
   },
   "outputs": [],
   "source": [
    "class LegalRobot:\n",
    "    \n",
    "    robot_army = set()  # Sammlung aller Roboter\n",
    "    \n",
    "    def __init__(self, name: str, the_answer):\n",
    "        self.name = name\n",
    "        self.the_answer = the_answer\n",
    "        self.skill = None\n",
    "        LegalRobot.robot_army.add(self)\n",
    "        \n",
    "    def greet(self, name: str):\n",
    "        \"\"\"Begruesst ein Gegenueber\"\"\"\n",
    "        \n",
    "        print(f\"Moin, {name}!\")\n",
    "        \n",
    "    def answer(self, question):\n",
    "        \"\"\"Beantwortet eine Frage\"\"\"\n",
    "\n",
    "        return f\"Die Antwort auf '{question}' ist '{self.the_answer}'.\""
   ]
  },
  {
   "cell_type": "markdown",
   "metadata": {
    "deletable": true,
    "editable": true
   },
   "source": [
    "Nun haben wir im Rahmen unserer Beschäftigung mit dem [Kontrollfluss](robots_controlflow.ipynb) bereits einen `CopyRobot` implementiert.\n",
    "\n",
    "Gleichzeitig hatten wir am Anfang gesehen, dass es an unserer zukunftsorientierten Juristenausbildungsstätte ganz unterschiedliche `LegalRobots` gibt. \n",
    "In ihrer Natur als `LegalRobots` haben sie einige Eigenschaften und Fertigkeiten gemeinsam, etwa hat jeder Roboter einen Namen, eine Antwort auf alles und die Fähigkeit, ein mit Namen bekanntes Gegenüber zu begrüßen. \n",
    "\n",
    "Darüber hinaus ist allerdings jeder Roboter spezialisiert. Betrachten wir dazu zunächst folgenden Ausschnitt aus einer alternativen Implementierung der Klasse `CopyRobot`:"
   ]
  },
  {
   "cell_type": "code",
   "execution_count": 4,
   "metadata": {
    "collapsed": false,
    "deletable": true,
    "editable": true
   },
   "outputs": [],
   "source": [
    "class CopyRobot(LegalRobot):\n",
    "    \n",
    "    copy_queue = []\n",
    "    \n",
    "    def __init__(self, name, the_answer, master):\n",
    "        super().__init__(name, the_answer)\n",
    "        self.master = master\n",
    "        self.skill = \"Kopieren\"\n",
    "        self.idle = True\n",
    "    \n",
    "    def add_job(self, job, petitioner, first=True):\n",
    "        #  ...\n",
    "        pass\n",
    "        \n",
    "    def make_copies(self, petitioner):\n",
    "        #  ...\n",
    "        pass"
   ]
  },
  {
   "cell_type": "markdown",
   "metadata": {
    "deletable": true,
    "editable": true
   },
   "source": [
    "> Was macht `pass`? Wie unterscheidet es sich von `break`, `continue` und `raise`?"
   ]
  },
  {
   "cell_type": "markdown",
   "metadata": {
    "deletable": true,
    "editable": true
   },
   "source": [
    "#### Aufgabe 1: Code verstehen\n",
    "a) Schreibe für jedes gegenüber der Klasse `LegalRobot` hinzugetretene Syntaxelement heraus, was du glaubst, dass es bewirkt.\n",
    "\n",
    "___\n",
    "\n",
    "b) Erstelle einen herkömmlichen `LegalRobot` und darüber hinaus für deine zwei Lieblingslehrstühle je einen Kopierroboter. Welche Attribute und Methoden teilt ein `LegalRobot` mit einem `CopyRobot`, welche Attribute und Methoden teilen mehrere `CopyRobots`?\n",
    "\n",
    "> Die `tab`-Taste könnte hier hilfreich sein."
   ]
  },
  {
   "cell_type": "markdown",
   "metadata": {
    "deletable": true,
    "editable": true
   },
   "source": [
    "#### Aufgabe 2: Code weiterentwickeln\n",
    "\n",
    "a) Erleichtere den Lehrstuhlmitarbeitern den Alltag, indem du ihnen `CoffeeRobots` zur Verfügung stellst, die natürlich auch `LegalRobots` sind. Ein Aufruf der Methode `greet` mit dem Namen einer Person soll dabei auf einem `CoffeeRobot` bewirken, dass die Person nicht mit `Moin` und ihrem Namen, sondern mit ihrem Namen und der Frage begrüßt wird, wie es denn mit einem Kaffee wäre. Sorge außerdem dafür, dass ein `CopyRobot` auf `greet` mit der Frage reagiert, welcher Baum es denn heute sein dürfe.\n",
    "___\n",
    "b)  Anders als manche anderen Roboter müssen `CoffeeRobots` und `CopyRobots` in regelmäßigen Abständen gewartet werden. Implementiere eine Klasse, die diese Funktionalität allgemein für Roboter bereitstellt, die Hilfsfunktionen im Lehralltag erfüllen, und ändere die Klassen `CoffeeRobot` und `CopyRobot` so ab, dass ihnen die Funktionalität der neuen Klasse zur Verfügung steht.\n",
    "\n",
    "> **Zusatzaufgabe:** Sorge dafür, dass der Abstand zwischen zwei Wartungen davon abhängt, wie oft der Roboter eingesetzt wurde: Je öfter der Roboter im Einsatz war, desto häufiger soll er gewartet werden müssen.\n",
    "\n",
    "___\n",
    "c) Ein Professor, der nicht an funktionale Differenzierung glaubt, wünscht sich Roboter, die sowohl Kaffee kochen als auch kopieren können. Erfülle den Wunsch des Professors mithilfe von Mehrfachvererbung. Welches Problem ergibt sich bei der Methode `greet`? Wie ließe sich dieses Problem hier sinnvoll lösen?\n",
    "\n",
    "> **Vorfrage:** Was ist überhaupt Mehrfachvererbung und wie setzt man sie in Python um?"
   ]
  }
 ],
 "metadata": {
  "kernelspec": {
   "display_name": "Python 3",
   "language": "python",
   "name": "python3"
  },
  "language_info": {
   "codemirror_mode": {
    "name": "ipython",
    "version": 3
   },
   "file_extension": ".py",
   "mimetype": "text/x-python",
   "name": "python",
   "nbconvert_exporter": "python",
   "pygments_lexer": "ipython3",
   "version": "3.6.0"
  }
 },
 "nbformat": 4,
 "nbformat_minor": 2
}
