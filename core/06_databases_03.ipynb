{
 "cells": [
  {
   "cell_type": "markdown",
   "metadata": {
    "deletable": true,
    "editable": true
   },
   "source": [
    "# Legal Robots: Datenbanken (3)"
   ]
  },
  {
   "cell_type": "markdown",
   "metadata": {
    "deletable": true,
    "editable": true
   },
   "source": [
    "Da **A.A.** mittlerweile einiges über Datenbanken weiß und ihm dieser Ansatz besser gefällt,\n",
    "als alle Daten in Dateien zu schreiben, möchte er die Entscheidungen, \n",
    "die er von RII heruntergeladen hatte, nun ebenfalls in eine Datenbank schreiben. \n",
    "\n",
    "Wir wollen ihm auch dabei behilflich sein.\n",
    "Dazu öffnen wir zunächst eine Entscheidung und sehen uns an, \n",
    "welche Informationen wir strukturiert ablegen können."
   ]
  },
  {
   "cell_type": "code",
   "execution_count": 4,
   "metadata": {
    "collapsed": false,
    "deletable": true,
    "editable": true
   },
   "outputs": [],
   "source": [
    "import sqlite3\n",
    "\n",
    "conn = sqlite3.connect('rii.db')\n",
    "    \n",
    "cursor = conn.cursor()   \n",
    "cursor.execute(\"DROP TABLE IF EXISTS Entscheidungen\")\n",
    "cursor.execute('''\n",
    "    CREATE TABLE IF NOT EXISTS Entscheidungen ( \n",
    "        doknr TEXT PRIMARY KEY,\n",
    "        ecli TEXT,\n",
    "        gertyp TEXT,\n",
    "        gerort TEXT,\n",
    "        spruchkoerper TEXT,\n",
    "        entscheidungsdatum TEXT,\n",
    "        aktenzeichen TEXT,\n",
    "        doktyp TEXT,\n",
    "        norm TEXT,\n",
    "        vorinstanz TEXT,\n",
    "        identifier TEXT,\n",
    "        volltext TEXT);''')\n",
    "\n",
    "conn.commit()\n",
    "conn.close()"
   ]
  },
  {
   "cell_type": "markdown",
   "metadata": {
    "deletable": true,
    "editable": true
   },
   "source": [
    "Ein Hilfsroboter soll das Einfügen aller Dokumente in die Datenbank übernehmen:"
   ]
  },
  {
   "cell_type": "code",
   "execution_count": 9,
   "metadata": {
    "collapsed": false,
    "deletable": true,
    "editable": true,
    "scrolled": true
   },
   "outputs": [],
   "source": [
    "import sqlite3, datetime, os\n",
    "from bs4 import BeautifulSoup\n",
    "\n",
    "class ScrapingHelperRobot:\n",
    "    \n",
    "    def __init__(self, name):\n",
    "        self.name = name\n",
    "        self.connection = sqlite3.connect('rii.db')\n",
    "        self.cursor = self.connection.cursor()  \n",
    "    \n",
    "    def insert_all_files(self):\n",
    "        for file in os.listdir(\"rii/\"):\n",
    "            try:\n",
    "                filehandle = open(\"rii/\" + file, 'r', encoding='utf8')\n",
    "                filesoup = BeautifulSoup(filehandle, \"xml\")\n",
    "                dokument = filesoup.dokument\n",
    "            \n",
    "                values = {\n",
    "                    \"doknr\" : dokument.doknr.get_text(),\n",
    "                    \"ecli\" : dokument.ecli.get_text(),\n",
    "                    \"gertyp\" : dokument.gertyp.get_text(),\n",
    "                    \"gerort\" : dokument.gerort.get_text(),\n",
    "                    \"spruchkoerper\" : dokument.spruchkoerper.get_text(),\n",
    "                    \"entscheidungsdatum\" : dokument.find(\"entsch-datum\").get_text(),\n",
    "                    \"aktenzeichen\" : dokument.aktenzeichen.get_text(),\n",
    "                    \"doktyp\" : dokument.doktyp.get_text(),\n",
    "                    \"norm\" : dokument.norm.get_text(),\n",
    "                    \"vorinstanz\" : dokument.vorinstanz.get_text(),\n",
    "                    \"identifier\" : dokument.identifier.get_text(),\n",
    "                    \"volltext\" : dokument.get_text()\n",
    "                }\n",
    "\n",
    "                sql = '''INSERT INTO Entscheidungen \n",
    "                    (doknr, ecli, gertyp, gerort, spruchkoerper, entscheidungsdatum, aktenzeichen, doktyp, norm, vorinstanz, identifier, volltext) \n",
    "                    VALUES (:doknr, :ecli, :gertyp, :gerort, :spruchkoerper, :entscheidungsdatum, :aktenzeichen, :doktyp, :norm, :vorinstanz, :identifier, :volltext)'''\n",
    "                self.cursor.execute(sql, values)\n",
    "            except UnicodeDecodeError:\n",
    "                pass\n",
    "\n",
    "        self.connection.commit()\n",
    "    \n",
    "    def __del__(self):\n",
    "        self.connection.close()"
   ]
  },
  {
   "cell_type": "markdown",
   "metadata": {
    "deletable": true,
    "editable": true
   },
   "source": [
    "___\n",
    "\n",
    "## Aufgabe 1: Code verstehen\n",
    "\n",
    "a) Betrachte die Implementierung des `ScrapingHelperRobot` und mache dir bei jedem Befehl klar, was das Programm tut. \n",
    "Wo verwenden wir bisher unbekannte Syntaxelemente? \n",
    "Was bewirken diese?\n",
    "\n",
    "b) Ändere den Code so ab, dass zum Testen nur die ersten fünf Elemente verarbeitet werden.\n",
    "Erzeuge dann einen `ScrapingHelperRobot` mit dem Namen `SHR` und prüfe, ob die Implementierung funktioniert. \n",
    "Wenn dies der Fall ist, kannst du `SHR` alle Entscheidungen einlesen lassen.\n",
    "\n",
    "c) Schau dir zunächst die Daten mit einem SQLite-Browser an (z.B. [DB Browser for SQLite](http://sqlitebrowser.org/)). \n",
    "Welche Felder sind ordentlich gepflegt, welche weniger?\n",
    "\n",
    "d) Führe die folgenden Abfragen aus und mache dir klar, was passiert. \n",
    "Spiele mit den Daten aus der Datenbank, um unterschiedliche Einblicke zu gewinnen.\n",
    "___"
   ]
  },
  {
   "cell_type": "markdown",
   "metadata": {
    "deletable": true,
    "editable": true
   },
   "source": [
    "Jetzt können wir schon einige interessante Auswertungen vornehmen. \n",
    "Dazu nutzen wir nun das **SQL-Magic** von IPython:"
   ]
  },
  {
   "cell_type": "code",
   "execution_count": null,
   "metadata": {
    "collapsed": false,
    "deletable": true,
    "editable": true
   },
   "outputs": [],
   "source": [
    "%load_ext sql"
   ]
  },
  {
   "cell_type": "code",
   "execution_count": null,
   "metadata": {
    "collapsed": false,
    "deletable": true,
    "editable": true
   },
   "outputs": [],
   "source": [
    "%sql sqlite:///rii.db"
   ]
  },
  {
   "cell_type": "markdown",
   "metadata": {
    "deletable": true,
    "editable": true
   },
   "source": [
    "### Zahlenmäßige Auswertungen"
   ]
  },
  {
   "cell_type": "code",
   "execution_count": null,
   "metadata": {
    "collapsed": false,
    "deletable": true,
    "editable": true
   },
   "outputs": [],
   "source": [
    "%sql SELECT COUNT (*) FROM Entscheidungen"
   ]
  },
  {
   "cell_type": "code",
   "execution_count": null,
   "metadata": {
    "collapsed": false,
    "deletable": true,
    "editable": true
   },
   "outputs": [],
   "source": [
    "%sql SELECT doktyp, COUNT (*) FROM Entscheidungen GROUP BY doktyp"
   ]
  },
  {
   "cell_type": "code",
   "execution_count": null,
   "metadata": {
    "collapsed": false,
    "deletable": true,
    "editable": true
   },
   "outputs": [],
   "source": [
    "%%sql\n",
    "SELECT gertyp, COUNT (*) \n",
    "FROM Entscheidungen \n",
    "GROUP BY gertyp"
   ]
  },
  {
   "cell_type": "markdown",
   "metadata": {
    "deletable": true,
    "editable": true
   },
   "source": [
    "> **Hinweis:**\n",
    "\n",
    "> Es gibt zwei Arten von Magics in IPython, `Line Magics` und `Cell Magics`. \n",
    "`Line Magics` haben das Präfix '`%`', `Cell Magics` das Präfix '`%%`'. \n",
    "Das SQL-Magic gibt es als `Line Magic` *und* als `Cell Magic`. \n",
    "Versuche, anhand der Syntax zu verstehen, worin genau der Unterschied liegt."
   ]
  },
  {
   "cell_type": "code",
   "execution_count": null,
   "metadata": {
    "collapsed": false,
    "deletable": true,
    "editable": true
   },
   "outputs": [],
   "source": [
    "%%sql\n",
    "SELECT gertyp, spruchkoerper, COUNT (*) \n",
    "FROM Entscheidungen \n",
    "GROUP BY gertyp, spruchkoerper"
   ]
  },
  {
   "cell_type": "code",
   "execution_count": null,
   "metadata": {
    "collapsed": false,
    "deletable": true,
    "editable": true
   },
   "outputs": [],
   "source": [
    "%%sql\n",
    "SELECT SUBSTR(entscheidungsdatum,1,4) AS Jahr, COUNT (*) \n",
    "FROM Entscheidungen \n",
    "GROUP BY Jahr"
   ]
  },
  {
   "cell_type": "code",
   "execution_count": null,
   "metadata": {
    "collapsed": false,
    "deletable": true,
    "editable": true
   },
   "outputs": [],
   "source": [
    "%%sql\n",
    "SELECT SUBSTR(entscheidungsdatum,5,2) AS Monat, COUNT (*) \n",
    "FROM Entscheidungen \n",
    "GROUP BY Monat"
   ]
  },
  {
   "cell_type": "markdown",
   "metadata": {
    "deletable": true,
    "editable": true
   },
   "source": [
    "### Neueste Entscheidungen"
   ]
  },
  {
   "cell_type": "code",
   "execution_count": null,
   "metadata": {
    "collapsed": false,
    "deletable": true,
    "editable": true
   },
   "outputs": [],
   "source": [
    "%%sql\n",
    "SELECT doknr, ecli, gertyp, gerort, spruchkoerper, entscheidungsdatum, aktenzeichen, \n",
    "doktyp, norm, vorinstanz, identifier \n",
    "FROM Entscheidungen \n",
    "ORDER BY entscheidungsdatum DESC \n",
    "LIMIT 3"
   ]
  },
  {
   "cell_type": "code",
   "execution_count": null,
   "metadata": {
    "collapsed": false,
    "deletable": true,
    "editable": true
   },
   "outputs": [],
   "source": [
    "%%sql\n",
    "SELECT gertyp, MAX(entscheidungsdatum) AS neuesteEntscheidungVom \n",
    "FROM Entscheidungen \n",
    "GROUP BY gertyp"
   ]
  },
  {
   "cell_type": "markdown",
   "metadata": {
    "deletable": true,
    "editable": true
   },
   "source": [
    "___\n",
    "\n",
    "## Aufgabe 2: Code weiterentwickeln\n",
    "\n",
    "a) Das Gericht wird nur mit einer Abkürzung angezeigt und der Gerichtsort ist meistens nicht ordentlich gepflegt. \n",
    "Erstelle eine Tabelle `Gerichte`, in die die Abkürzung `gertyp` (*Primary Key*!), `bezeichnung` und `ort` eingetragen werden und fülle sie mit den wichtigsten Daten. \n",
    "Du kannst mit den SQL Magics arbeiten.\n",
    "\n",
    "b) Erstelle eine Abfrage für die fünf neuesten Entscheidungen, wobei als Gericht und Gerichtsort die längere Bezeichnung aus der `Gerichte`-Tabelle und der dort vermerkte Ort anbezeigt werden sollen. "
   ]
  }
 ],
 "metadata": {
  "celltoolbar": "Raw Cell Format",
  "kernelspec": {
   "display_name": "Python 3",
   "language": "python",
   "name": "python3"
  },
  "language_info": {
   "codemirror_mode": {
    "name": "ipython",
    "version": 3
   },
   "file_extension": ".py",
   "mimetype": "text/x-python",
   "name": "python",
   "nbconvert_exporter": "python",
   "pygments_lexer": "ipython3",
   "version": "3.6.0"
  }
 },
 "nbformat": 4,
 "nbformat_minor": 2
}
