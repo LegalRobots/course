{
 "cells": [
  {
   "cell_type": "markdown",
   "metadata": {
    "deletable": true,
    "editable": true
   },
   "source": [
    "# Legal Robots: Grundlagen"
   ]
  },
  {
   "cell_type": "markdown",
   "metadata": {
    "deletable": true,
    "editable": true
   },
   "source": [
    "Hier machen wir uns anhand eines generischen Legal Robots mit den Grundlagen der Programmierung und der Python-Syntax vertraut. Lesen wir zunächst etwas Code:"
   ]
  },
  {
   "cell_type": "code",
   "execution_count": 2,
   "metadata": {
    "collapsed": false,
    "deletable": true,
    "editable": true
   },
   "outputs": [
    {
     "data": {
      "text/plain": [
       "'Die Antwort auf die Frage \"Ist der Kaufvertrag unwirksam?\" ist \"242\".'"
      ]
     },
     "execution_count": 2,
     "metadata": {},
     "output_type": "execute_result"
    }
   ],
   "source": [
    "class LegalRobot:\n",
    "    \n",
    "    robot_army = set()  # Sammlung aller Roboter\n",
    "    \n",
    "    def __init__(self, name:str, skill=None):\n",
    "        self.name = name\n",
    "        self.skill = skill\n",
    "        LegalRobot.robot_army.add(self)\n",
    "        \n",
    "    def greet(self, other):\n",
    "        \"\"\"Begruesst ein Gegenueber.\"\"\"\n",
    "        \n",
    "        print(\"Hallo, {}\".format(other.name))\n",
    "        \n",
    "    def answer(self, question):\n",
    "        \"\"\"Beantwortet eine Frage.\"\"\"\n",
    "        \n",
    "        the_answer = 242\n",
    "        return (\"Die Antwort auf die Frage \\\"%s\\\" ist \\\"%i\\\".\" % (question, the_answer))\n",
    "    \n",
    "    \n",
    "legalRobot = LegalRobot('Savigny')\n",
    "\n",
    "legalRobot.answer(\"Ist der Kaufvertrag unwirksam?\")"
   ]
  },
  {
   "cell_type": "markdown",
   "metadata": {
    "deletable": true,
    "editable": true
   },
   "source": [
    "____\n",
    "#### Aufgabe 1: Code verstehen\n",
    "\n",
    "a) Notiere alles, was dir an Äußerlichkeiten auffällt. Wo sind Muster, wo Unregelmäßigkeiten? Was könnte es damit auf sich haben?\n",
    "____\n",
    "\n",
    "b) Schreibe zu jeder nicht-leeren Zeile auf, was du glaubst, dass sie bewirkt. \n",
    "\n",
    "> **Hinweis:** Zeilennummern kannst du dir anzeigen lassen, indem du auf eine Zelle klickst (ggf. `esc` drücken, damit der Cursor die Zelle verlässt) und dann die Taste `L` (für `lines`) drückst. Nochmaliges Drücken von `L` lässt die Zeilenanzeige wieder verschwinden.\n",
    "\n",
    "____\n",
    "\n",
    "c) Arbeite mit dem Code, indem du\n",
    "  - einen neuen Roboter mit dem Namen 'Thibaut' erstellst;\n",
    "  - den Roboter mit dem Namen 'Savigny' dazu bringst, den Roboter mit dem Namen 'Thibaut' ordnungsgemäß zu begrüßen;\n",
    "  - den Roboter mit dem Namen 'Thibaut' die Frage beantworten lässt, ob Kodifikation eine gute Idee sei.\n",
    "  \n",
    "> Wie ist eigentlich die Ausgabe von `LegalRobot.robot_army` zu verstehen?"
   ]
  },
  {
   "cell_type": "markdown",
   "metadata": {
    "deletable": true,
    "editable": true
   },
   "source": [
    "____\n",
    "#### Aufgabe 2: Code weiterentwickeln\n",
    "\n",
    "Verändere die Klasse `LegalRobot` so, dass:\n",
    "\n",
    "a) der Aufruf von `legalRobot.greet('Paul Laband')` (Zeichensetzung beachten!) die Ausgabe `\"Moin, Paul Laband!\"` erzeugt; \n",
    "\n",
    "b) ein Aufruf von `LegalRobot.show_robot_names()` eine Liste der Namen aller Roboter in der Roboterarmee zurückgibt, die nach dem Alphabet *absteigend* sortiert ist; \n",
    "\n",
    "c) die Roboter `Thibaut` und `Savigny` auf die Kodifikationsfrage unterschiedliche Antworten geben (Welche? [Hier](https://de.wikipedia.org/wiki/Kodifikationsstreit) nachlesen!).\n",
    "____\n",
    "\n",
    "> Damit die Änderungen an einer Klassendefinition sich in den Attributen von Objekten der Klasse widerspiegeln, musst du die Objekte neu erstellen. Die Erstellung von Objekten einer Klasse bezeichnet man auch als **Instantiierung** der Klasse."
   ]
  },
  {
   "cell_type": "markdown",
   "metadata": {
    "deletable": true,
    "editable": true
   },
   "source": [
    "____\n",
    "#### Aufgabe 3: Hilfsmittel erkunden\n",
    "\n",
    "Mache dich mit Jupyter Notebook vertraut und versuche, dir etwaig auftretende Fragen durch eigene Recherche (nicht im [Internet](http://www.internetsociety.org/internet/what-internet/history-internet/brief-history-internet), sondern im [Web](http://webfoundation.org/about/vision/history-of-the-web/)) zu beantworten. \n",
    "\n",
    "a) Was passiert, wenn du `%whos` in einer Notebook-Zelle ausführst? Was kannst du der Ausgabe entnehmen? \n",
    "\n",
    "b) Sieh dir die Ausgabe von `%lsmagic` an und probiere einige Magics aus. \n",
    "\n",
    "c) Welche Keyboard Shortcuts stehen auf deinem Betriebssystem für Jupyter Notebook zur Verfügung? Wie kann dir die `tab`-Taste beim Programmieren behilflich sein?"
   ]
  }
 ],
 "metadata": {
  "kernelspec": {
   "display_name": "Python [default]",
   "language": "python",
   "name": "python3"
  },
  "language_info": {
   "codemirror_mode": {
    "name": "ipython",
    "version": 3
   },
   "file_extension": ".py",
   "mimetype": "text/x-python",
   "name": "python",
   "nbconvert_exporter": "python",
   "pygments_lexer": "ipython3",
   "version": "3.6.0"
  }
 },
 "nbformat": 4,
 "nbformat_minor": 2
}
