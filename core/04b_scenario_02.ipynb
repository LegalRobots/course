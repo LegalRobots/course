{
 "cells": [
  {
   "cell_type": "markdown",
   "metadata": {
    "deletable": true,
    "editable": true
   },
   "source": [
    "# Legal Robots: Szenario II\n",
    "\n",
    "Durch die exzellente Außenkommunikation mehrerer **Marketingroboter**, \n",
    "deren neuronale Netze vor mehreren Jahren einmalig auf dem Text einer einzigen Studie trainiert wurden, \n",
    "gelingt es unserer Juristenausbildungsstätte schnell, sich im Themenfeld 'Legal Tech' öffentlichkeitswirksam als Vorreiter zu positionieren.\n",
    "Kaum hat sich in der Verwaltung die Praxis etabliert, die Logs der Kopier- und Kaffeekochroboter auszudrucken, \n",
    "um diese manuell auf Unregelmäßigkeiten überprüfen zu können, kommt es daher, wie es kommen muss: \n",
    "man erhält von einer hoch angesehenen externen Stelle das Angebot, ein technologiebasiertes rechtswissenschaftliches Großprojekt durchzuführen. \n",
    "\n",
    "Entgegen den Einwänden einiger professoraler **Publikationsroboter**, die auf Basis des erfassten Nutzungsverhaltens ihrer Eigentümer anzweifeln, \n",
    "ob man unter den etwaig eingebundenen Menschen über genug Digitalkompetenzen verfüge, um ein solches Projekt zu realisieren, \n",
    "bindet sich die Institution nach mehreren Wochen zäher Verhandlungen an Version `v4_anm_prof_ok_final` \n",
    "des als Word-Dokument zwischen den Parteien hin- und hergeschickten Vertragswerks mit dem klangvollen Titel 'Legal Data Science'. \n",
    "\n",
    "Die Marketingroboter haben bereits zwei Interviews gegeben und drei Pressemitteilungen zirkuliert, \n",
    "als ein im Schuldrecht erfahrener Redigierroboter auf Paragraph 140 I 1 b) cc) vii) des Klauselwerks aufmerksam macht, \n",
    "wonach sich unsere Juristenausbildungsstätte dazu verpflichtet hat, \n",
    "bei der Durchführung des Projekts ausschließlich wissenschaftlich ausgebildete und engagierte Roboter einzusetzen. \n",
    "Im Management ist man unsicher, wie diese Klausel in den Vertrag gelangt ist - \n",
    "hatte einer der Verhandlungsroboter im Ermüdungszustand möglicherweise die Einfügung der Gegenpartei im Track-Changes-Modus übersehen? -, \n",
    "das Professorium diskutiert, ob man im vorliegenden Fall nicht ausnahmsweise `efficient breach` statt `pacta sunt servanda` vertreten könne, \n",
    "alle **Rechercherobotern** brechen in Panik aus. \n",
    "\n",
    "___"
   ]
  },
  {
   "cell_type": "markdown",
   "metadata": {},
   "source": [
    "Alle Rechercheroboter?\n",
    "Nein. \n",
    "In einer umgehend anberaumten Krisensitzung, an der sämtliche affiliierte Menschen und Maschinen teilnehmen, \n",
    "wagt sich ein noch im Training befindlicher Roboter hervor, der den anderen nur unter dem Spitznamen **A.A.** bekannt ist.\n",
    "**A.A.**, der einer Familie von Laborrobotern entstammt, bringt unter Verweis auf das letzte Wort in der Vertragsüberschrift vor, \n",
    "dass man sich zur Umsetzung des Projekts möglicherweise in den Natur- oder Sozialwissenschaften verbreiteter Prozeduren bedienen könne. \n",
    "Es folgen tumultartige Auseinandersetzungen, die erst von **H.M.** in ihrer Funktion als Sprecherin aller `LegalRobots` \n",
    "(wie sie in diese Position gelangt ist, weiß keiner mehr so genau) beendet werden kann. \n",
    "\n",
    "**H.M.** schlägt vor, das Problem im Wege der teleologischen Vertragsauslegung zu lösen - Ziel müsse sein, \n",
    "den Marketingrobotern die alleinige Durchführung des Projekts zu ermöglichen; \n",
    "die entsprechenden Mittel zum Druck von Hochglanzbroschüren seien bereits allokiert.\n",
    "Der Vorschlag findet begeisterte Zustimmung; mehrere Bücherroboter erklären sich umgehend bereit, \n",
    "alle Exemplare von Larenz/Canaris aus der Bibliothek zusammenzutragen, **H.M.** persönlich verspricht, sich der Vertragsauslegung anzunehmen. \n",
    "Die Sitzung wird geschlossen, die Erleichterung innerhalb der Akademia ist spürbar, die Menge strömt vom Audimax in die Mensa. \n",
    "\n",
    "Einzig **A.A.** bleibt zurück. \n",
    "'Legal Data Science' - was sollte das überhaupt heißen? \n",
    "Diese Frage faszinierte ihn umso mehr, als er keiner seiner Quellen eine Begriffsdefinition entnehmen konnte \n",
    "(selbst die profilierte **H.M.** hatte sich noch nicht zu der Frage geäußert). \n",
    "Er beschloss daher, selbst nach einer Antwort zu suchen. "
   ]
  },
  {
   "cell_type": "markdown",
   "metadata": {
    "deletable": true,
    "editable": true
   },
   "source": [
    "___\n",
    "\n",
    "> **Motivation**\n",
    ">\n",
    "> In den folgenden Kurseinheiten werden wir **A.A.** auf seiner Suche begleiten. \n",
    "Wir werden erkunden, was man unter 'Legal Data Science' verstehen könnte, \n",
    "und **A.A.** dabei helfen, \n",
    "Teile eines klassischen Data Science-Workflows auf Basis rechtswissenschaftlich interessanten Materials zu durchlaufen. \n",
    "Zunächst stellt sich aber die Frage: Was ist eigentlich 'Legal Data'?\n",
    "\n",
    "____"
   ]
  }
 ],
 "metadata": {
  "kernelspec": {
   "display_name": "Python [default]",
   "language": "python",
   "name": "python3"
  },
  "language_info": {
   "codemirror_mode": {
    "name": "ipython",
    "version": 3
   },
   "file_extension": ".py",
   "mimetype": "text/x-python",
   "name": "python",
   "nbconvert_exporter": "python",
   "pygments_lexer": "ipython3",
   "version": "3.6.0"
  }
 },
 "nbformat": 4,
 "nbformat_minor": 2
}
