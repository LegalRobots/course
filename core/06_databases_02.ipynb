{
 "cells": [
  {
   "cell_type": "markdown",
   "metadata": {
    "deletable": true,
    "editable": true
   },
   "source": [
    "# Legal Robots: Datenbanken (2)"
   ]
  },
  {
   "cell_type": "markdown",
   "metadata": {
    "deletable": true,
    "editable": true
   },
   "source": [
    "Für eine vernünftige Ausleihverwaltung ist das Programm aber noch nicht ausgereift genug. \n",
    "**A.A.** merkt schnell, dass bestimmte Informationen sehr häufig redundant in der Datenbank gespeichert werden. \n",
    "Ändert sich dann eine Information, müsste man alle Datensätze entsprechend anpassen.\n",
    "Wird ein Student irgendwann wissenschaftlicher Mitarbeiter, muss der `BibRobot` alle Ausleihvorgänge dieser Person heraussuchen und dort den Status entsprechend ändern.\n",
    "Das ist aufwändig und fehleranfällig.\n",
    "\n",
    "> **Hinweis**: Dieses Problem wird unter dem Stichwort **Anomalien** in relationalen Datenbanken diskutiert. Eine gängige Lösung ist die **Normalisierung** der Datenbank.\n",
    "\n",
    "Wir versuchen daher, für die Ausleihdatenbank eine bessere Struktur zu finden. \n",
    "Dazu löschen wir die Tabelle `Ausleihvorgaenge` und erstellen neue Tabellen:"
   ]
  },
  {
   "cell_type": "code",
   "execution_count": null,
   "metadata": {
    "collapsed": false,
    "deletable": true,
    "editable": true
   },
   "outputs": [],
   "source": [
    "import sqlite3\n",
    "\n",
    "conn = sqlite3.connect('bibliothek.db')    \n",
    "cursor = conn.cursor()\n",
    "\n",
    "sql = '''\n",
    "DROP TABLE IF EXISTS ausleihvorgaenge;\n",
    "DROP TABLE IF EXISTS benutzer;\n",
    "DROP TABLE IF EXISTS buecher;\n",
    "\n",
    "CREATE TABLE IF NOT EXISTS benutzer (\n",
    "    ID Integer PRIMARY KEY AUTOINCREMENT,\n",
    "    vorname TEXT,\n",
    "    nachname TEXT,\n",
    "    funktion TEXT\n",
    ");\n",
    "CREATE TABLE IF NOT EXISTS buecher (\n",
    "    ID Integer PRIMARY KEY AUTOINCREMENT,\n",
    "    autor TEXT,\n",
    "    titel TEXT\n",
    ");\n",
    "CREATE TABLE IF NOT EXISTS ausleihvorgaenge (\n",
    "    benutzerID Integer,\n",
    "    buchID Integer,\n",
    "    datum TEXT\n",
    ");\n",
    "\n",
    "INSERT INTO benutzer (vorname, nachname, funktion) VALUES (\"Flavia\", \"Fleissig\", \"Student\");\n",
    "INSERT INTO benutzer (vorname, nachname, funktion) VALUES (\"Stephan\", \"Schlau\", \"WissMit\");\n",
    "INSERT INTO benutzer (vorname, nachname, funktion) VALUES (\"Karsten\", \"Schmidt\", \"Professor\");\n",
    "\n",
    "INSERT INTO buecher (autor, titel) VALUES (\"Iustinian\", \"Corpus Iuris Civilis\");\n",
    "INSERT INTO buecher (autor, titel) VALUES (\"Savigny\", \"System des heutigen römischen Rechts\");\n",
    "INSERT INTO buecher (autor, titel) VALUES (\"Rousseau\", \"Vom Gesellschaftsvertrag oder Prinzipien des Staatsrechts\");\n",
    "'''\n",
    "\n",
    "cursor.executescript(sql)\n",
    "conn.commit()"
   ]
  },
  {
   "cell_type": "markdown",
   "metadata": {
    "deletable": true,
    "editable": true
   },
   "source": [
    "____\n",
    "\n",
    "## Aufgabe 1: Code verstehen\n",
    "\n",
    "a) Was ist wohl der Unterschied zwishen `executescript()` und `execute()`? \n",
    "\n",
    "b) Sieh dir den Code an und mache dir klar, was genau passiert. \n",
    "Welchen Vorteil hat die neue Struktur? \n",
    "\n",
    "c) Warum füllen wir nicht alle Felder der Tabellen aus?\n",
    "\n",
    "____"
   ]
  },
  {
   "cell_type": "markdown",
   "metadata": {
    "deletable": true,
    "editable": true
   },
   "source": [
    "Sehen wir uns die Inhalte der Tabellen einmal an:"
   ]
  },
  {
   "cell_type": "code",
   "execution_count": null,
   "metadata": {
    "collapsed": false,
    "deletable": true,
    "editable": true
   },
   "outputs": [],
   "source": [
    "from prettytable import from_db_cursor\n",
    "\n",
    "cursor.execute(\"SELECT * FROM benutzer\")\n",
    "print(from_db_cursor(cursor))\n",
    "\n",
    "cursor.execute(\"SELECT * FROM buecher\")\n",
    "print(from_db_cursor(cursor))"
   ]
  },
  {
   "cell_type": "markdown",
   "metadata": {
    "deletable": true,
    "editable": true
   },
   "source": [
    "Wenn *Flavia Fleissig* am *1.1.2017* das Buch *System des heutigen römischen Rechts* ausleiht, \n",
    "dann müssen wir den folgenden Datensatz in die Tabelle `ausleihvorgaenge` schreiben:"
   ]
  },
  {
   "cell_type": "code",
   "execution_count": null,
   "metadata": {
    "collapsed": false,
    "deletable": true,
    "editable": true
   },
   "outputs": [],
   "source": [
    "cursor.execute('''INSERT INTO ausleihvorgaenge (benutzerID, buchID, datum) VALUES (1, 2, \"20170101\")''')\n",
    "connection.commit()\n",
    "\n",
    "# Ergebnis anschauen\n",
    "cursor.execute(\"SELECT * FROM ausleihvorgaenge\")\n",
    "print(from_db_cursor(cursor))"
   ]
  },
  {
   "cell_type": "markdown",
   "metadata": {
    "deletable": true,
    "editable": true
   },
   "source": [
    "Erst einmal das *Positive*: \n",
    "Jeder Ausleihvorgang verweist auf einen Benutzer und auf ein Buch - wenn sich die Funktion eines Benutzers ändert, oder wenn der Titel eines Buchs berichtigt werden muss, dann müssen wir das nur an einer Stelle vornehmen. \n",
    "*Negativ* ist aber, dass wir mit der Ausgabe kaum noch etwas anfangen können.\n",
    "\n",
    "Zum Glück gibt es `JOIN`-Operationen. \n",
    "Mit `JOIN`s erhalten wir ganz leicht wieder unsere gewohnte Sicht auf die Ausleihvorgänge:"
   ]
  },
  {
   "cell_type": "code",
   "execution_count": null,
   "metadata": {
    "collapsed": false,
    "deletable": true,
    "editable": true
   },
   "outputs": [],
   "source": [
    "cursor.execute('''\n",
    "    SELECT \n",
    "        buecher.titel, buecher.autor, benutzer.vorname, benutzer.nachname, benutzer.funktion, ausleihvorgaenge.datum\n",
    "    FROM ausleihvorgaenge\n",
    "    LEFT JOIN benutzer ON ausleihvorgaenge.benutzerID = benutzer.ID\n",
    "    LEFT JOIN buecher ON ausleihvorgaenge.buchID = buecher.ID''')\n",
    "print(from_db_cursor(cursor))"
   ]
  },
  {
   "cell_type": "markdown",
   "metadata": {
    "deletable": true,
    "editable": true
   },
   "source": [
    "___\n",
    "Die folgende Klasse zeigt **A.A.**s Ansatz für einen besseren Bibliotheksroboter:"
   ]
  },
  {
   "cell_type": "code",
   "execution_count": null,
   "metadata": {
    "collapsed": true,
    "deletable": true,
    "editable": true
   },
   "outputs": [],
   "source": [
    "import sqlite3, datetime\n",
    "\n",
    "class BetterBibRobot:\n",
    "    \n",
    "    def __init__(self, name):\n",
    "        self.name = name\n",
    "        self.conn = sqlite3.connect('bibliothek.db')\n",
    "        self.cursor = self.conn.cursor()  \n",
    "        \n",
    "    def get_buchID(self, autor, titel):\n",
    "        pass\n",
    "    \n",
    "    def get_benutzerID(self, vorname, nachname):\n",
    "        pass\n",
    "    \n",
    "    def checkout(self, buchID, benutzerID):\n",
    "        pass\n",
    "    \n",
    "    def checkin(self, buchID):\n",
    "        pass\n",
    "    \n",
    "    def is_checked_out(self, buchID):\n",
    "        pass\n",
    "    \n",
    "    def checked_out_by(self, benutzerID):\n",
    "        # Gibt eine Liste der Bücher aus, die der Benutzer ausgeliehen hat\n",
    "        pass\n",
    "    \n",
    "    def __del__(self):\n",
    "        self.conn.close()"
   ]
  },
  {
   "cell_type": "markdown",
   "metadata": {
    "deletable": true,
    "editable": true
   },
   "source": [
    "____\n",
    "\n",
    "## Aufgabe 2: Code weiterentwickeln\n",
    "\n",
    "Vervollständige die Klasse `BetterBibRobot`."
   ]
  },
  {
   "cell_type": "code",
   "execution_count": null,
   "metadata": {
    "collapsed": false
   },
   "outputs": [],
   "source": [
    "# Testcode\n",
    "bebiro = BetterBibRobot(\"Bebiro\")\n",
    "bebiro.is_checked_out(1)\n",
    "bebiro.checkout(1,1)\n",
    "bebiro.is_checked_out(1)\n",
    "bebiro.checkout(2,1)\n",
    "bebiro.checked_out_by(1)\n",
    "bebiro.checkin(1)\n",
    "bebiro.checkin(2)"
   ]
  },
  {
   "cell_type": "markdown",
   "metadata": {
    "deletable": true,
    "editable": true
   },
   "source": [
    "___\n",
    "Der Bibliotheksroboter und **A.A.** haben erfolgreich einen funktionsfähigen, modernen Verwaltungsroboter gebaut. Natürlich lassen sich noch etliche Dinge verbessern. Da die Grundfunktionalität aber gegeben ist, geht **A.A.** Davon aus, dass der mechanische Bibliotheksroboter dies in einer ruhigen Minute alleine bewerkstelligen kann. Daher widmen die beiden sich nun wieder **A.A.**s ursprünglichem Projekt."
   ]
  }
 ],
 "metadata": {
  "kernelspec": {
   "display_name": "Python 3",
   "language": "python",
   "name": "python3"
  },
  "language_info": {
   "codemirror_mode": {
    "name": "ipython",
    "version": 3
   },
   "file_extension": ".py",
   "mimetype": "text/x-python",
   "name": "python",
   "nbconvert_exporter": "python",
   "pygments_lexer": "ipython3",
   "version": "3.6.0"
  }
 },
 "nbformat": 4,
 "nbformat_minor": 2
}
