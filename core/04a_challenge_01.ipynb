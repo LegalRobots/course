{
 "cells": [
  {
   "cell_type": "markdown",
   "metadata": {},
   "source": [
    "# Challenge\n",
    "\n",
    "Wir haben im Rahmen des Tutorials nur Ausschnitte des im Ausgangsszenario skizzierten Roboteruniversums betrachtet. \n",
    "\n",
    "Vervollständige deine bisherige Übersetzung des Szenarios in Python-Code, indem du fehlende Roboterklassen und eventuell weitere Nicht-Roboterklassen einführst, die Vererbungshierarchien vollständig umsetzt und insbesondere Subsumtionsautomaten die Fähigkeit gibst, auf entsprechende Anforderung Prüfungsschemata herunterzubeten. \n",
    "\n",
    "Versuche dabei, dich stilistisch an [PEP 8](https://www.python.org/dev/peps/pep-0008/) zu orientieren und die innerhalb des Tutorials erlernten Konzepte möglichst bewusst einzusetzen.\n",
    "\n",
    "Falls du dich besonders herausfordern möchtest, informiere dich über `tkinter` und baue für deine Subsumtionsautomaten eine graphische Benutzeroberfläche (GUI) oder serve deine Roboter mit eine `django`-App in die große weite Welt. \n",
    "\n",
    "**Happy Coding!**"
   ]
  }
 ],
 "metadata": {
  "kernelspec": {
   "display_name": "Python 3",
   "language": "python",
   "name": "python3"
  },
  "language_info": {
   "codemirror_mode": {
    "name": "ipython",
    "version": 3
   },
   "file_extension": ".py",
   "mimetype": "text/x-python",
   "name": "python",
   "nbconvert_exporter": "python",
   "pygments_lexer": "ipython3",
   "version": "3.6.0"
  }
 },
 "nbformat": 4,
 "nbformat_minor": 2
}
