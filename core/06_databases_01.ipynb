{
 "cells": [
  {
   "cell_type": "markdown",
   "metadata": {
    "deletable": true,
    "editable": true
   },
   "source": [
    "# Legal Robots: Datenbanken (1)"
   ]
  },
  {
   "cell_type": "markdown",
   "metadata": {
    "deletable": true,
    "editable": true
   },
   "source": [
    "**A.A.** ist der Meinung, zur Organsation der ganzen Daten müsse es doch eine bessere Möglichkeit geben, \n",
    "als diese in einzelnen Dateien auf der Festplatte zu speichern. \n",
    "Er vermutet, in der **Bibliothek** Hilfe zu bekommen - \n",
    "schließlich werden dort Unmengen von Daten verwaltet und auch für die Bücherausleihe werde ja ein intelligentes System zur Verfügung stehen.\n",
    "\n",
    "Doch auch an **A.A.**s fortschrittlicher Juristenausbildungsstätte genießen Bücher eine gewisse Tradition. \n",
    "Die Ausleihvorgänge werden von mechanischen Bibliotheksrobotern abgewickelt, \n",
    "die Karteikarten als Platzhalter für entliehene Bücher in die Regale sortieren. \n",
    "Fragt man nach einem Buch, sucht einer der Bibliotheksroboter nach der entsprechenden Karteikarte und übermittelt die enthaltenen Informationen. \n",
    "**A.A.** beschließt, diesem Missstand ein Ende zu setzen, \n",
    "um anschließend seinem eigenen Großprojekt guten Gewissens nachgehen zu können."
   ]
  },
  {
   "cell_type": "markdown",
   "metadata": {
    "deletable": true,
    "editable": true
   },
   "source": [
    "Wir wollen **A.A.** unterstützen, indem wir intelligente Verwaltungsroboter bereitstellen.\n",
    "Zunächst müssen wir uns dafür überlegen, welche Daten erfasst werden sollen. \n",
    "Wir möchten **Vorname** und **Nachname** des Entleihers, seine Funktion (**WissMit**, **Student** oder **Professor**), **Titel** und **Autor** des Buchs und das **Ausleihdatum** speichern. \n",
    "Ein Ausleihvorgang soll also etwa so aussehen:\n",
    "\n",
    "`Flavia | Fleissig | Student | Corpus Iuris Civilis | Iustinian | 20170329`"
   ]
  },
  {
   "cell_type": "markdown",
   "metadata": {
    "deletable": true,
    "editable": true
   },
   "source": [
    "## Datenbank anlegen und Tabelle erstellen\n",
    "Wir testen erst einmal das SQLite Datenbanksystem und legen ggf. eine Datenbank `bibliothek.db` an:"
   ]
  },
  {
   "cell_type": "code",
   "execution_count": 3,
   "metadata": {
    "collapsed": false,
    "deletable": true,
    "editable": true
   },
   "outputs": [
    {
     "name": "stdout",
     "output_type": "stream",
     "text": [
      "('3.14.2',)\n"
     ]
    }
   ],
   "source": [
    "import sqlite3\n",
    "\n",
    "conn = sqlite3.connect('bibliothek.db')\n",
    "    \n",
    "cursor = conn.cursor()    \n",
    "cursor.execute('SELECT SQLITE_VERSION()')\n",
    "    \n",
    "print(cursor.fetchone())"
   ]
  },
  {
   "cell_type": "markdown",
   "metadata": {
    "deletable": true,
    "editable": true
   },
   "source": [
    "> Frage: Was tun `conn` und `cursor`?\n",
    "\n",
    "Nun erstellen wir in der Datenbank `bibliothek.db` eine entsprechende Tabelle, die alle erforderlichen Spalten für einen Ausleihvorgang enthält:"
   ]
  },
  {
   "cell_type": "code",
   "execution_count": 5,
   "metadata": {
    "collapsed": false,
    "deletable": true,
    "editable": true
   },
   "outputs": [],
   "source": [
    "sql = '''CREATE TABLE IF NOT EXISTS ausleihvorgaenge (\n",
    "    vorname TEXT, \n",
    "    nachname TEXT,\n",
    "    funktion TEXT,\n",
    "    autor TEXT,\n",
    "    titel TEXT,\n",
    "    datum TEXT)'''\n",
    "cursor.execute(sql)\n",
    "conn.commit()"
   ]
  },
  {
   "cell_type": "markdown",
   "metadata": {
    "deletable": true,
    "editable": true
   },
   "source": [
    "## Daten in die Tabelle einfügen\n",
    "Dann geht **A.A.** durch die Regale und zieht einige Platzhalter-Karten von ausgeliehenen Büchern heraus. \n",
    "Die Daten auf der Karte fügt er in die neue Ausleihdatenbank ein. \n",
    "Dabei fällt ihm auf, dass die Ausleihfrist bei einzelnen Büchern doch schon etwas länger überschritten ist - das soll in Zukunft nicht mehr passieren."
   ]
  },
  {
   "cell_type": "code",
   "execution_count": null,
   "metadata": {
    "collapsed": true,
    "deletable": true,
    "editable": true
   },
   "outputs": [],
   "source": [
    "data = [\n",
    "    (\"Flavia\", \"Fleissig\", \"Student\", \"Corpus Iuris Civilis\", \"Iustinian\", \"20170329\"),\n",
    "    (\"Stephan\", \"Schlau\", \"WissMit\", \"System des heutigen römischen Rechts\", \"Savigny\", \"20170330\"),\n",
    "    (\"Karsten\", \"Schmidt\", \"Professor\", \"Vom Gesellschaftsvertrag oder Prinzipien des Staatsrechts\", \"Rousseau\", \"19820117\")\n",
    "]\n",
    "for element in data:\n",
    "    cursor.execute(\"INSERT INTO Ausleihvorgaenge (vorname, nachname, funktion, autor, titel, datum) VALUES (?, ?, ?, ?, ?, ?)\", element)\n",
    "\n",
    "conn.commit()"
   ]
  },
  {
   "cell_type": "markdown",
   "metadata": {
    "deletable": true,
    "editable": true
   },
   "source": [
    "## Daten auslesen\n",
    "Die gesamten Ausleihdaten kann **A.A.** sich nun ganz einfach ausgeben lassen:"
   ]
  },
  {
   "cell_type": "code",
   "execution_count": null,
   "metadata": {
    "collapsed": false,
    "deletable": true,
    "editable": true
   },
   "outputs": [],
   "source": [
    "cursor.execute(\"SELECT * FROM ausleihvorgaenge\")\n",
    "print(cursor.fetchall())"
   ]
  },
  {
   "cell_type": "markdown",
   "metadata": {
    "deletable": true,
    "editable": true
   },
   "source": [
    "... auf den ersten Blick aber nicht besonders schön und übersichtlich. \n",
    "Für einen besseren Überblick muss **A.A.** die Ausgabe noch besser formatiert darstellen und kann die Abfrage auf bestimmte Spalten beschränken:"
   ]
  },
  {
   "cell_type": "code",
   "execution_count": null,
   "metadata": {
    "collapsed": false,
    "deletable": true,
    "editable": true
   },
   "outputs": [],
   "source": [
    "from prettytable import from_db_cursor\n",
    "\n",
    "cursor.execute(\"SELECT vorname, nachname, autor, titel, datum FROM ausleihvorgaenge\")\n",
    "print(from_db_cursor(cursor))"
   ]
  },
  {
   "cell_type": "markdown",
   "metadata": {
    "deletable": true,
    "editable": true
   },
   "source": [
    "## Verbindung schließen\n",
    "Nach getaner Arbeit schließt **A.A.** die Verbindung zur Datenbank."
   ]
  },
  {
   "cell_type": "code",
   "execution_count": 6,
   "metadata": {
    "collapsed": true,
    "deletable": true,
    "editable": true
   },
   "outputs": [],
   "source": [
    "conn.close()"
   ]
  },
  {
   "cell_type": "markdown",
   "metadata": {
    "deletable": true,
    "editable": true
   },
   "source": [
    "## Einfacher Bibliotheksroboter\n",
    "Nach ihren ersten, durchaus vielversprechenden Versuchen machen sich **A.A.** und der Bibliotheksroboter daran, einen ersten modernen Verwaltungsroboter zu bauen. Die folgende Klasse zeigt einen ersten Prototyp:"
   ]
  },
  {
   "cell_type": "code",
   "execution_count": 2,
   "metadata": {
    "collapsed": true,
    "deletable": true,
    "editable": true
   },
   "outputs": [],
   "source": [
    "import sqlite3, datetime\n",
    "\n",
    "class BibRobot:\n",
    "    \n",
    "    def __init__(self, name):\n",
    "        self.name = name\n",
    "        self.conn = sqlite3.connect('bibliothek.db')\n",
    "        self.cursor = self.conn.cursor()  \n",
    "    \n",
    "    def checkout(self, vorname, nachname, funktion, autor, titel):\n",
    "        # Datensatz in die Tabelle `Ausleihvorgaenge` einfügen\n",
    "        currentdate = datetime.datetime.now().strftime(\"%Y%m%d\")\n",
    "        pass\n",
    "    \n",
    "    def checkin(self, autor, titel):\n",
    "        # Datensatz aus der Tabelle `ausleihvorgaenge` entfernen\n",
    "        pass\n",
    "    \n",
    "    def is_checked_out(self, autor, titel):\n",
    "        # Prüfen, ob ein bestimmtes Buch ausgeliehen ist\n",
    "        pass\n",
    "\n",
    "    def __del__(self):\n",
    "        self.conn.close()"
   ]
  },
  {
   "cell_type": "markdown",
   "metadata": {
    "deletable": true,
    "editable": true
   },
   "source": [
    "___\n",
    "\n",
    "#### Aufgabe 1: Code verstehen\n",
    "\n",
    "a) Schau dir die einführenden Beispiele an und versuche zu verstehen, was jeweils passiert. \n",
    "Experimentiere mit den einzelnen Elementen, \n",
    "um selbst Datensätze anzulegen, abzufragen oder zu löschen.\n",
    "\n",
    "b) Betrachte die unvollständige Klasse `BibRobot` und mache dir die vorhandene und die gewünschte Funktionalität klar.\n",
    "\n",
    "c) Welches Problem könnte entstehen, wenn wir mehrere `BibRobot`s erzeugen?\n",
    "\n",
    "____\n",
    "\n",
    "#### Aufgabe 2: Code weiterentwickeln\n",
    "\n",
    "a) Die Methode `checkout()` soll einen Ausleihvorgang starten. \n",
    "Implementiere die Methode entsprechend. \n",
    "Implementiere außerdem die Methode `checkin()`, die einen Ausleihvorgang beendet, \n",
    "wenn das Buch zurückgebracht wurde. \n",
    "\n",
    "b) Schließlich soll die Methode `is_checked_out()` überprüfen, ob ein Buch ausgeliehen ist.\n",
    "Wenn das nicht der Fall ist, soll die Meldung ausgegeben werden, \n",
    "dass das Buch noch verfügbar ist. \n",
    "Ansonsten soll der Roboter mitteilen, an wen und wann das Buch verliehen wurde.\n",
    "\n",
    "c) Außerdem sollte die Methode `checkout()` nochmal überarbeitet werden. \n",
    "Schließlich kann ein Buch, das schon ausgeliehen ist, nicht nochmal ausgeliehen werden. \n",
    "Die Methode würde aktuell einen falschen Datensatz in die Datenbank schreiben. \n",
    "Fange diesen Fehler ab, indem du den Interessenten darauf hinweist, \n",
    "dass das gewünschte Buch leider bereits verliehen ist.\n",
    "\n",
    "> **Tipp:** Nutze den folgenden Code mit dem BibRobot `Biro`, \n",
    "um deine Implementierungen zu testen."
   ]
  },
  {
   "cell_type": "code",
   "execution_count": null,
   "metadata": {
    "collapsed": false,
    "deletable": true,
    "editable": true
   },
   "outputs": [],
   "source": [
    "### Testcode\n",
    "biro = BibRobot(\"Biro\")\n",
    "\n",
    "biro.is_checked_out(\"Jellinek\", \"System der subjektiven öffentlichen Rechte\")\n",
    "# Sollte eine negative Meldung geben\n",
    "\n",
    "biro.checkout(\"Flavia\", \"Fleissig\", \"WissMit\", \"Jellinek\", \"System der subjektiven öffentlichen Rechte\")\n",
    "biro.is_checked_out(\"Jellinek\", \"System der subjektiven öffentlichen Rechte\")\n",
    "# Sollte darauf hinweisen, dass Flavia Fleissig das Buch heute ausgeliehen hat\n",
    "\n",
    "biro.checkout(\"Stephan\", \"Schlau\", \"WissMit\", \"Jellinek\", \"System der subjektiven öffentlichen Rechte\")\n",
    "# Sollte darauf hinweisen, dass das Buch nicht verfügbar ist\n",
    "\n",
    "biro.checkin(\"Jellinek\", \"System der subjektiven öffentlichen Rechte\")\n",
    "biro.is_checked_out(\"Jellinek\", \"System der subjektiven öffentlichen Rechte\")\n",
    "# Sollte eine negative Meldung geben"
   ]
  }
 ],
 "metadata": {
  "kernelspec": {
   "display_name": "Python 3",
   "language": "python",
   "name": "python3"
  },
  "language_info": {
   "codemirror_mode": {
    "name": "ipython",
    "version": 3
   },
   "file_extension": ".py",
   "mimetype": "text/x-python",
   "name": "python",
   "nbconvert_exporter": "python",
   "pygments_lexer": "ipython3",
   "version": "3.6.0"
  }
 },
 "nbformat": 4,
 "nbformat_minor": 2
}
