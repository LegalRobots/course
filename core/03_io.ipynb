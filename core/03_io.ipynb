{
 "cells": [
  {
   "cell_type": "markdown",
   "metadata": {
    "deletable": true,
    "editable": true
   },
   "source": [
    "# Legal Robots: I/O\n",
    "\n",
    "Wir haben uns bereits ein wenig mit Datentypen und Kontrollfluss beschäftigt. \n",
    "Hier lernen wir nun anhand der Klasse `Subsumtionsautomat`, wie man in Dateien schreibt und aus Dateien liest. \n",
    "Betrachten wir dazu den Anfang einer Implementierung der Klasse `Subsumtionsautomat`:"
   ]
  },
  {
   "cell_type": "code",
   "execution_count": 21,
   "metadata": {
    "collapsed": false,
    "deletable": true,
    "editable": true
   },
   "outputs": [],
   "source": [
    "class Subsumtionsautomat:\n",
    "    \n",
    "    vocabulary = {}\n",
    "    \n",
    "    def __init__(self, name: str, the_answer):\n",
    "        self.name = name\n",
    "        self.the_answer = the_answer\n",
    "        self.skill = \"Beantwortung von Rechtsfragen\"\n",
    "        \n",
    "    def set_definition(self, term):\n",
    "        \"\"\"Definiert eine juristische Vokabel in Interaktion mit dem Nutzer\"\"\"\n",
    "        \n",
    "        if term in Subsumtionsautomat.vocabulary.keys():\n",
    "            answer = input('Begriff bereits definiert! Überschreiben? y/n')\n",
    "            if str(answer).lower() == 'y':\n",
    "                Subsumtionsautomat.vocabulary[term] = (input('Bitte Definition eingeben:'), self.name)\n",
    "                print(f'Definition für {term} überschrieben.')\n",
    "            else:\n",
    "                print('Definitionsvorgang abgebrochen.')\n",
    "        \n",
    "        else:\n",
    "            Subsumtionsautomat.vocabulary[term] = (input(f'Definition von {term}: '), self.name)\n",
    "            print('Definition registriert.')\n",
    "            \n",
    "    @classmethod        \n",
    "    def write_vocabulary(cls, path: str = 'vocabulary.txt'):\n",
    "        with open(path, 'w+') as f:\n",
    "            override = True\n",
    "            if f.readline() is not None:\n",
    "                answer = input('Überschreiben? y/n ')\n",
    "                if str(answer).lower() != 'y':\n",
    "                    override = False\n",
    "            if override:\n",
    "                f.write('Das Vokabular der Legal Robots:\\n\\n\\n')\n",
    "                \n",
    "                #  TODO\n",
    "                \n",
    "                f.write('\\nInsgesamt %i Begriffe.\\n'%len(cls.vocabulary))\n",
    "                print('Vokabular in txt geschrieben!')"
   ]
  },
  {
   "cell_type": "markdown",
   "metadata": {
    "deletable": true,
    "editable": true
   },
   "source": [
    "#### Aufgabe 1: Code verstehen\n",
    "\n",
    "a) Schreibe für jedes Syntaxelement, das noch nicht in anderem Kontext eingeführt wurde, auf, was du glaubst, dass es bewirkt.\n",
    "\n",
    "____\n",
    "\n",
    "b) Mache dich mit der Klasse `Subsumtionsautomat` vertraut, indem du mehrere Automaten erstellst und ihnen unterschiedliche Definitionen des Begriffs `Kausalität` mitgibst. \n",
    "Was fällt auf?\n",
    "\n",
    "____\n",
    "\n",
    "c) Finde heraus, wie du schon jetzt einzelne Vokabeln mithilfe der Subsumtionsautomaten nachschlagen kannst. Schreibe dann eine Klassenmethode `get_definition`, die einen Begriff erhält und eine Vokabel nachschlägt. Wenn die Vokabel nicht gefunden wird, soll der Nutzer darüber informiert werden. "
   ]
  },
  {
   "cell_type": "markdown",
   "metadata": {
    "deletable": true,
    "editable": true
   },
   "source": [
    "#### Aufgabe 2: Code weiterentwickeln\n",
    "\n",
    "a) Es kann vorkommen, dass einzelne Rechtsgebiete dieselben Vokabeln unterschiedlich definiert wissen wollen. \n",
    "  - Sorge dafür, dass der Subsumtionsautomat neben der Definition der Vokabel immer auch eine Kategorisierung der Definition aufnimmt und diese als Teil des Schlüssels der Definition abspeichert. \n",
    "  - Passe die Methode `write_vocabulary` so an, dass auch die Kategorie der Definition mit ausgeschrieben wird.\n",
    "  - Definiere für die Kategorien `Strafrecht` und `Zivilrecht` jeweils `Vorsatz` und `Fahrlässigkeit` und lasse dir dann auf der Konsole ausgeben:\n",
    "       -  eine Liste aller fürs Strafrecht definierten Terme mit den ihn zugeordneten Definitionen;\n",
    "       -  den Term `Vorsatz` und dann für jedes Rechtsgebiet, für das er definiert ist, den Namen des Rechtsgebiets sowie die dem Term in diesem Rechtsgebiet zugeordnete Definition.\n",
    "___\n",
    "\n",
    "b) Verbessere die Möglichkeiten, das gesamte Vokabular der Subsumtionsautomaten anzusehen, indem du\n",
    "  - eine Methode schreibst, die das komplette Vokabular aller Subsumtionsautomaten so auf der Konsole ausgibt, dass man es gut lesen kann (wie genau, ist dir überlassen!).\n",
    "  \n",
    "  > Sollte es sich hierbei um eine 'normale' Methode oder eine Klassenmethode handeln?\n",
    "  \n",
    "  - den Code an der mit `# TODO` gekennzeichneten Stelle (Z. 35) so ergänzt, dass das gesamte Vokabular gut lesbar in eine `txt`-Datei geschrieben wird.\n",
    "\n",
    "___\n",
    "\n",
    "c) Schreibe eine Klassenmethode `read_vocabulary`, die das Vokabular aus einer `txt`-Datei in die Klassenvariable `vocabulary` einliest. Achte auf eine geeignete Zeichenkodierung und darauf, dass die Methode mit deiner Implementierung von `write_vocabulary` harmoniert.\n",
    "\n",
    "> Das Konzept des `iterator` könnte hier hilfreich sein."
   ]
  }
 ],
 "metadata": {
  "kernelspec": {
   "display_name": "Python [default]",
   "language": "python",
   "name": "python3"
  },
  "language_info": {
   "codemirror_mode": {
    "name": "ipython",
    "version": 3
   },
   "file_extension": ".py",
   "mimetype": "text/x-python",
   "name": "python",
   "nbconvert_exporter": "python",
   "pygments_lexer": "ipython3",
   "version": "3.6.0"
  }
 },
 "nbformat": 4,
 "nbformat_minor": 2
}
