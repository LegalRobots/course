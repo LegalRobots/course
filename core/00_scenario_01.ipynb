{
 "cells": [
  {
   "cell_type": "markdown",
   "metadata": {
    "deletable": true,
    "editable": true
   },
   "source": [
    "# Legal Robots: Szenario I\n",
    "\n",
    "Wir schreiben das Jahr 2020. \n",
    "Um ihrer seit den 70er Jahren angekündigten Ersetzung durch Maschinen zuvorzukommen, \n",
    "sind die Juristen dazu übergegangen, sich von vornherein durch Roboter vertreten zu lassen. \n",
    "\n",
    "Die Entwicklung ist sogar an der Akademia nicht spurlos vorübergegangen: \n",
    "Unter den Wissenschaftlichen Hilfskräften erfreuen sich die **Kopierroboter** und die **Kaffeekochroboter** großer Beliebtheit; \n",
    "im akademischen Mittelbau wächst die Nachfrage nach **Redigierrobotern** und **Präsenzzeitrobotern**; \n",
    "zwischen den Professoren entstehen die ersten Rangeleien um die kreativsten **Klausurenkreationsroboter**, \n",
    "welche zugleich die probabilistische Benotung auf Basis der juristischen Normalverteilung in Echtzeit beherrschen. \n",
    "\n",
    "Zur Einübung der technologiebasierten Praxis macht eine der führenden Juristenausbildungseinrichtungen ihre Studenten \n",
    "schon früh mit der Steuerung von Robotern vertraut:\n",
    "\n",
    "Zur Immatrikulation erhält jeder Student einen adaptiven **Trägerroboter**, der im ersten Studienjahr nur dtv-Texte aufnimmt, \n",
    "seine Kapazität dann aber schnell auf Schönfelder und Sartorius (plus Landesrecht und MacBook Pro der neuesten Generation) erweitert. \n",
    "Das Werbegeschenk eines Verlagshauses folgt seinem Eigentümer (!) in Campus-Reichweite auf Schritt und Tritt \n",
    "und bietet eine automatische Nachsortierung aller unfreiwillig kostenpflichtig erworbenen Ergänzungslieferungen an. \n",
    "\n",
    "Studenten, die sich in der Hausarbeitenphase befinden, bekommen kostenfreien Zugang zu maximal einem **Bücherroboter**, \n",
    "der mittels selbstlernender Algorithmen zielgenau auch die Quellen aufspürt, die von traditionell arbeitenden Kommilitonen \n",
    "mühsam hinter den lateinisch- und altgriechischsprachigen Nachschlagewerken in den Regalen der Rechtsgeschichte verstaut wurden. \n",
    "\n",
    "Prüfungen werden standardmäßig durch **Subsumtionsautomaten** abgelegt. \n",
    "Jedem Studenten sind drei solcher Automaten zugeordnet, \n",
    "die jeweils genau eine der drei großen Fachsäulen Zivilrecht, Öffentliches Recht und Strafrecht abdecken. \n",
    "Die Studenten bringen ihren Robotern das Rechnen mit juristischen Begriffen bei, \n",
    "sorgen für regelmäßige Updates bei Prüfungsschemata und Definitionen und trainieren ihre Roboter auf die einzelnen Prüfungssituationen. \n",
    "\n",
    "Ob die unter den Robotern beobachtete Praxis, Vokabular über die Fachsäulen hinweg zu synchronisieren, \n",
    "als rechtswissenschaftsfeindlich zu unterbinden ist, wird in den akademischen Gremien immer wieder intensiv diskutiert. \n",
    "Seit der ungeschützte ÖR-Roboter eines Kommilitonen in einem aus Josephine Mutzenbacher generierten Klausurfall \n",
    "mit \"I know it when I see it\" antwortete, \n",
    "verzeichnet der **Didaktikroboter** des Studium Generale eine erhöhte Anwesenheitsquote in der Zusatzveranstaltung \"Hacking Law\".\n",
    "In der Verwaltung beschloss man in Reaktion auf den Vorfall, die **Drohnenflotte** der IT-Abteilung nochmals zu verstärken. \n",
    "\n",
    "____\n",
    "\n",
    "> **Motivation**\n",
    "\n",
    ">Im Jahr 2017 klingt dieses Szenario nicht so absurd, wie es vielleicht klingen sollte. \n",
    "Wir wollen einen Beitrag zu seiner Verhinderung leisten, indem wir es nutzen, um uns die Grundlagen der Programmierung schrittweise \n",
    "zu erschließen. \n",
    "Dazu beginnen wir mit der Frage: Wie können wir den geschilderten Sachverhalt im Computer repräsentieren?"
   ]
  }
 ],
 "metadata": {
  "kernelspec": {
   "display_name": "Python 3",
   "language": "python",
   "name": "python3"
  },
  "language_info": {
   "codemirror_mode": {
    "name": "ipython",
    "version": 3
   },
   "file_extension": ".py",
   "mimetype": "text/x-python",
   "name": "python",
   "nbconvert_exporter": "python",
   "pygments_lexer": "ipython3",
   "version": "3.6.0"
  }
 },
 "nbformat": 4,
 "nbformat_minor": 2
}
