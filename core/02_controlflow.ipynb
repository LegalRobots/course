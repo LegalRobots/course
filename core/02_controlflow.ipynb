{
 "cells": [
  {
   "cell_type": "markdown",
   "metadata": {
    "deletable": true,
    "editable": true
   },
   "source": [
    "# Legal Robots: Kontrollfluss"
   ]
  },
  {
   "cell_type": "markdown",
   "metadata": {
    "deletable": true,
    "editable": true
   },
   "source": [
    "Hier sehen wir uns an, wie wir die Funktionalitäten der im Ausgangsszenario beschriebenen Roboter realisieren können. \n",
    "Führen wir uns noch einmal eine leicht angepasste Version der Definition unserer Klasse `LegalRobot` vor Augen:"
   ]
  },
  {
   "cell_type": "code",
   "execution_count": 38,
   "metadata": {
    "collapsed": false,
    "deletable": true,
    "editable": true
   },
   "outputs": [],
   "source": [
    "class LegalRobot:\n",
    "    \n",
    "    robot_army = set()  # Sammlung aller Roboter\n",
    "    \n",
    "    def __init__(self, name: str, the_answer):\n",
    "        self.name = name\n",
    "        self.the_answer = the_answer\n",
    "        self.skill = None\n",
    "        LegalRobot.robot_army.add(self)\n",
    "        \n",
    "    def greet(self, name: str):\n",
    "        \"\"\"Begruesst ein Gegenueber\"\"\"\n",
    "        \n",
    "        print(f\"Moin, {name}!\")\n",
    "        \n",
    "    def answer(self, question):\n",
    "        \"\"\"Beantwortet eine Frage\"\"\"\n",
    "\n",
    "        return f\"Die Antwort auf '{question}' ist '{self.the_answer}'.\""
   ]
  },
  {
   "cell_type": "markdown",
   "metadata": {
    "deletable": true,
    "editable": true
   },
   "source": [
    "> Was hat es mit dem `f` und dem Text in geschweiften Klammern auf sich?"
   ]
  },
  {
   "cell_type": "markdown",
   "metadata": {
    "deletable": true,
    "editable": true
   },
   "source": [
    "Nun reichen die Fähigkeiten eines herkömmlichen `LegalRobot` noch nicht annähernd an das heran, was die Mitglieder unserer Juristenausbildungseinrichtung berechtigterweise von ihren technologiebasierten Helfern erwarten. \n",
    "\n",
    "Beginnen wir mit der Entlastung der Wissenschaftlichen Hilfskräfte, indem wir ihre Kopierroboter startklar machen. \n",
    "Betrachten wir folgende Implementierung einer Klasse `CopyRobot`:"
   ]
  },
  {
   "cell_type": "code",
   "execution_count": 142,
   "metadata": {
    "collapsed": false,
    "deletable": true,
    "editable": true
   },
   "outputs": [],
   "source": [
    "class CopyRobot:\n",
    "    \n",
    "    copy_queue = []\n",
    "    \n",
    "    def __init__(self, name, the_answer, master):\n",
    "        self.name = name\n",
    "        self.the_answer = the_answer\n",
    "        self.master = master\n",
    "        self.skill = \"Kopieren\"\n",
    "        self.idle = True\n",
    "    \n",
    "    @classmethod\n",
    "    def add_job(cls, job):\n",
    "        copies = input(\"Wie viele Kopien sollen es sein?\")\n",
    "        try:\n",
    "            while int(copies) < 1:\n",
    "                copies = input(\"Gib eine ganze Zahl groesser Null ein!\")\n",
    "            cls.copy_queue.append((job, int(copies)))\n",
    "            print(f\"{copies} Kopien zur Warteschlange hinzugefuegt!\")\n",
    "        except ValueError:\n",
    "            raise\n",
    "        \n",
    "    def make_copies(self):\n",
    "        if self.idle:\n",
    "            while CopyRobot.copy_queue:\n",
    "                job = CopyRobot.copy_queue.pop()\n",
    "                self.idle = False\n",
    "                for i in range(job[1]):\n",
    "                    print(job[0])\n",
    "                self.idle = True\n",
    "        else:\n",
    "            print(\"Kopier' doch selbst!\")"
   ]
  },
  {
   "cell_type": "markdown",
   "metadata": {
    "deletable": true,
    "editable": true
   },
   "source": [
    "#### Aufgabe 1: Code verstehen\n",
    "a) Schreibe für jedes in der Klasse `CopyRobot` gegenüber der Klasse `LegalRobot` hinzugetretene Syntaxelement heraus, was du glaubst, dass es bewirkt.\n",
    "\n",
    "____\n",
    "\n",
    "b) Füge zwei Druckaufträge zur Warteschlange hinzu, ohne eine Instanz der Klasse `CopyRobot` zu erstellen.\n",
    "\n",
    "____\n",
    "\n",
    "c) Sorge dafür, dass die Druckaufträge gedruckt werden. Was fällt auf? "
   ]
  },
  {
   "cell_type": "markdown",
   "metadata": {
    "deletable": true,
    "editable": true
   },
   "source": [
    "#### Aufgabe 2: Code weiterentwickeln\n",
    "a) Ändere die Methode `add_job` so, dass:\n",
    "   - ein `ValueError` dazu führt, dass der User erneut zur Eingabe aufgefordert wird;\n",
    "   - die Eingabeaufforderung anders lautet als beim ersten Mal, wenn der User nach einem `ValueError` zur Angabe der Kopieanzahl aufgefordert wird;\n",
    "   - der `CopyRobot` auch die Eingabe `0` akzeptiert, dann aber den Job nicht zur Warteschlange hinzufügt, sondern den User lediglich darüber informiert, dass kein Druckvorgang initiiert wurde.\n",
    "_____\n",
    "   \n",
    "b) Ändere die Methode `make_copies` so, dass \n",
    " - die Druckaufträge in der Reihenfolge ihres Eingangs abgearbeitet werden;\n",
    " - der `CopyRobot` nur dann druckt, wenn er von seinem Meister dazu aufgefordert wird;\n",
    " - während des Druckvorgangs für den Nutzer ersichtlich ist, wie viele Kopien bereits gemacht wurden und wie viele Kopien noch ausstehen.\n",
    "_____\n",
    "   \n",
    "c) Ändere den Code insgesamt so, dass\n",
    "   - jeder Roboter nur Druckaufträge seines Meisters entgegennimmt; \n",
    "   - jeder Roboter nur Druckaufträge seines Meisters druckt und sichergestellt ist, dass nach einem Aufruf von `make_copies` auf einem `CopyRobot` des Meisters alle Druckaufträge des Meisters abgearbeitet sind;\n",
    "   - ein Meister die Möglichkeit hat, eine Übersicht über die von ihm beherrschten Roboter zu erhalten, und auf Wunsch nur die derzeit verfügbaren Roboter angezeigt bekommt."
   ]
  }
 ],
 "metadata": {
  "kernelspec": {
   "display_name": "Python [default]",
   "language": "python",
   "name": "python3"
  },
  "language_info": {
   "codemirror_mode": {
    "name": "ipython",
    "version": 3
   },
   "file_extension": ".py",
   "mimetype": "text/x-python",
   "name": "python",
   "nbconvert_exporter": "python",
   "pygments_lexer": "ipython3",
   "version": "3.6.0"
  }
 },
 "nbformat": 4,
 "nbformat_minor": 2
}
