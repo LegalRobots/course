{
 "cells": [
  {
   "cell_type": "markdown",
   "metadata": {
    "deletable": true,
    "editable": true
   },
   "source": [
    "# Auslandsranking"
   ]
  },
  {
   "cell_type": "code",
   "execution_count": 2,
   "metadata": {
    "collapsed": false,
    "deletable": true,
    "editable": true
   },
   "outputs": [
    {
     "data": {
      "text/plain": [
       "{2008001: 'Cornell', 2008003: 'SLS', 2008007: 'Oxford'}"
      ]
     },
     "execution_count": 2,
     "metadata": {},
     "output_type": "execute_result"
    }
   ],
   "source": [
    "capacities = {\"SLS\" : 2, \n",
    "              \"Cornell\" : 1, \n",
    "              \"Oxford\" : 2}\n",
    "\n",
    "ranking = [2008001, 2008007, 2008003]\n",
    "\n",
    "preferences = {2008001 : [\"Cornell\", \"SLS\"], \n",
    "               2008003 : [\"Cornell\", \"SLS\"], \n",
    "               2008007 : [\"Oxford\"]}\n",
    "\n",
    "# Erwartete Verteilung: result = {2008001 : \"Cornell\", 2008003 : \"SLS\", 2008007 : \"Oxford\"}\n",
    "\n",
    "result = {}\n",
    "\n",
    "for student in ranking:\n",
    "    students_preferences = preferences[student]\n",
    "    \n",
    "    is_assigned = False\n",
    "    i = 0\n",
    "    while is_assigned == False:\n",
    "        university = students_preferences[i]\n",
    "        if capacities[university] > 0:\n",
    "            result[student] = university\n",
    "            capacities[university] -= 1\n",
    "            is_assigned = True\n",
    "        else:\n",
    "            i += 1\n",
    "            \n",
    "result"
   ]
  }
 ],
 "metadata": {
  "kernelspec": {
   "display_name": "Python [conda root]",
   "language": "python",
   "name": "conda-root-py"
  },
  "language_info": {
   "codemirror_mode": {
    "name": "ipython",
    "version": 3
   },
   "file_extension": ".py",
   "mimetype": "text/x-python",
   "name": "python",
   "nbconvert_exporter": "python",
   "pygments_lexer": "ipython3",
   "version": "3.6.0"
  }
 },
 "nbformat": 4,
 "nbformat_minor": 2
}
