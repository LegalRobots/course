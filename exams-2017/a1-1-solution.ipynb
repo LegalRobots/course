{
 "cells": [
  {
   "cell_type": "markdown",
   "metadata": {},
   "source": [
    "# Musterlösung"
   ]
  },
  {
   "cell_type": "markdown",
   "metadata": {},
   "source": [
    "### Aufgabe 1-1\n",
    "Gegeben ist eine Datei `transactions.csv`, die fiktive Banktransaktionen enthält. \n",
    "Die Einträge haben das Format `YYYY/MM/DD,Sender,Receiver,Amount`, z.B.:\n",
    "\n",
    "> ```\n",
    "2016/01/19,Skiles-Denesik,\"Lemke, Koepp and Hyatt\",45118.91\n",
    "2015/03/17,\"White, Weissnat and Runolfsdottir\",\"Flatley, Beier and Skiles\",86223.86\n",
    "2017/03/31,Kautzer-Kassulke,Welch-Labadie,57903.12\n",
    "2017/07/17,DuBuque and Sons,Grady-Kessler,52514.24\n",
    "2017/04/14,Cole-Volkman,Lehner Inc,33638.82\n",
    "```\n",
    "\n",
    "Schauen Sie sich die Datei an und bearbeiten Sie dazu folgende Aufgaben:"
   ]
  },
  {
   "cell_type": "markdown",
   "metadata": {},
   "source": [
    "**a) Programmieraufgabe**\n",
    "\n",
    "Schreiben Sie eine Funktion `find_topreceiver_transactions(csvfile, path)`, die aus einer csv-Datei im Format von `transactions.csv` alle Transaktionen ermittelt, an denen der am häufigsten vorkommende Empfänger irgendwie beteiligt war, und diese nach Datum aufsteigend sortiert in eine txt-Datei mit dem Namen von `path` schreibt.\n",
    "Sollte der am häufigsten vorkommende Empfänger nicht eindeutig sein, so soll die Funktion mit demjenigen Empfänger arbeiten, dessen Name im Alphabet am weitesten vorn steht.\n",
    "Benutzen Sie zur Arbeit mit der csv-Dartei das Modul `csv`.\n",
    "Der Inhalt der Datei `most_frequent.txt` sollte für einen Funktionsaufruf `find_topreceiver_transactions(\"transactions.csv\", \"most_frequent.txt\")` exakt lauten:"
   ]
  },
  {
   "cell_type": "raw",
   "metadata": {},
   "source": [
    "['2015/01/11', 'Torphy Group', 'Mohr Group', '71227.83']\n",
    "['2016/01/12', 'Ratke, Flatley and Purdy', 'Mohr Group', '56688.0']\n",
    "['2016/01/16', 'Friesen-Batz', 'Mohr Group', '84315.68']\n",
    "['2016/06/16', 'Kozey, Bernier and Hahn', 'Mohr Group', '83885.03']\n",
    "['2016/07/08', 'Mohr Group', 'Jakubowski Inc', '6775.43']\n",
    "['2016/08/04', 'Jenkins, Padberg and Koss', 'Mohr Group', '70337.66']\n",
    "['2016/09/18', 'Kautzer-Oberbrunner', 'Mohr Group', '61046.72']\n",
    "['2017/05/22', 'Mohr Group', 'Schaden-Reichert', '35324.72']\n",
    "['2017/06/18', 'Paucek LLC', 'Mohr Group', '4506.18']\n",
    "['2017/09/07', 'Champlin, White and VonRueden', 'Mohr Group', '19900.04']"
   ]
  },
  {
   "cell_type": "code",
   "execution_count": null,
   "metadata": {
    "collapsed": true
   },
   "outputs": [],
   "source": [
    "import csv\n",
    "def find_topreceiver_transactions(csvfile, path):\n",
    "    \"\"\"Finds all transactions with participation of the most frequent receiver and writes them into a txt file.\"\"\"\n",
    "    \n",
    "    all_transactions = []\n",
    "    receivers = {}\n",
    "    \n",
    "    with open(csvfile) as f:\n",
    "        transactions = csv.reader(f)\n",
    "        for row in transactions:\n",
    "            all_transactions.append(row)\n",
    "            if row[2] not in receivers:\n",
    "                receivers[row[2]] = 0\n",
    "            receivers[row[2]] += 1\n",
    "            \n",
    "    highest_value = max(receivers.values())\n",
    "    most_frequent = []\n",
    "    for receiver in receivers:\n",
    "        if receivers[receiver] == highest_value:\n",
    "            most_frequent.append(receiver)\n",
    "    \n",
    "    most_frequent_receiver = sorted(most_frequent)[0]\n",
    "    \n",
    "    receiver_transactions = []\n",
    "    for transaction in all_transactions:\n",
    "        if transaction[1] == most_frequent_receiver or transaction[2] == most_frequent_receiver:\n",
    "            receiver_transactions.append(transaction)\n",
    "            \n",
    "    receiver_transactions = sorted(receiver_transactions, key=lambda x:x[0])\n",
    "    \n",
    "    with open(path, \"w\") as f:\n",
    "        for t in receiver_transactions:\n",
    "            f.write(str(t)+\"\\n\")"
   ]
  },
  {
   "cell_type": "code",
   "execution_count": null,
   "metadata": {
    "collapsed": true
   },
   "outputs": [],
   "source": [
    "find_topreceiver_transactions(\"transactions.csv\", \"most_frequent.txt\")"
   ]
  },
  {
   "cell_type": "markdown",
   "metadata": {},
   "source": [
    "**b) Verständnisfrage** \n",
    "\n",
    "Warum wäre schwierig bis unmöglich, Aufgabe a) nur mithilfe von `f.readlines()` und `String.split()` zu lösen?"
   ]
  },
  {
   "cell_type": "markdown",
   "metadata": {},
   "source": [
    "Um die Werte aus den einzelnen Spalten der csv-Datei auslesen zu können, müsste man die einzelnen Reihen, die man mit `f.readlines()` als Strings erhält, an den Kommata aufteilen (z.B. `row.split(\",\")`).\n",
    "Allerdings enthalten auch die Einträge in einigen Spalten wiederum Kommata, die man dabei ignorieren müsste. \n",
    "Das manuell zu programmieren, ist sehr umständlich (und das Modul csv gerade darauf angelegt, dem Programmierer diese Arbeit abzunehmen)."
   ]
  }
 ],
 "metadata": {
  "kernelspec": {
   "display_name": "Python 3",
   "language": "python",
   "name": "python3"
  },
  "language_info": {
   "codemirror_mode": {
    "name": "ipython",
    "version": 3
   },
   "file_extension": ".py",
   "mimetype": "text/x-python",
   "name": "python",
   "nbconvert_exporter": "python",
   "pygments_lexer": "ipython3",
   "version": "3.6.3"
  }
 },
 "nbformat": 4,
 "nbformat_minor": 2
}
