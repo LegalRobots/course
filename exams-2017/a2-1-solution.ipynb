{
 "cells": [
  {
   "cell_type": "markdown",
   "metadata": {},
   "source": [
    "# Musterlösung"
   ]
  },
  {
   "cell_type": "markdown",
   "metadata": {},
   "source": [
    "### Aufgabe 2-1"
   ]
  },
  {
   "cell_type": "markdown",
   "metadata": {},
   "source": [
    "**a) Programmieraufgabe** \n",
    "\n",
    "Legen Sie mit `sqlite3` eine Datenbank `bibliothek.db` an, in der es eine Tabelle `ausleihvorgaenge` gibt.\n",
    "Schaffen Sie mit einer ersten Transaktion die Möglichkeit, in dieser Tabelle Ausleihvorgänge mit Vornamen und Nachnamen des Ausleihenden, dessen Funktion, dem Autor des ausgeliehenen Werks, dem Titel des Werks und dem Datum der Ausleihe festzuhalten. \n",
    "Dabei können Sie Kalenderdaten als `TEXT` behandeln.\n",
    "Fügen Sie in einer zweiten Transaktion die nachfolgend aufgeführten Datensätze in die Tabelle `ausleihvorgaenge` ein und schließen Sie die Verbindung ordnungsgemäß.\n",
    "Die einzufügenden Datensätze sind:"
   ]
  },
  {
   "cell_type": "raw",
   "metadata": {},
   "source": [
    "(\"Flavia\", \"Fleissig\", \"Student\", \"Corpus Iuris Civilis\", \"Iustinian\", \"20170329\"),\n",
    "(\"Stephan\", \"Schlau\", \"WissMit\", \"System des heutigen römischen Rechts\", \"Savigny\", \"20170330\"),\n",
    "(\"Karsten\", \"Klug\", \"Professor\", \"Gesellschaftsrecht\", \"Schmidt\", \"20170402\")"
   ]
  },
  {
   "cell_type": "code",
   "execution_count": 4,
   "metadata": {
    "collapsed": true
   },
   "outputs": [],
   "source": [
    "import sqlite3\n",
    "con = sqlite3.connect(\"bibliothek.db\")    \n",
    "cur = con.cursor()\n",
    "sql = '''CREATE TABLE IF NOT EXISTS ausleihvorgaenge (\n",
    "    vorname TEXT, \n",
    "    nachname TEXT,\n",
    "    funktion TEXT,\n",
    "    autor TEXT,\n",
    "    titel TEXT,\n",
    "    datum TEXT)'''\n",
    "cur.execute(sql)\n",
    "con.commit()\n",
    "data = [\n",
    "    (\"Flavia\", \"Fleissig\", \"Student\", \"Corpus Iuris Civilis\", \"Iustinian\", \"20170329\"),\n",
    "    (\"Stephan\", \"Schlau\", \"WissMit\", \"System des heutigen römischen Rechts\", \"Savigny\", \"20170330\"),\n",
    "    (\"Karsten\", \"Klug\", \"Professor\", \"Gesellschaftsrecht\", \"Schmidt\", \"20170402\")\n",
    "]\n",
    "for element in data:\n",
    "    cur.execute(\"INSERT INTO ausleihvorgaenge (vorname, nachname, funktion, autor, titel, datum) VALUES (?, ?, ?, ?, ?, ?)\", \n",
    "                element)\n",
    "\n",
    "con.commit()\n",
    "con.close()"
   ]
  },
  {
   "cell_type": "markdown",
   "metadata": {},
   "source": [
    "**b) Verständnisfrage**\n",
    "\n",
    "Einer Ihrer Kommilitonen möchte aus allen BGH-Entscheidungen die darin vorkommenden Kalenderdaten extrahieren.\n",
    "Hierzu formuliert er folgendes Regex-Muster:\n",
    "\n",
    "`\"\\d{2}.\\d{2}.\\d\\{4}\"`\n",
    "\n",
    "Nennen Sie drei Gründe, warum Ihr Kommilitone mit diesem Muster keine hochwertigen Resultate erzielen wird."
   ]
  },
  {
   "cell_type": "markdown",
   "metadata": {},
   "source": [
    "1. Die Punkte stehen in Regex-Mustern für beliebige Zeichen, erfasst würden hier also auch Texte wie `\"20-10/1000\"`, die keine Daten sind. Wollte der Kommilitone exakt Daten nach dem Muster `\"20.10.2010\"` erfassen, so müsste er daher `.` durch `\\.` ersetzen.\n",
    "\n",
    "2. Bei Daten mit einstelligen Tagen im Monat wird im Deutschen selten oft die führende Null nicht mit angegeben. Um Daten wie `\"2.10.2010\"` zu erfassen, müsste man anstelle des ersten `\\d{2}` mindestens schreiben `\\d{1,2}`.\n",
    "\n",
    "3. Der `\\` vor der letzten öffnenden geschweiften Klammer führt dazu, dass diese als Zeichen und nicht als Quantifier behandelt wird, so dass Jahresangaben überhaupt nicht richtig erfasst würden."
   ]
  }
 ],
 "metadata": {
  "kernelspec": {
   "display_name": "Python 3",
   "language": "python",
   "name": "python3"
  },
  "language_info": {
   "codemirror_mode": {
    "name": "ipython",
    "version": 3
   },
   "file_extension": ".py",
   "mimetype": "text/x-python",
   "name": "python",
   "nbconvert_exporter": "python",
   "pygments_lexer": "ipython3",
   "version": "3.6.3"
  }
 },
 "nbformat": 4,
 "nbformat_minor": 2
}
