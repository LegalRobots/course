{
 "cells": [
  {
   "cell_type": "markdown",
   "metadata": {},
   "source": [
    "# Musterlösung"
   ]
  },
  {
   "cell_type": "markdown",
   "metadata": {},
   "source": [
    "### Aufgabe 2-2"
   ]
  },
  {
   "cell_type": "markdown",
   "metadata": {},
   "source": [
    "**a) Programmieraufgabe** \n",
    "\n",
    "Legen Sie mit `sqlite3` eine Datenbank `rechtsquellen.db` an, in der es eine Tabelle `gesetzestexte` gibt.\n",
    "Schaffen Sie mit einer ersten Transaktion die Möglichkeit, in dieser Tabelle Gesetzestexte mit ihrem Langtitel, ihrem Kurztitel, ihrer Fundstelle, ihrem Publikationsdatum und dem Datum ihrer letzten Änderung festzuhalten. \n",
    "Dabei können Sie Kalenderdaten als `TEXT` behandeln.\n",
    "Fügen Sie in einer zweiten Transaktion die nachfolgend aufgeführten Datensätze in die Tabelle `gesetzestexte` ein und schließen Sie die Verbindung ordnungsgemäß.\n",
    "Die einzufügenden Datensätze sind:"
   ]
  },
  {
   "cell_type": "raw",
   "metadata": {},
   "source": [
    "(\"Magisches Gesetzbuch\", \"MGB\", \"2, 101\", \"19000101\", \"20170101\")\n",
    "(\"Zauberprozessordnung\", \"ZPO\", \"1, 666\", \"18991111\", \"20101212\")\n",
    "(\"Fluchkostengesetz\", \"FKG\", \"10, 1\", \"19090101\", \"19990101\")"
   ]
  },
  {
   "cell_type": "code",
   "execution_count": 5,
   "metadata": {
    "collapsed": true
   },
   "outputs": [],
   "source": [
    "import sqlite3\n",
    "con = sqlite3.connect(\"rechtsquellen.db\")    \n",
    "cur = con.cursor()\n",
    "sql = '''CREATE TABLE IF NOT EXISTS gesetzestexte (\n",
    "    langtitel TEXT, \n",
    "    kurztitel TEXT,\n",
    "    fundstelle TEXT,\n",
    "    pdatum TEXT,\n",
    "    adatum TEXT)'''\n",
    "cur.execute(sql)\n",
    "con.commit()\n",
    "data = [\n",
    "    (\"Magisches Gesetzbuch\", \"MGB\", \"2, 101\", \"19000101\", \"20170101\"),\n",
    "    (\"Zauberprozessordnung\", \"ZPO\", \"1, 666\", \"18991111\", \"20101212\"),\n",
    "    (\"Fluchkostengesetz\", \"FKG\", \"10, 1\", \"19090101\", \"19990101\")\n",
    "]\n",
    "for element in data:\n",
    "    cur.execute(\"INSERT INTO gesetzestexte (langtitel, kurztitel, fundstelle, pdatum, adatum) VALUES (?, ?, ?, ?, ?)\", \n",
    "                element)\n",
    "\n",
    "con.commit()\n",
    "con.close()"
   ]
  },
  {
   "cell_type": "markdown",
   "metadata": {},
   "source": [
    "**b) Verständnisfrage**\n",
    "\n",
    "Einer Ihrer Kommilitonen möchte aus allen BGH-Entscheidungen die darin vorkommenden Geldbeträge in Euro und US-Dollar extrahieren.\n",
    "Hierzu formuliert er folgendes Regex-Muster:\n",
    "\n",
    "`\"\\d+\\s\\(Euro|EUR|Dollar|USD)\"`\n",
    "\n",
    "Nennen Sie drei Gründe, warum Ihr Kommilitone mit diesem Muster keine hochwertigen Resultate erzielen wird."
   ]
  },
  {
   "cell_type": "markdown",
   "metadata": {},
   "source": [
    "1. Beträge wie `100,00 Euro` oder `100.000 Euro` werden nicht erfasst, da der Musterteil `\\d+` keine trennenden Punkte oder Kommata erlaubt.\n",
    "\n",
    "2. Beträge wie `100$` werden nicht erfasst, da nach der letzten Zahl ein `whitespace`-Character stehen muss und außerdem Sonderzeichen für die Geldbeträge wie `$` nicht Teil der angegebenen Alternative sind.\n",
    "\n",
    "3. Beträge wie `EUR 100` werden nicht erfasst, da die Bezeichnung des Geldbetrags laut Muster hinter dem Betrag stehen muss und nicht davor stehen kann."
   ]
  }
 ],
 "metadata": {
  "kernelspec": {
   "display_name": "Python 3",
   "language": "python",
   "name": "python3"
  },
  "language_info": {
   "codemirror_mode": {
    "name": "ipython",
    "version": 3
   },
   "file_extension": ".py",
   "mimetype": "text/x-python",
   "name": "python",
   "nbconvert_exporter": "python",
   "pygments_lexer": "ipython3",
   "version": "3.6.3"
  }
 },
 "nbformat": 4,
 "nbformat_minor": 2
}
