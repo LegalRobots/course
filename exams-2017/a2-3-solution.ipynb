{
 "cells": [
  {
   "cell_type": "markdown",
   "metadata": {},
   "source": [
    "# Musterlösung"
   ]
  },
  {
   "cell_type": "markdown",
   "metadata": {},
   "source": [
    "### Aufgabe 2-3"
   ]
  },
  {
   "cell_type": "markdown",
   "metadata": {},
   "source": [
    "**a) Programmieraufgabe** \n",
    "\n",
    "Legen Sie mit `sqlite3` eine Datenbank `vorlesungen.db` an, in der es eine Tabelle `ws1718` gibt.\n",
    "Schaffen Sie mit einer ersten Transaktion die Möglichkeit, in dieser Tabelle Vorlesungen mit ihrem Langtitel, ihrem Kurztitel, der sie anbietenden Fakultät, der Anzahl der zu erwerbenden Credits und dem Kalenderdatum der ersten Vorlesung festzuhalten. \n",
    "Dabei können Sie Kalenderdaten als `TEXT` behandeln.\n",
    "Fügen Sie in einer zweiten Transaktion die nachfolgend aufgeführten Datensätze in die Tabelle `ws1718` ein und schließen Sie die Verbindung ordnungsgemäß.\n",
    "Die einzufügenden Datensätze sind:"
   ]
  },
  {
   "cell_type": "raw",
   "metadata": {},
   "source": [
    "(\"Einführung in die dunklen Künste\", \"EDK\", \"Schwarze Magie\", 6, \"20171111\"),\n",
    "(\"Anatomie magischer Wesen\", \"AMW\", \"Magische Biologie\", 3, \"20171101\"),\n",
    "(\"Zaubertränke 1\", \"ZT1\", \"Magische Chemie\", 9, \"20171031\")"
   ]
  },
  {
   "cell_type": "code",
   "execution_count": null,
   "metadata": {
    "collapsed": true
   },
   "outputs": [],
   "source": [
    "import sqlite3\n",
    "con = sqlite3.connect('vorlesungen.db')    \n",
    "cur = con.cursor()\n",
    "sql = '''CREATE TABLE IF NOT EXISTS ws1718 (\n",
    "    langtitel TEXT, \n",
    "    kurztitel TEXT,\n",
    "    fakultaet TEXT,\n",
    "    credits NUMERIC,\n",
    "    sdatum TEXT)'''\n",
    "cur.execute(sql)\n",
    "con.commit()\n",
    "data = [\n",
    "    (\"Einführung in die dunklen Künste\", \"EDK\", \"Schwarze Magie\", 6, \"20171111\"),\n",
    "    (\"Anatomie magischer Wesen\", \"AMW\", \"Magische Biologie\", 3, \"20171101\"),\n",
    "    (\"Zaubertränke 1\", \"ZT1\", \"Magische Chemie\", 9, \"20171031\")\n",
    "]\n",
    "for element in data:\n",
    "    cur.execute(\"INSERT INTO ws1718 (langtitel, kurztitel, fakultaet, credits, sdatum) VALUES (?, ?, ?, ?, ?)\", \n",
    "                element)\n",
    "\n",
    "con.commit()\n",
    "con.close()"
   ]
  },
  {
   "cell_type": "markdown",
   "metadata": {},
   "source": [
    "**b) Verständnisfrage**\n",
    "\n",
    "Einer Ihrer Kommilitonen möchte aus allen BGH-Entscheidungen die darin vorkommenden Zitate von Normen des Grundgesetzes (GG) extrahieren.\n",
    "Hierzu formuliert er folgendes Regex-Muster:\n",
    "\n",
    "`\"Art\\.\\s\\d+\\s(GG|Grundgesetz)\"`\n",
    "\n",
    "Nennen Sie drei Gründe, warum Ihr Kommilitone mit diesem Muster keine hochwertigen Resultate erzielen wird."
   ]
  },
  {
   "cell_type": "markdown",
   "metadata": {},
   "source": [
    "1. Die Möglichkeit, dass statt `\"Art. 8 GG\"` `\"Artikel 8 GG\"` im Text auftaucht, wird nicht berücksichtigt, da der erste Teil des Musters nur die Abkürzung vorsieht, anstatt eine Alternative `(Art\\.|Artikel)` zu formulieren.\n",
    "\n",
    "2. Mehrere hintereinander genannte Artikel, z.B. `Art. 1, 2 GG` werden nicht gefunden, da der mittlere Teil des Musters, `\\d+`, nur eine ununterbrochene Abfolge von Zahlen vorsieht.\n",
    "\n",
    "3. Die Möglichkeit, dass ein Artikel mit Absatz- oder Satz-Angabe zitiert wird, ist nicht berücksichtigt, da nach der im mittleren Teil des Musters angegebenen Zahlenfolge kein optionaler Einschub wie beispielsweise `(Abs\\.\\s*\\d+)?` erfolgt."
   ]
  }
 ],
 "metadata": {
  "kernelspec": {
   "display_name": "Python 3",
   "language": "python",
   "name": "python3"
  },
  "language_info": {
   "codemirror_mode": {
    "name": "ipython",
    "version": 3
   },
   "file_extension": ".py",
   "mimetype": "text/x-python",
   "name": "python",
   "nbconvert_exporter": "python",
   "pygments_lexer": "ipython3",
   "version": "3.6.3"
  }
 },
 "nbformat": 4,
 "nbformat_minor": 2
}
