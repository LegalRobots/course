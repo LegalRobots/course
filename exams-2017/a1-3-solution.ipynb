{
 "cells": [
  {
   "cell_type": "markdown",
   "metadata": {},
   "source": [
    "# Musterlösung"
   ]
  },
  {
   "cell_type": "markdown",
   "metadata": {},
   "source": [
    "### Aufgabe 1-3\n",
    "Gegeben ist eine Datei `transactions.csv`, die fiktive Banktransaktionen enthält. \n",
    "Die Einträge haben das Format `YYYY/MM/DD,Sender,Receiver,Amount`, z.B.:\n",
    "\n",
    ">```\n",
    "2016/01/19,Skiles-Denesik,\"Lemke, Koepp and Hyatt\",45118.91\n",
    "2015/03/17,\"White, Weissnat and Runolfsdottir\",\"Flatley, Beier and Skiles\",86223.86\n",
    "2017/03/31,Kautzer-Kassulke,Welch-Labadie,57903.12\n",
    "2017/07/17,DuBuque and Sons,Grady-Kessler,52514.24\n",
    "2017/04/14,Cole-Volkman,Lehner Inc,33638.82\n",
    "```\n",
    "\n",
    "Schauen Sie sich die Datei an und bearbeiten Sie dazu folgende Aufgaben:"
   ]
  },
  {
   "cell_type": "markdown",
   "metadata": {},
   "source": [
    "**a) Programmieraufgabe**\n",
    "\n",
    "Schreiben Sie eine Funktion `find_oldest_transaction(csvfile, amount, path)`, die aus einer csv-Datei im Format von `transactions.csv` die älteste Transaktion mit einem Betrag größer als `amount` ermittelt und eine Beschreibung der Transaktion und der Suchbedingungen in eine txt-Datei mit dem Namen von `path` schreibt.\n",
    "Sollte die älteste Transaktion nicht eindeutig sein, so soll die Funktion mit derjenigen unter den ältesten Transaktionen arbeiten, deren Sender im Alphabet am weitesten hinten steht.\n",
    "Benutzen Sie zur Arbeit mit der csv-Dartei das Modul `csv`.\n",
    "Der Inhalt der Datei `test.txt` sollte für einen Funktionsaufruf `find_oldest_transaction(\"transactions.csv\", 50000, \"oldest.txt\")` exakt lauten:"
   ]
  },
  {
   "cell_type": "raw",
   "metadata": {},
   "source": [
    "Die älteste Transaktion in der Datei 'transactions.csv' mit einem Betrag größer als 50000 EUR\n",
    "wurde am 01.09.2014 von 'Rosenbaum, Toy and Lockman' an 'Cremin and Sons' getätigt.\n",
    "Die Transaktionssumme betrug 67080.66 EUR."
   ]
  },
  {
   "cell_type": "code",
   "execution_count": null,
   "metadata": {
    "collapsed": true
   },
   "outputs": [],
   "source": [
    "import csv\n",
    "def find_oldest_transaction(csvfile, amount, path):\n",
    "    \"\"\"Finds the oldest transaction above a certain amount.\"\"\"\n",
    "    \n",
    "    oldest_date = None\n",
    "    with open(csvfile) as f:\n",
    "        transactions = csv.reader(f)\n",
    "        \n",
    "        for row in transactions:\n",
    "            if not oldest_date:\n",
    "                oldest_date = row[0]\n",
    "            \n",
    "            if row[0] < oldest_date and float(row[3]) > amount:\n",
    "                oldest_date = row[0]\n",
    "                oldest_transaction = row\n",
    "    \n",
    "    date = oldest_date.split(\"/\")\n",
    "    with open(path, \"w\") as f:\n",
    "        print(f\"Die älteste Transaktion in der Datei '{csvfile}' mit einem Betrag größer als {amount} EUR\\n\" \n",
    "          + f\"wurde am {date[2]}.{date[1]}.{date[0]} \" \n",
    "          + f\"von '{oldest_transaction[1]}' an '{oldest_transaction[2]}' getätigt.\\n\"\n",
    "          + f\"Die Transaktionssumme betrug {oldest_transaction[-1]} EUR.\", file=f)"
   ]
  },
  {
   "cell_type": "code",
   "execution_count": null,
   "metadata": {
    "collapsed": true
   },
   "outputs": [],
   "source": [
    "find_oldest_transaction(\"transactions.csv\", 50000, \"oldest.txt\")"
   ]
  },
  {
   "cell_type": "markdown",
   "metadata": {},
   "source": [
    "**b) Verständnisfrage**\n",
    "\n",
    "Welchen Vorteil bietet das `csv`-Modul gegenüber der `readlines`-Methode, mit der in der Veranstaltung gearbeitet wurde?"
   ]
  },
  {
   "cell_type": "markdown",
   "metadata": {},
   "source": [
    "Mit `csv.reader(f)` wird ein Iterable erzeugt, das die Reihen von `f` als Listen durchläuft, die für jede Spalte der ursprünglichen csv-Datei einen Eintrag haben. \n",
    "Dadurch können die Einträge in den einzelnen Spalten für jede Reihe direkt ausgelesen werden.\n",
    "Bei `readlines` wird jede Reihe als `String` eingelesen und muss erst durch den Programmierer getrennt werden (z.B. mit `split`), bevor auf die jeweiligen Einträge in den einzelnen Spalten zugegriffen werden kann."
   ]
  }
 ],
 "metadata": {
  "kernelspec": {
   "display_name": "Python 3",
   "language": "python",
   "name": "python3"
  },
  "language_info": {
   "codemirror_mode": {
    "name": "ipython",
    "version": 3
   },
   "file_extension": ".py",
   "mimetype": "text/x-python",
   "name": "python",
   "nbconvert_exporter": "python",
   "pygments_lexer": "ipython3",
   "version": "3.6.3"
  }
 },
 "nbformat": 4,
 "nbformat_minor": 2
}
