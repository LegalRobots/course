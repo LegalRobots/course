{
 "cells": [
  {
   "cell_type": "markdown",
   "metadata": {},
   "source": [
    "# Musterlösung"
   ]
  },
  {
   "cell_type": "markdown",
   "metadata": {},
   "source": [
    "### Aufgabe 1-2\n",
    "Gegeben ist eine Datei `transactions.csv`, die fiktive Banktransaktionen enthält. \n",
    "Die Einträge haben das Format `YYYY/MM/DD,Sender,Receiver,Amount`, z.B.:\n",
    "\n",
    "> ```\n",
    "2016/01/19,Skiles-Denesik,\"Lemke, Koepp and Hyatt\",45118.91\n",
    "2015/03/17,\"White, Weissnat and Runolfsdottir\",\"Flatley, Beier and Skiles\",86223.86\n",
    "2017/03/31,Kautzer-Kassulke,Welch-Labadie,57903.12\n",
    "2017/07/17,DuBuque and Sons,Grady-Kessler,52514.24\n",
    "2017/04/14,Cole-Volkman,Lehner Inc,33638.82\n",
    "```\n",
    "\n",
    "Schauen Sie sich die Datei an und bearbeiten Sie dazu folgende Aufgaben:"
   ]
  },
  {
   "cell_type": "markdown",
   "metadata": {},
   "source": [
    "**a) Programmieraufgabe** \n",
    "\n",
    "Schreiben Sie eine Funktion `find_suspicious(csvfile, path)`, die aus der Datei `transactions.csv` alle Transaktionen ermittelt, die in Fälle des Hin- und Herzahlens involviert sind, und die betroffenen Transaktionen nach Transaktionsdatum aufsteigend sortiert und dabei nach Paaren von Sender und Empfänger getrennt übersichtlich in eine Datei `suspicious.txt` schreibt. \n",
    "Hin- und Herzahlen liegt vor, wenn es Transaktionen x und y gibt, sodass der Sender von Transaktion x der Empfänger von Transaktion y ist und der Empfänger von Transaktion x der Sender von Transaktion y ist.\n",
    "Benutzen Sie zur Arbeit mit der csv-Dartei das Modul `csv`.\n",
    "Für `transactions.csv` sollte der Inhalt von `suspicious.txt` exakt wie folgt aussehen:"
   ]
  },
  {
   "cell_type": "raw",
   "metadata": {},
   "source": [
    "('2016/05/30', 'McCullough Group', 'Batz and Sons', '40321.10')\n",
    "('2016/06/12', 'Batz and Sons', 'McCullough Group', '20812.65')\n",
    "\n",
    "('2016/07/20', 'Hansen and Sons', \"O'Conner-Muller\", '95057.95')\n",
    "('2016/07/23', \"O'Conner-Muller\", 'Hansen and Sons', '91203.17')"
   ]
  },
  {
   "cell_type": "code",
   "execution_count": null,
   "metadata": {
    "collapsed": true
   },
   "outputs": [],
   "source": [
    "import csv\n",
    "def find_suspicious(csvfile, path):\n",
    "    \"\"\"Finds suspicious transactions in a csv-file and writes them into a txt file.\"\"\"\n",
    "    \n",
    "    all_rows = {}\n",
    "    suspicious = []\n",
    "    \n",
    "    with open(csvfile) as f:\n",
    "        transactions = csv.reader(f)\n",
    "        for row in transactions:\n",
    "            all_rows[(row[1], row[2])] = row\n",
    "            \n",
    "            if (row[2], row[1]) in all_rows:\n",
    "                pair = (all_rows[(row[2], row[1])], row)\n",
    "                pair = sorted(pair, key=lambda x:x[0])\n",
    "                suspicious.append(pair)\n",
    "\n",
    "    with open(path, \"w\") as f:\n",
    "        for t in list(suspicious):\n",
    "            for elem in t:\n",
    "                f.write(str(tuple(elem))+\"\\n\")\n",
    "            f.write(\"\\n\")"
   ]
  },
  {
   "cell_type": "code",
   "execution_count": null,
   "metadata": {
    "collapsed": true
   },
   "outputs": [],
   "source": [
    "find_suspicious(\"transactions.csv\", \"suspicious.txt\")"
   ]
  },
  {
   "cell_type": "markdown",
   "metadata": {},
   "source": [
    "**b) Verständnisfrage**\n",
    "\n",
    "Warum steht `Lemke, Koepp and Hyatt` als `Receiver` der ersten oben abgebildeten Transaktion aus `transactions.csv` in Anführungsstrichen, `Lehner Inc` als `Receiver` der letzten oben abgebildeten Transaktion aber nicht?"
   ]
  },
  {
   "cell_type": "markdown",
   "metadata": {},
   "source": [
    "Der Separator der csv-Datei ist ein Komma.\n",
    "Damit Namen, die selbst den Separator enthalten, beim Einlesen der csv-Datei nicht falsch aufgeteilt werden, müssen sie mit besonderen Zeichen umgeben werden, die signalisieren, dass der Separator innerhalb der gekennzeichneten Zeichenkette ignoriert werden soll.\n",
    "Diese besonderen Zeichen sind im hiesigen Fall die (doppelten) Anführungsstriche."
   ]
  }
 ],
 "metadata": {
  "kernelspec": {
   "display_name": "Python 3",
   "language": "python",
   "name": "python3"
  },
  "language_info": {
   "codemirror_mode": {
    "name": "ipython",
    "version": 3
   },
   "file_extension": ".py",
   "mimetype": "text/x-python",
   "name": "python",
   "nbconvert_exporter": "python",
   "pygments_lexer": "ipython3",
   "version": "3.6.3"
  }
 },
 "nbformat": 4,
 "nbformat_minor": 2
}
